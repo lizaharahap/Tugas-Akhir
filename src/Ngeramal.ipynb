{
 "cells": [
  {
   "cell_type": "code",
   "execution_count": 1,
   "metadata": {},
   "outputs": [],
   "source": [
    "import pandas as pd\n",
    "import numpy as np\n",
    "import re\n",
    "import pickle\n",
    "\n",
    "import matplotlib.pyplot as plt\n",
    "import seaborn as sns\n",
    "sns.set_style(\"whitegrid\")\n",
    "\n",
    "import nltk\n",
    "\n",
    "from sklearn.preprocessing import MinMaxScaler\n",
    "from sklearn.metrics import accuracy_score\n",
    "\n",
    "import warnings\n",
    "warnings.filterwarnings(\"ignore\")"
   ]
  },
  {
   "cell_type": "code",
   "execution_count": 2,
   "metadata": {},
   "outputs": [],
   "source": [
    "data_test_full = pd.read_csv(\"../Data/data_test_full.csv\")\n",
    "data_test_fiturtambahan = pd.read_csv(\"../Data/data_test_fiturtambahan.csv\")\n",
    "data_test_tfidf = pd.read_csv(\"../Data/data_test_tfidf.csv\")"
   ]
  },
  {
   "cell_type": "code",
   "execution_count": 4,
   "metadata": {},
   "outputs": [],
   "source": [
    "X_test_full = data_test_full.drop([\"K\", \"Temp\", \"MBTI\"],axis=1)\n",
    "y_test_full = data_test_full[\"K\"]\n",
    "\n",
    "X_test_fiturtambahan = data_test_fiturtambahan.drop([\"K\", \"Temp\"],axis=1)\n",
    "y_test_fiturtambahan = data_test_fiturtambahan[\"K\"]\n",
    "\n",
    "X_test_tfidf = data_test_tfidf.drop([\"K\", \"Temp\", \"MBTI\"],axis=1)\n",
    "y_test_tfidf = data_test_tfidf[\"K\"]"
   ]
  },
  {
   "cell_type": "markdown",
   "metadata": {},
   "source": [
    "# Full Features"
   ]
  },
  {
   "cell_type": "code",
   "execution_count": 5,
   "metadata": {},
   "outputs": [],
   "source": [
    "filename_knn = \"../Model/KNN_full.pkl\"\n",
    "filename_mnb = \"../Model/MNB_full.pkl\"\n",
    "filename_rf = \"../Model/RF_full.pkl\"\n",
    "filename_gb = \"../Model/GB_full.pkl\"\n",
    "filename_svm = \"../Model/SVM_full.pkl\""
   ]
  },
  {
   "cell_type": "code",
   "execution_count": 7,
   "metadata": {},
   "outputs": [],
   "source": [
    "model = pickle.load(open(filename_knn, 'rb'))\n",
    "pred_knn_full = model.predict(X_test_full)\n",
    "\n",
    "model = pickle.load(open(filename_mnb, 'rb'))\n",
    "pred_mnb_full = model.predict(X_test_full)\n",
    "\n",
    "model = pickle.load(open(filename_rf, 'rb'))\n",
    "pred_rf_full = model.predict(X_test_full)\n",
    "\n",
    "model = pickle.load(open(filename_gb, 'rb'))\n",
    "pred_gb_full = model.predict(X_test_full)\n",
    "\n",
    "#model = pickle.load(open(filename_svm, 'rb'))\n",
    "#pred_svm_full = model.predict(X_test_full)"
   ]
  },
  {
   "cell_type": "code",
   "execution_count": 9,
   "metadata": {},
   "outputs": [],
   "source": [
    "acc_knn_full = accuracy_score(y_test_full,pred_knn_full)\n",
    "acc_mnb_full = accuracy_score(y_test_full,pred_mnb_full)\n",
    "acc_rf_full = accuracy_score(y_test_full,pred_rf_full)\n",
    "acc_gb_full = accuracy_score(y_test_full,pred_gb_full)\n",
    "#acc_svm_full = accuracy_score(y_test_full,pred_svm_full)"
   ]
  },
  {
   "cell_type": "code",
   "execution_count": 10,
   "metadata": {},
   "outputs": [
    {
     "name": "stdout",
     "output_type": "stream",
     "text": [
      "Accuracy for full features : \n",
      "KNN :  0.26666666666666666\n",
      "MNB :  0.2\n",
      "RF :  0.6\n",
      "GB :  0.3333333333333333\n"
     ]
    }
   ],
   "source": [
    "print(\"Accuracy for full features : \")\n",
    "print(\"KNN : \", acc_knn_full)\n",
    "print(\"MNB : \", acc_mnb_full)\n",
    "print(\"RF : \", acc_rf_full)\n",
    "print(\"GB : \", acc_gb_full)\n",
    "#print(\"SVM : \", acc_svm_full)"
   ]
  },
  {
   "cell_type": "markdown",
   "metadata": {},
   "source": [
    "# TF IDF"
   ]
  },
  {
   "cell_type": "code",
   "execution_count": 11,
   "metadata": {},
   "outputs": [],
   "source": [
    "filename_knn = \"../Model/KNN_tfidf.pkl\"\n",
    "filename_mnb = \"../Model/MNB_tfidf.pkl\"\n",
    "filename_rf = \"../Model/RF_tfidf.pkl\"\n",
    "filename_gb = \"../Model/GB_tfidf.pkl\""
   ]
  },
  {
   "cell_type": "code",
   "execution_count": 12,
   "metadata": {},
   "outputs": [],
   "source": [
    "model = pickle.load(open(filename_knn, 'rb'))\n",
    "pred_knn_tfidf = model.predict(X_test_tfidf)\n",
    "\n",
    "model = pickle.load(open(filename_mnb, 'rb'))\n",
    "pred_mnb_tfidf = model.predict(X_test_tfidf)\n",
    "\n",
    "model = pickle.load(open(filename_rf, 'rb'))\n",
    "pred_rf_tfidf = model.predict(X_test_tfidf)\n",
    "\n",
    "model = pickle.load(open(filename_gb, 'rb'))\n",
    "pred_gb_tfidf = model.predict(X_test_tfidf)"
   ]
  },
  {
   "cell_type": "code",
   "execution_count": 13,
   "metadata": {},
   "outputs": [],
   "source": [
    "acc_knn_tfidf = accuracy_score(y_test_tfidf,pred_knn_tfidf)\n",
    "acc_mnb_tfidf = accuracy_score(y_test_tfidf,pred_mnb_tfidf)\n",
    "acc_rf_tfidf = accuracy_score(y_test_tfidf,pred_rf_tfidf)\n",
    "acc_gb_tfidf = accuracy_score(y_test_tfidf,pred_gb_tfidf)"
   ]
  },
  {
   "cell_type": "code",
   "execution_count": 14,
   "metadata": {},
   "outputs": [
    {
     "name": "stdout",
     "output_type": "stream",
     "text": [
      "Accuracy for tfidf features : \n",
      "KNN :  0.2\n",
      "MNB :  0.26666666666666666\n",
      "RF :  0.6\n",
      "GB :  0.13333333333333333\n"
     ]
    }
   ],
   "source": [
    "print(\"Accuracy for tfidf features : \")\n",
    "print(\"KNN : \", acc_knn_tfidf)\n",
    "print(\"MNB : \", acc_mnb_tfidf)\n",
    "print(\"RF : \", acc_rf_tfidf)\n",
    "print(\"GB : \", acc_gb_tfidf)"
   ]
  },
  {
   "cell_type": "markdown",
   "metadata": {},
   "source": [
    "# Fitur Tambahan"
   ]
  },
  {
   "cell_type": "code",
   "execution_count": 15,
   "metadata": {},
   "outputs": [],
   "source": [
    "filename_knn = \"../Model/KNN_fiturtambahan.pkl\"\n",
    "filename_mnb = \"../Model/MNB_fiturtambahan.pkl\"\n",
    "filename_rf = \"../Model/RF_fiturtambahan.pkl\"\n",
    "filename_gb = \"../Model/GB_fiturtambahan.pkl\""
   ]
  },
  {
   "cell_type": "code",
   "execution_count": 16,
   "metadata": {},
   "outputs": [],
   "source": [
    "model = pickle.load(open(filename_knn, 'rb'))\n",
    "pred_knn_fiturtambahan = model.predict(X_test_fiturtambahan)\n",
    "\n",
    "model = pickle.load(open(filename_mnb, 'rb'))\n",
    "pred_mnb_fiturtambahan = model.predict(X_test_fiturtambahan)\n",
    "\n",
    "model = pickle.load(open(filename_rf, 'rb'))\n",
    "pred_rf_fiturtambahan = model.predict(X_test_fiturtambahan)\n",
    "\n",
    "model = pickle.load(open(filename_gb, 'rb'))\n",
    "pred_gb_fiturtambahan = model.predict(X_test_fiturtambahan)"
   ]
  },
  {
   "cell_type": "code",
   "execution_count": 17,
   "metadata": {},
   "outputs": [],
   "source": [
    "acc_knn_fiturtambahan = accuracy_score(y_test_fiturtambahan,pred_knn_fiturtambahan)\n",
    "acc_mnb_fiturtambahan = accuracy_score(y_test_fiturtambahan,pred_mnb_fiturtambahan)\n",
    "acc_rf_fiturtambahan = accuracy_score(y_test_fiturtambahan,pred_rf_fiturtambahan)\n",
    "acc_gb_fiturtambahan = accuracy_score(y_test_fiturtambahan,pred_gb_fiturtambahan)"
   ]
  },
  {
   "cell_type": "code",
   "execution_count": 18,
   "metadata": {},
   "outputs": [
    {
     "name": "stdout",
     "output_type": "stream",
     "text": [
      "Accuracy for fiturtambahan features : \n",
      "KNN :  0.26666666666666666\n",
      "MNB :  0.13333333333333333\n",
      "RF :  0.13333333333333333\n",
      "GB :  0.06666666666666667\n"
     ]
    }
   ],
   "source": [
    "print(\"Accuracy for fiturtambahan features : \")\n",
    "print(\"KNN : \", acc_knn_fiturtambahan)\n",
    "print(\"MNB : \", acc_mnb_fiturtambahan)\n",
    "print(\"RF : \", acc_rf_fiturtambahan)\n",
    "print(\"GB : \", acc_gb_fiturtambahan)"
   ]
  },
  {
   "cell_type": "code",
   "execution_count": null,
   "metadata": {},
   "outputs": [],
   "source": []
  }
 ],
 "metadata": {
  "kernelspec": {
   "display_name": "Python 3",
   "language": "python",
   "name": "python3"
  },
  "language_info": {
   "codemirror_mode": {
    "name": "ipython",
    "version": 3
   },
   "file_extension": ".py",
   "mimetype": "text/x-python",
   "name": "python",
   "nbconvert_exporter": "python",
   "pygments_lexer": "ipython3",
   "version": "3.7.2"
  }
 },
 "nbformat": 4,
 "nbformat_minor": 2
}
