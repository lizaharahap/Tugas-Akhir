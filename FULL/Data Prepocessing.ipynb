{
 "cells": [
  {
   "cell_type": "code",
   "execution_count": 1,
   "metadata": {},
   "outputs": [],
   "source": [
    "import pandas as pd\n",
    "import numpy as np\n",
    "import re\n",
    "import nltk\n",
    "from nltk import word_tokenize\n",
    "from Sastrawi.Stemmer.StemmerFactory import StemmerFactory\n",
    "from nltk.corpus import stopwords\n",
    "from nltk.stem import WordNetLemmatizer\n",
    "from sklearn.feature_extraction.text import TfidfVectorizer\n",
    "from sklearn.model_selection import train_test_split"
   ]
  },
  {
   "cell_type": "code",
   "execution_count": 2,
   "metadata": {},
   "outputs": [
    {
     "data": {
      "text/html": [
       "<div>\n",
       "<style scoped>\n",
       "    .dataframe tbody tr th:only-of-type {\n",
       "        vertical-align: middle;\n",
       "    }\n",
       "\n",
       "    .dataframe tbody tr th {\n",
       "        vertical-align: top;\n",
       "    }\n",
       "\n",
       "    .dataframe thead th {\n",
       "        text-align: right;\n",
       "    }\n",
       "</style>\n",
       "<table border=\"1\" class=\"dataframe\">\n",
       "  <thead>\n",
       "    <tr style=\"text-align: right;\">\n",
       "      <th></th>\n",
       "      <th>Akun Twitter</th>\n",
       "      <th>Tweet</th>\n",
       "      <th>MBTI</th>\n",
       "      <th>Temp</th>\n",
       "      <th>Following</th>\n",
       "      <th>Followers</th>\n",
       "      <th>Jumlah tweet</th>\n",
       "      <th>introvert</th>\n",
       "      <th>extrovert</th>\n",
       "      <th>sensing</th>\n",
       "      <th>intuitive</th>\n",
       "      <th>feeling</th>\n",
       "      <th>thinking</th>\n",
       "      <th>judging</th>\n",
       "      <th>perceiving</th>\n",
       "    </tr>\n",
       "  </thead>\n",
       "  <tbody>\n",
       "    <tr>\n",
       "      <th>0</th>\n",
       "      <td>Abdurrachman181</td>\n",
       "      <td>Bisa aje bapak wkwkwkwk. Yuk pak kayaknya ini...</td>\n",
       "      <td>ESFP</td>\n",
       "      <td>Melankolis</td>\n",
       "      <td>396</td>\n",
       "      <td>356</td>\n",
       "      <td>15500</td>\n",
       "      <td>0</td>\n",
       "      <td>1</td>\n",
       "      <td>1</td>\n",
       "      <td>0</td>\n",
       "      <td>1</td>\n",
       "      <td>0</td>\n",
       "      <td>0</td>\n",
       "      <td>1</td>\n",
       "    </tr>\n",
       "    <tr>\n",
       "      <th>1</th>\n",
       "      <td>abenksepeda</td>\n",
       "      <td>Throwback pic.twitter.com/IxDTb7zydF Bro fork...</td>\n",
       "      <td>ISTJ</td>\n",
       "      <td>Koleris</td>\n",
       "      <td>164</td>\n",
       "      <td>835</td>\n",
       "      <td>3277</td>\n",
       "      <td>1</td>\n",
       "      <td>0</td>\n",
       "      <td>1</td>\n",
       "      <td>0</td>\n",
       "      <td>0</td>\n",
       "      <td>1</td>\n",
       "      <td>1</td>\n",
       "      <td>0</td>\n",
       "    </tr>\n",
       "    <tr>\n",
       "      <th>2</th>\n",
       "      <td>admiralabdullah</td>\n",
       "      <td>MonKaS https://www.cnnindonesia.com/ekonomi/2...</td>\n",
       "      <td>ESTP</td>\n",
       "      <td>Sanguinis</td>\n",
       "      <td>314</td>\n",
       "      <td>315</td>\n",
       "      <td>842</td>\n",
       "      <td>0</td>\n",
       "      <td>1</td>\n",
       "      <td>1</td>\n",
       "      <td>0</td>\n",
       "      <td>0</td>\n",
       "      <td>1</td>\n",
       "      <td>0</td>\n",
       "      <td>1</td>\n",
       "    </tr>\n",
       "    <tr>\n",
       "      <th>3</th>\n",
       "      <td>alyasuwandi</td>\n",
       "      <td>Semoga Allah segera menyatukn langkahku &amp; lan...</td>\n",
       "      <td>ENFP</td>\n",
       "      <td>Sanguinis</td>\n",
       "      <td>809</td>\n",
       "      <td>221</td>\n",
       "      <td>95</td>\n",
       "      <td>0</td>\n",
       "      <td>1</td>\n",
       "      <td>0</td>\n",
       "      <td>1</td>\n",
       "      <td>1</td>\n",
       "      <td>0</td>\n",
       "      <td>0</td>\n",
       "      <td>1</td>\n",
       "    </tr>\n",
       "    <tr>\n",
       "      <th>4</th>\n",
       "      <td>amaliaaaptr</td>\n",
       "      <td>Aww syg bgt ðŸ–¤ Besok tgl 15 kak, kn hr ini ...</td>\n",
       "      <td>ISFP</td>\n",
       "      <td>Melankolis</td>\n",
       "      <td>158</td>\n",
       "      <td>61</td>\n",
       "      <td>371</td>\n",
       "      <td>1</td>\n",
       "      <td>0</td>\n",
       "      <td>1</td>\n",
       "      <td>0</td>\n",
       "      <td>1</td>\n",
       "      <td>0</td>\n",
       "      <td>0</td>\n",
       "      <td>1</td>\n",
       "    </tr>\n",
       "  </tbody>\n",
       "</table>\n",
       "</div>"
      ],
      "text/plain": [
       "      Akun Twitter                                              Tweet  MBTI  \\\n",
       "0  Abdurrachman181   Bisa aje bapak wkwkwkwk. Yuk pak kayaknya ini...  ESFP   \n",
       "1      abenksepeda   Throwback pic.twitter.com/IxDTb7zydF Bro fork...  ISTJ   \n",
       "2  admiralabdullah   MonKaS https://www.cnnindonesia.com/ekonomi/2...  ESTP   \n",
       "3      alyasuwandi   Semoga Allah segera menyatukn langkahku & lan...  ENFP   \n",
       "4      amaliaaaptr   Aww syg bgt ðŸ–¤ Besok tgl 15 kak, kn hr ini ...  ISFP   \n",
       "\n",
       "         Temp  Following  Followers  Jumlah tweet  introvert  extrovert  \\\n",
       "0  Melankolis        396        356         15500          0          1   \n",
       "1     Koleris        164        835          3277          1          0   \n",
       "2   Sanguinis        314        315           842          0          1   \n",
       "3   Sanguinis        809        221            95          0          1   \n",
       "4  Melankolis        158         61           371          1          0   \n",
       "\n",
       "   sensing  intuitive  feeling  thinking  judging  perceiving  \n",
       "0        1          0        1         0        0           1  \n",
       "1        1          0        0         1        1           0  \n",
       "2        1          0        0         1        0           1  \n",
       "3        0          1        1         0        0           1  \n",
       "4        1          0        1         0        0           1  "
      ]
     },
     "execution_count": 2,
     "metadata": {},
     "output_type": "execute_result"
    }
   ],
   "source": [
    "data = pd.read_excel(\"dataset.xlsx\").drop(['Unnamed: 0'],axis=1)\n",
    "data.head()"
   ]
  },
  {
   "cell_type": "markdown",
   "metadata": {},
   "source": [
    "## Prepocessing "
   ]
  },
  {
   "cell_type": "markdown",
   "metadata": {},
   "source": [
    "#### 1. Menghilangkan Simbol Khusus "
   ]
  },
  {
   "cell_type": "code",
   "execution_count": 3,
   "metadata": {},
   "outputs": [],
   "source": [
    "def cleaning(data):\n",
    "    data['Tweet_Parsed1'] = data['Tweet'].str.replace(\"\\\\\\\\r\", \" \")\n",
    "    data['Tweet_Parsed1'] = data['Tweet_Parsed1'].str.replace(\"\\\\\\\\n\", \" \")\n",
    "    data['Tweet_Parsed1'] = data['Tweet'].str.replace(\"\\r\", \" \")\n",
    "    data['Tweet_Parsed1'] = data['Tweet_Parsed1'].str.replace(\"\\n\", \" \")\n",
    "    data['Tweet_Parsed1'] = data['Tweet_Parsed1'].str.replace(\"     \", \" \")\n",
    "    data['Tweet_Parsed1'] = data['Tweet_Parsed1'].str.replace('\"', '')\n",
    "    data['Tweet_Parsed1'] = data['Tweet_Parsed1'].str.replace(\"\\\\\\\\x[a-zA-Z0-9][a-zA-Z0-9]\", \" \")\n",
    "    data['Tweet_Parsed1'] = data['Tweet_Parsed1'].str.replace(\"&amp\", \" \")\n",
    "    data['Tweet_Parsed1'] = data['Tweet_Parsed1'].str.replace(\"&yt\", \" \")\n",
    "    data['Tweet_Parsed1'] = data['Tweet_Parsed1'].str.replace(r'''(?i)\\b((?:https|http?://|www\\d{0,3}[.]|[a-z0-9.\\-]+[.][a-z]{2,4}/)(?:[^\\s()<>]+|\\(([^\\s()<>]+|(\\([^\\s()<>]+\\)))*\\))+(?:\\(([^\\s()<>]+|(\\([^\\s()<>]+\\)))*\\)|[^\\s`!()\\[\\]{};:'\".,<>?«»“”‘’]))''', \" \")\n",
    "    return data"
   ]
  },
  {
   "cell_type": "code",
   "execution_count": 4,
   "metadata": {},
   "outputs": [],
   "source": [
    "data = cleaning(data)"
   ]
  },
  {
   "cell_type": "markdown",
   "metadata": {},
   "source": [
    "#### 2. Case Folding (Lowercase) "
   ]
  },
  {
   "cell_type": "code",
   "execution_count": 5,
   "metadata": {},
   "outputs": [],
   "source": [
    "def lowercase(data):\n",
    "    data['Tweet_Parsed2'] = data['Tweet_Parsed1'].str.lower()\n",
    "    return data"
   ]
  },
  {
   "cell_type": "code",
   "execution_count": 6,
   "metadata": {},
   "outputs": [],
   "source": [
    "data = lowercase(data)"
   ]
  },
  {
   "cell_type": "markdown",
   "metadata": {},
   "source": [
    "#### 3. Menghapus Simbol "
   ]
  },
  {
   "cell_type": "code",
   "execution_count": 7,
   "metadata": {},
   "outputs": [],
   "source": [
    "def removepunctuation(data):\n",
    "    signs = list(\"?><.,:';}{][|+=_-)(*&^%$#@!~`\")\n",
    "    data['Tweet_Parsed3'] = data['Tweet_Parsed2']\n",
    "    for punct_sign in signs:\n",
    "        data['Tweet_Parsed3'] = data['Tweet_Parsed3'].str.replace(punct_sign, ' ')\n",
    "    return data"
   ]
  },
  {
   "cell_type": "code",
   "execution_count": 8,
   "metadata": {},
   "outputs": [],
   "source": [
    "data = removepunctuation(data)"
   ]
  },
  {
   "cell_type": "markdown",
   "metadata": {},
   "source": [
    "#### 4. Normalisasi Kata "
   ]
  },
  {
   "cell_type": "code",
   "execution_count": 9,
   "metadata": {},
   "outputs": [
    {
     "data": {
      "text/html": [
       "<div>\n",
       "<style scoped>\n",
       "    .dataframe tbody tr th:only-of-type {\n",
       "        vertical-align: middle;\n",
       "    }\n",
       "\n",
       "    .dataframe tbody tr th {\n",
       "        vertical-align: top;\n",
       "    }\n",
       "\n",
       "    .dataframe thead th {\n",
       "        text-align: right;\n",
       "    }\n",
       "</style>\n",
       "<table border=\"1\" class=\"dataframe\">\n",
       "  <thead>\n",
       "    <tr style=\"text-align: right;\">\n",
       "      <th></th>\n",
       "      <th>tidak baku</th>\n",
       "      <th>baku</th>\n",
       "    </tr>\n",
       "  </thead>\n",
       "  <tbody>\n",
       "    <tr>\n",
       "      <th>0</th>\n",
       "      <td>3k</td>\n",
       "      <td>tiga ribu</td>\n",
       "    </tr>\n",
       "    <tr>\n",
       "      <th>1</th>\n",
       "      <td>aaaaaaaaaa</td>\n",
       "      <td>a</td>\n",
       "    </tr>\n",
       "    <tr>\n",
       "      <th>2</th>\n",
       "      <td>aaaaaaaaaaaaaarrrrrrrrrrgggggggggghhhhhhhhhhhh</td>\n",
       "      <td>argh</td>\n",
       "    </tr>\n",
       "    <tr>\n",
       "      <th>3</th>\n",
       "      <td>aadc</td>\n",
       "      <td>ada apa dengan cinta</td>\n",
       "    </tr>\n",
       "    <tr>\n",
       "      <th>4</th>\n",
       "      <td>abal2an</td>\n",
       "      <td>abal abalan</td>\n",
       "    </tr>\n",
       "  </tbody>\n",
       "</table>\n",
       "</div>"
      ],
      "text/plain": [
       "                                       tidak baku                  baku\n",
       "0                                              3k             tiga ribu\n",
       "1                                      aaaaaaaaaa                     a\n",
       "2  aaaaaaaaaaaaaarrrrrrrrrrgggggggggghhhhhhhhhhhh                  argh\n",
       "3                                            aadc  ada apa dengan cinta\n",
       "4                                         abal2an           abal abalan"
      ]
     },
     "execution_count": 9,
     "metadata": {},
     "output_type": "execute_result"
    }
   ],
   "source": [
    "KamusTidakBaku = pd.read_excel(\"KamusTidakBaku.xlsx\", header=None,names=[\"tidak baku\", \"baku\"])\n",
    "KamusTidakBaku.head()"
   ]
  },
  {
   "cell_type": "code",
   "execution_count": 10,
   "metadata": {},
   "outputs": [
    {
     "data": {
      "text/plain": [
       "(1332, 2)"
      ]
     },
     "execution_count": 10,
     "metadata": {},
     "output_type": "execute_result"
    }
   ],
   "source": [
    "KamusTidakBaku.shape"
   ]
  },
  {
   "cell_type": "code",
   "execution_count": 11,
   "metadata": {},
   "outputs": [],
   "source": [
    "tdkBaku = KamusTidakBaku['tidak baku'].values.tolist()\n",
    "baku = KamusTidakBaku['baku'].values.tolist()"
   ]
  },
  {
   "cell_type": "code",
   "execution_count": 12,
   "metadata": {},
   "outputs": [],
   "source": [
    "def normalizetext(data, baku, tdkBaku):\n",
    "    data['Tweet_Parsed4'] = data['Tweet_Parsed3']\n",
    "    for idx1, tweet in enumerate(data['Tweet_Parsed4']):\n",
    "        resultsplit = tweet.split()\n",
    "        for idx2, splittweet in enumerate(resultsplit):\n",
    "            for idx3, word in enumerate(tdkBaku):\n",
    "                if splittweet == word:\n",
    "                    resultsplit[idx2] = baku[idx3]\n",
    "        data['Tweet_Parsed4'][idx1] =  \" \".join(resultsplit)\n",
    "    return data"
   ]
  },
  {
   "cell_type": "code",
   "execution_count": 13,
   "metadata": {},
   "outputs": [
    {
     "name": "stderr",
     "output_type": "stream",
     "text": [
      "c:\\users\\lizah\\appdata\\local\\programs\\python\\python37-32\\lib\\site-packages\\ipykernel_launcher.py:9: SettingWithCopyWarning: \n",
      "A value is trying to be set on a copy of a slice from a DataFrame\n",
      "\n",
      "See the caveats in the documentation: http://pandas.pydata.org/pandas-docs/stable/indexing.html#indexing-view-versus-copy\n",
      "  if __name__ == '__main__':\n"
     ]
    }
   ],
   "source": [
    "data = normalizetext(data, baku, tdkBaku)"
   ]
  },
  {
   "cell_type": "code",
   "execution_count": 14,
   "metadata": {},
   "outputs": [
    {
     "data": {
      "text/plain": [
       "'semoga allah segera menyatukan langkahku langkahmu untuk segera beriringan selamanya aamiin ya robbi permudahkanlah langkah kaki ini untuk menemukan pasangannya agar langkah kami berdua sejalan satu tujuan menunggu adalah hal yang paling membosankan sob siapa yang tau bagaimana waktu menunggu biar tidak membosankan kasih tau dong aku tidak ingin memaksa andai kau pertahankan sikap prinsipmu itu biarkanlah aku tetap begini adanya cobalah kau mengerti keadaanku aku hanya menginginkan kau mengerti apakah selamanya kau akan terus begini jawaban itu ada percaya diri dirimu aku sadar diri ini lemah aku sadar diri ini penuh dengan kkurangan perhatian pengertian dirimu lah mampu membuat aku kuat juga dapat mnutipi kkurangnku bila benar engkau mengharapkan kehadiranku disisimu tolong mengertilah aku jihadabul halooo aku adalah aku karena aku tidak dapat dirubah seperti orang lain beginilah aku apa adanya sentuhlah dia wahau angin malam wahai angin belailah dia agar dia dapat merasakan seperti apa yang aku rasakan wahai malam sampaikanlah rada rindu ku padanya aku tau dia pun disana merindukan kehadiranku aku tau dia pun tidak sabar menanti kedatanganku tank yah selamat beraktifitas kembali bankyokz selamat pagi jum at mubarok bagaimana kabarnya ayo sob kita belajar berdahabat dengan hati karena hati senantiasa jujur andreprasetya alhamdulillah baik maaf lat blsnya akhmadsyafii54 alhamdulillah baku bail soob maaf telat bls ini untuk mencinta aku hanya butuh keihlasan ketulusan bukan jabatan harta melangkah untuk menapaki jalan kehidupan yang hakiki menggapai ridho cinta illahi bebas baca lagi di android dan ipad dengan universal login â€¦ lewat wayangforce ooyanasib hallooo sitisholehaha hai herisakty halloooo fitrirufifa hai sob bankyokz halloooo akhmadsyafii54 he saya jgcjjo thai soooob ariefyudha84 haloo bagaimana kabarnya ardian dwiki hai sob bagaimana kabarnya andreprasetya1 hai bagaimana kabarnya setiap mahluk yang bernyawa pasti kan menemui maut televisi dalam sorotan â€¦ lewat muslimindo andreprasetya1 hei maaf telat ini tank you kan ada nama aku toooo nadineshaskya asalamualaikum wr wb selamat malam bagaimana kabarnya ini edy ris walaikumsalam wr wb maaf br sempat bls happy birthday jarang buka tweet sih ya rob mudahkanlah urusan dunia ahiratku hamba sadar diri ini lemah takberarti apa tanpa kuasa campurtangan mu aku mohon bimbinglah hamba dalam menggapai cinta hakiki mu ya rob ya allah ijinkan aku mencintainya hingga mau yang memisahkan kita ya robi aturlah kaki ini agar berpijak teratur menurut kuasa kehendak mu satukanlah langkahku langkahnya untuk beriringan sjalan akankah hidup kita bermakna bila kita hanya diam tanpa berbuat sesuatu kesuksean akan lebik berkah bermanfaat bila kita barengi dengn rasa syukur syawal mubarok hitamputihid wanita ingin dicintai tanpa sebuah alasan bukan karena mereka cantik atau baik atau pintar namun karena mereka adalah mereka andai engkau masih mengizinkan kami berdua untuk brtemu saling mlengkapi ya rob ridhoilah kamu saja 2 sgera berdampingan dalam mngarungi khidupn ini bismilahitawaqaltu allaullah aku langkahkan kaki inu untuk menuju ridho ampunan mu ya rob aku mohon lindunggilah disetiap langkah ini edy ris iya sama banget pun aku mohon maaf untuk srmua slh khilafku salam ini selamat hari raya iedul fitri taqabalalullahu minkum edy ris bankyokz iya sama salam kendal dari ku edy ris aamiin semoga saja kt trmsuk hamba yang semantiasa bersukur dalam keadaan apapum fitnah arab saudi akan menggusur makam nabi â€¦ siapakah sahabat rasulullah yang dimandikan oleh malaikat â€¦ selamat siang sahabatku srmuanya gabrielacuisine tank you frn hr you budgeterrific tank you ya allah ya tuhanku aku mohon percaya diri mu suksesknlh oprsinya plihknlh ksrhatanya izinkan dia hdup sehat sgera stuknlh kami untuk agra brdmpingn asalamualaikum wr wb selamat pagi sahabat tweeterku semua selamat menunaikan ibadah puasa maudy ayunda maudy ayunda selesaikan video klip cinta datang trlambat â€¦ awal ramadan muhammadiyah selasa 9 â€¦ kita sambut bulan yang penuh rahmat dengan ihlas penuh dengan suka cita ramadhan adalh bln yang dinanti setiap muslim diseluruh penjuru dunia marhaban ya ramadhan marhaban ya ramadhan sedara muslimku dmnpun brada slmat menunaikan ibadah pusa alhmdll kt masih dberi kesempatn ya robi kumphlkanlah hamba dengan hambamu yang soleh selamat senantiasa berafs percaya diri jln yang benar lagi selamat agar bacaan al qur an lebih menyentuh hati â€¦ mimdai renungkanlah wahai saudaraku â™«â€¢ â¨ â€¢ â¸â¸ï·²â¸â¸ â€¢ â¨ â€¢â™«â™¥â™¥â™¥â™¥â™¥â™¥â™«â€¢ â¨â€¢ â¨ â€¢â™«â™¥â™¥â™¥â™¥â™¥â™¥â™¥â™¥â™¥â™¥ sadarlah wahai orang yang tertipu hamba sadar diri ini kecil lemah takberdaya tanpa kusa campurtangan mu tuhan hamba percaya drtiap musibah kan ada hikmah yang hakiki aku adalah aku dalam arti aku tidak dapat dirubah seperti orang lain kecuali atad kehendakku sendiri untuk metobahnya aku tau tihan masih akan terus mengujketabahn ksbrnku dalam mnghadapi segala ujiannya untuk mwujutkn apa yang aku hrapkn disetiap do a aku sll memohon yang terbaik dalam hidupku tapi tuhan tidak langsung mengabulkannya mlh tuhan memberikan musibah yang datang silih berganti midotcom daud yordan juara dunia iba andai engkau masih mengizinkan kami berdua untuk brtemu saling mlengkapi ya rob ridhoilah kamu saja 2 sgera berdampingan dalam mngarungi khidupn ini jika engkau izinkn menikmati kehidupn dunia mk aku mohon pulihkanlah kesehatan dia untuk memjalani hidup dengan kesyukurn mu ya allah jika engkau ingin mengambil nya maka ambillah dia dengan cara yang engkau ridhoi dan ambilah dalam keadaan khusnul khotimah aamiin dari semula hingga detik ini aku masih menyinta selamat siang semuanya sob et istirahat saja yah'"
      ]
     },
     "execution_count": 14,
     "metadata": {},
     "output_type": "execute_result"
    }
   ],
   "source": [
    "data['Tweet_Parsed4'][3]"
   ]
  },
  {
   "cell_type": "markdown",
   "metadata": {},
   "source": [
    "#### 5. Menghapus Angka "
   ]
  },
  {
   "cell_type": "code",
   "execution_count": 15,
   "metadata": {},
   "outputs": [],
   "source": [
    "def remove_num(data):\n",
    "    num = list(\"0987654321\")\n",
    "    data['Tweet_Parsed5'] = data['Tweet_Parsed4']\n",
    "    for number in num:\n",
    "        data['Tweet_Parsed5'] = data['Tweet_Parsed5'].str.replace(number, ' ')\n",
    "    return data"
   ]
  },
  {
   "cell_type": "code",
   "execution_count": 16,
   "metadata": {},
   "outputs": [],
   "source": [
    "data = remove_num(data)"
   ]
  },
  {
   "cell_type": "markdown",
   "metadata": {},
   "source": [
    "#### 6. Stemming & Lemmatization "
   ]
  },
  {
   "cell_type": "code",
   "execution_count": 17,
   "metadata": {},
   "outputs": [],
   "source": [
    "factory = StemmerFactory()\n",
    "stemmer_id = factory.create_stemmer()\n",
    "lemma_en = WordNetLemmatizer()"
   ]
  },
  {
   "cell_type": "code",
   "execution_count": 18,
   "metadata": {},
   "outputs": [],
   "source": [
    "def stemming(data, stemmer_id, stemmer_en):\n",
    "    data['Tweet_Parsed6'] = data['Tweet_Parsed5']\n",
    "    for idx in range(len(data['Tweet_Parsed6'])):\n",
    "        data['Tweet_Parsed6'][idx] = stemmer_id.stem(data['Tweet_Parsed6'][idx])\n",
    "        data['Tweet_Parsed6'][idx] = lemma_en.lemmatize(data['Tweet_Parsed6'][idx], pos=\"v\")\n",
    "    return data"
   ]
  },
  {
   "cell_type": "code",
   "execution_count": 19,
   "metadata": {},
   "outputs": [
    {
     "name": "stderr",
     "output_type": "stream",
     "text": [
      "[nltk_data] Downloading package wordnet to\n",
      "[nltk_data]     C:\\Users\\lizah\\AppData\\Roaming\\nltk_data...\n",
      "[nltk_data]   Package wordnet is already up-to-date!\n"
     ]
    },
    {
     "data": {
      "text/plain": [
       "True"
      ]
     },
     "execution_count": 19,
     "metadata": {},
     "output_type": "execute_result"
    }
   ],
   "source": [
    "nltk.download('wordnet')"
   ]
  },
  {
   "cell_type": "code",
   "execution_count": 20,
   "metadata": {},
   "outputs": [
    {
     "name": "stderr",
     "output_type": "stream",
     "text": [
      "c:\\users\\lizah\\appdata\\local\\programs\\python\\python37-32\\lib\\site-packages\\ipykernel_launcher.py:4: SettingWithCopyWarning: \n",
      "A value is trying to be set on a copy of a slice from a DataFrame\n",
      "\n",
      "See the caveats in the documentation: http://pandas.pydata.org/pandas-docs/stable/indexing.html#indexing-view-versus-copy\n",
      "  after removing the cwd from sys.path.\n",
      "c:\\users\\lizah\\appdata\\local\\programs\\python\\python37-32\\lib\\site-packages\\ipykernel_launcher.py:5: SettingWithCopyWarning: \n",
      "A value is trying to be set on a copy of a slice from a DataFrame\n",
      "\n",
      "See the caveats in the documentation: http://pandas.pydata.org/pandas-docs/stable/indexing.html#indexing-view-versus-copy\n",
      "  \"\"\"\n"
     ]
    }
   ],
   "source": [
    "data = stemming(data, stemmer_id, lemma_en)"
   ]
  },
  {
   "cell_type": "markdown",
   "metadata": {},
   "source": [
    "#### 7. Menghilangkan Stopwords "
   ]
  },
  {
   "cell_type": "code",
   "execution_count": 21,
   "metadata": {},
   "outputs": [
    {
     "name": "stderr",
     "output_type": "stream",
     "text": [
      "[nltk_data] Downloading package stopwords to\n",
      "[nltk_data]     C:\\Users\\lizah\\AppData\\Roaming\\nltk_data...\n",
      "[nltk_data]   Package stopwords is already up-to-date!\n"
     ]
    },
    {
     "data": {
      "text/plain": [
       "True"
      ]
     },
     "execution_count": 21,
     "metadata": {},
     "output_type": "execute_result"
    }
   ],
   "source": [
    "nltk.download('stopwords')"
   ]
  },
  {
   "cell_type": "code",
   "execution_count": 22,
   "metadata": {},
   "outputs": [],
   "source": [
    "stop_words = list(stopwords.words('indonesian'))\n",
    "stop_words.extend(list(stopwords.words('english')))\n",
    "stop_words.extend(['url', 'rt', 'retweet', 'nih', 'nya', 'sih', 'ya'])"
   ]
  },
  {
   "cell_type": "code",
   "execution_count": 23,
   "metadata": {},
   "outputs": [],
   "source": [
    "def removestopword(data, stopwordss):\n",
    "    data['Tweet_Parsed7'] = data['Tweet_Parsed6']\n",
    "    for stopword in stopwordss:\n",
    "        regex_stopword = r\"\\b\" + stopword + r\"\\b\"\n",
    "        data['Tweet_Parsed7'] = data['Tweet_Parsed7'].str.replace(regex_stopword, '')\n",
    "    return data"
   ]
  },
  {
   "cell_type": "code",
   "execution_count": 24,
   "metadata": {},
   "outputs": [],
   "source": [
    "data = removestopword(data, stop_words)"
   ]
  },
  {
   "cell_type": "markdown",
   "metadata": {},
   "source": [
    "#### 8. Menghilangkan Space Berlebih "
   ]
  },
  {
   "cell_type": "code",
   "execution_count": 25,
   "metadata": {},
   "outputs": [],
   "source": [
    "def cleanspace(Text):\n",
    "    textsplit = Text.split(' ')\n",
    "    textclean = [word for word in textsplit if word !='']\n",
    "    textclean_fix = ' '.join(map(str, textclean))\n",
    "    return textclean_fix\n",
    "\n",
    "def cleanspace_data(Data):\n",
    "    Data['Tweet_Parsed8'] = Data['Tweet_Parsed7']\n",
    "    Data['Tweet_Parsed8'] = Data['Tweet_Parsed8'].map(lambda text: cleanspace(text))\n",
    "    return Data"
   ]
  },
  {
   "cell_type": "code",
   "execution_count": 26,
   "metadata": {},
   "outputs": [],
   "source": [
    "data = cleanspace_data(data)"
   ]
  },
  {
   "cell_type": "markdown",
   "metadata": {},
   "source": [
    "### Preprocessing Result "
   ]
  },
  {
   "cell_type": "code",
   "execution_count": 27,
   "metadata": {},
   "outputs": [
    {
     "data": {
      "text/plain": [
       "' Throwback pic.twitter.com/IxDTb7zydF Bro fork alpina dijual ga? Insolenya brp cm ya mas? Sampe jugaa pic.twitter.com/uqKTpMbdlO @PosIndonesia tolong diperbaiki layanannya tlpn call center 161 status paket ada di kantor pos pusat lap.banteng . saya tlpn ke sana berkali2 ga diangkat giliran saya kesana, taunya paket lg dalam perjalanan sedangkan cek resi status gaberubah2 masih \"release by customs\" Nett om, free ongkir jabodetabek 32 atau 36 hole mas? 325rb mks sylvan,ckc,strap vp pic.twitter.com/tJaU0Jpmyv Brp nih mas Mas ws depannya msh ada? Msh ada? Pernah, suka sama pevita ah ga mungkin sama dia... Bernie sendernya Wts barang tidak terpakai - Wheelset mavic ellipse inc ban 5jt - Pedalset mks royal nuevo+starfuckers+strap sag 900rb - crankset miche 48t 1.5jt  Harga di atas nett ya kecuali crank bisa nego dikit 081220456883 Cod pasar minggu-sentul-cibinong Makasihh #fnfjb pic.twitter.com/4xliQB5ryN @bcpasarbaru @bravobeacukai min no resi RV327545733CN prosesnya udh sampe mana ya? Makasih  pic.twitter.com/mxaSSlyXlp Dulu2 kemana aja ya, giliran skrng banyak yg mulai b2w malah diribetin kaya gini Min cek dm hehe Ada di chainstay,fork,top tube Sticker pada masanya pic.twitter.com/J6wPyhcPBh Wadaawww banget harganya Bikin decal giro njs bisa ga bro? BB sugino 75 njs 109mm Minus dust cover gaada 450rb  081220456883  #fnfjb pic.twitter.com/7pRHWFXMeP Hahaha Min cek dm Crank ota sold #fnfjb https://twitter.com/abenksepeda/status/1224527535003684865Â\\xa0â€¦ Iya sama, kadang pake flazz jg gabisa Knalpot mio mberrr kita ready banyak pras Uler uler emg gabakal berubah  https://www.bukalapak.com/p/sepeda/drivetrain/pedal-476/2rzsot5-jual-pedalset-mks-royal-nuevo?utm_source=appsÂ\\xa0â€¦ Wts -Bb sg75 njs 450rb -Crank miche 48t 165mm 1.5jt -Crank otayava bcd144 46t 170mm 450rb -pedalset mks-ckc-strap vp 325rb minus pedal kiri tutupnya gaada -rolf vigor ban baru ganti 2.5jt -cog 15t bawaan aventon 100rb 081220456883, cod/direct trf (Free ongkir p.jawa) #fnfjb pic.twitter.com/TdC6K9Hp8V Clan aditya -adhitia sofyan -Jamie aditya -adityalogy -teddy adhitya Pasti pas malem2 ada malam muhasabah Ini msh ada mas? Nah mungkin thread diatas sebagian bener bro, tp lebih banyak yg di lebih2in Serius mba, pas awal2 pindah kerumah baru Tp kalo ditimpuk batu sama setan saya pernah ngerasain langsung mas Nitip Yang bener yang kaya gmn coba kasi tau, kayanya lo udh paling paham ni Kadang jco kalo gaada kembalian nukerin duitnya di breadtalk Awww Kekuatan 1 army bts = 2 navy seal kalo gasalah Nafsu pic.twitter.com/kxzMETde2Z tau banget ini Nah iya anggota dpr aja di ajak ketemuan, gimana ini yg ava nya rata2 foto idolnya Bikin konten sodara2 lg bang sama bang adiarta, seru ngeliat wibu2 macho Lah saya kira dia masih sd he he Besok2 ninja warrior adain di mrt Fear factor bang sekalian atau ninja warrior mantap Bang disitu lo gadapet hadiah ya makanya pegang mic doang Ada jg yg blm laku tp tiap menit iklannya muncul terus Bogor mas, cod ps.minggu jg bisa . Harga pas mas hehe Allcity tuker cog miche15t om boleh? Tanpa chainring maksudnya? Orang kalo abis putus sama yg beda agama jadi lebih bijak ya , bagus deh Wts -pedalset mks+ckc+strap vp 300rb minus tutup pedal kiri(liat pict) -crank otayava bcd 144 450rb Chainring viva, panjang arm 170mm -crank miche bcd 144 1.5jt Panjang arm 165mm -bb kotak dura ace njs&bb sg75 njs 350rb & 450rb pict menyusul Cod, kirim2 oke 081220456883/dm #fnfjb pic.twitter.com/xJDcUy2bxw [Aww mlu banget] pic.twitter.com/jDvKZQYvfi Bener banget BahAYa LaTEn pKi \"Apa SaLAhnYa\" Alig lu brooo Berapa ini mas? Mending jangan maksain.. Ati2 bang Persamaan army bts sama soeharto sama2 anti kritik Masih mas Yao ming kalo naik bajaj atepnya mesti dibuka Ada yg gabisa dipake orang lain bang  \"Mamah, jemput kiki... kiki makan nyamuk\" Nah mba ngapain ribet sama opininya panca, kan kalo menurut dia ga lucu yaudah gabisa dipaksain, kan mba sendiri yg bilang selera orang beda2 Ws depannya brp mas Murah bgt iniii Mau ngurang2in barang dulu om hehe Ambil ws front aja brp mas?8122045688381220456883 Wts crank ota yava bcd144  46t 450rb nett  #fnfjb pic.twitter.com/s7ClmVWEkp Hi pic.twitter.com/sqKkFO7Ao0 Udh sold gan Ambil ws front aja brp mas Mau nanya om wsnya pake hub apa? Kan bahaya sama haram beda mba.. Perpanjang stnk gapernah kena pungli, satu lg bikin skck jg aman tuh dari pungli. Tapi kalo bikin sim ya gitu deh... Mantep lo bang! Banyak anak banyak subscriber Apalagi kalimat \"profesi yang cukup prestisius\" wkwkwk Dari thread si korban hotelnya cuma cepe om, pasti gaada tv nya \"Mas kira aku cewe apaan\" pernyataan yg sangat kontras sama yg udh terjadi di awal pic.twitter.com/p7ZnQXTOqh Yg cowo ngelanggar kesepakatan di awal, yg cewe mudah bgt percaya sama orang yg baru bgt dia kenal sampe bj,hj,oral segala Ya tapi keduanya emang sama2 salah mba Iya langsung denger lagu opik Yah dia udah sampe foreplay segala dan setuju, gunanya foreplay buat apaan lg emang kalo gamenjurus ke arah sana? Biar mudah dpt kerja/biar awet muda/biar makin akrab? Brp nih om? Duit sih pasti ada om, mungkin ingin memacu adrenalin 6Â° om ,panjang 100mm Wts barang2 tidak terpakai 1. bb tange baru beli 2minggu 150rb 2. Barset stem zipp+flatbar xlr 450rb 3. Pedalset mks+ckc+allcity 350rb 4. Pedalset vp 100rb 5. Cog aventon 15t 150rb 6. Front Rolf vigor 2.7jt 7. Hanya pemanis  081220456883 #fnfjb pic.twitter.com/Xal9k3GJrc No wa om Bales \"go green\" aja cup, pasti mereka takut Pasti bernii Broadcast kaya gini biasanya beredar di group \"alumni desember\" Yudha keling versi putihan (dikit) Waduuuhh Maaf mas udh sold Os ya om? Gabisa om, ntar yg sebelah gaada jodohnya hehe Wts pedalset mks+ckc+strap allcity -Minus pedal sebelah kiri tutupnya gaada 350rb nett  #FnFjb pic.twitter.com/pu55eigcms Sekelas lewis hamilton kalo tes sim disini juga gabakal dilulusin kalo jalur normal, ya paling ga harus ulang 2x Nettnya brp emg mas? Sejuta masuk ga mas? Nyari cog kaya gitu dimana mas Sepasang atau rear doang bro? Gabisa om Wts barset Stem zipp service course 100mm 6Â° Flatbar xlr +grip 450rb nett  #fnfjb pic.twitter.com/KgIXrvpeQh Wts rear wheelset  Velocity b43 32hole mulus+hub soma+cog miche 15t +ban cst 800rb nett  #fnfjb pic.twitter.com/jf8vOdsNpF Suruh temennya aja yg buatin katanya gratis, goblok amat ye Wts frameset tsunami snm500 Include bb,hs Baru 2minggu beli dari baru box msh ada 4.7nego tipis Makasih #fnfjb pic.twitter.com/IeKt4k4ywB Berni lagi aja.... berni lagi aja... Bukan walikotanya aja mas yg ahli tata kata, gubernurnya juga Fyi itu custom mas Vigornya kalo dijual brp mas? Aminn Sangat risih, kecuali temen deket gpp deh Frameset brp mas Brp nih mas Brp ni mas Gue pernah ngeliat yg lebih parah, lg makan roti bakar cowonya ngobel2 cewenya yg gue lakukan ya lebih baik pindah tempat daripada ngevideoin diem2 kaya gini Elah! Kalo depresi msh sempet main medsos yang ada tambah depresi blog!! Itu mah caper Blb track minat ga mas? Jgn waterbase, malah kerebus nanti Waktu mabuk aku jadi penurut bgt, taunya aku mabuk asmara hehe Gini aja dipermasalahin, malah bagus ada tanda kaya gitu. Gue jg pejalan kaki tp lebih sering naik sepeda sih, kalo ngeliat tanda dilarang melintas yaudah ikutin aja gausah ribet lagian masing2 udh ada jalurnya kan Iye iye Blb track sz50 Kasi liat depan matanya mas biar dia tonton abis itu baru bandingin  https://youtu.be/o09Rp1mNOXsÂ\\xa0  Nonton ini dulu mas, baru bandingin sama mci Hed jet9 minat ga mas? Ada cctv ga bang? @edwinnmuhammad nih win Ori kan ya bang? Front Hed jet9 minat? Mirip2 oury mau bang? Warna merah 081220456883 ini mas wa Square taper mas Blb track minat? Punten, lagi bahas apa malah melenceng pic.twitter.com/qfNfosGWbv Dura ace minat ga mas? 109mm Jadi kaya film anaconda ngeri bgt Ini fork bawaan bro? Wts blb track sz50  Inc hs,seatpost,bb 1.8jt  Cod sekitar ps.minggu/sentul #fnfjb pic.twitter.com/FQkFibdskv81220456883 Poin huruf e nya dibaca jg mba Bisa mas 1.5 frame fork hs sc doang 1.7 +bb tange, seatpost mas  pic.twitter.com/Fr9KBJvWes Blb track minat ga mas sz50 Dewa 19 abis liat ini,ada niatan buat ganti judul lagu \"elang\" ga? Trade front hed jet9 saya nambah 300, kali minat Gabisa mas, saya silinder Hati2 diserang Coba gaada kerusakan ya, uang jaminannya bisa disave buat hal yg lain Ditambah \"kalo gasuka dijakarta balik lagi ke kampung lo sana\" -oren Kalo ketinggalan barangnya dinegara lain bisa min? Betrand peto kalo tua jadi betrand gepeto Ini video aslinya kaya gmn sih? Datang kembali Yang nyanyi ruben tp pake hijab Esther jago gambar kak Ya kalo ditanya dalangnya siapa, ya ðŸ‡ºðŸ‡¸ Dulunya vj mtv Kalo yg gratis namanya tol -ol pic.twitter.com/KoSNdhjyDJ Wkwkwk Titik kadarsih jgn sampe lupa -4jam buat karaoke disekitaran pabrik ADA DONOR SEL TELUR GA? Lo udh salah jg mba masih aja bela diri bukannya minta maaf gitu, itu kan mas nya cuma ngasi tau masa2 puber. Ini malah bawa2 nyokap ,bego ih Tolol ih kamu, kamu anak pungut ya Flite kulit recaro mau gan? Suami goblok Bisa buat minum juga sih Ellipsenya gamau dijual mas? Hed aja udh nih ambil Bayarin punya gue aje win Yg ntuhh prass No wa mas Mutil crank pedalset bisa? Msh ada? Mutil crank om Nettnya brp dong Bb apa, ada wa? Nyari yg 2jt dulu mas, makasih udh nawarin hehehe Brp mas Wtb crankset miche primato atau sugino 75 081220456883 #fnfjb Include apa aja mas Frame fork hs aja brp mas 2.2 kali dikasih bro Ada wa? Msh ada? Crank omnium brp gan Wtb fs pias sz 50 atau 53 wa 081220456883 #fnfjb Msh bisa nego? Pelacur mah biasanya ngomong mau st atau lt High land Brp nih mas Hs home schooling Kenko jelek om, bagusan pentle  pic.twitter.com/elqCaNkcIq Msh ada? Kalo yg kaya gini aja sampe buka donasi, Saya juga mau dong buka donasi buat bayar orang dalem biar jd pns bisa ga ya????? Yahh aku aja blm difolback mba Now playing -terdiam Buat nahan banjir om, kan dikit lagi musim hujan hahaha Flatbarnya aja brp Brp nih om SJW = SUKA JOB WAWANCARA Dia maunya jd pendiri bukan pengikut Masih ada? Baru stem doang yg udh dpt,sisanya tawarkan lg kalo ada #fnfjb https://twitter.com/abenksepeda/status/1183671650182549504Â\\xa0â€¦ Lebih baik mana ya? WTB  Stem thomson x2 budget 600 Pedalset doublestrap budget 500 Crankset omnium(item) budget 2jt Saddle selle flite budget 600 087781897740 #fnfjb Fsnya dpt apa aja om? Ternyata sinetron azab indo lebih masuk akal Brp nih om? Frutang Ke pleset bang Dicampur kue cubit enak ga kak? Greenteaaaa Dota dong Masi om Masi ada framesetnya? Ajo kaya abang2an ye Duraace njs yg kiri, chainring sugino aeromighty 46t wa 081220456883 pic.twitter.com/aEdjO8IJvR Itu hakim yg sebelahnya kaya nahan ketawa wkwkwk Komedi 5tahun sekali Aku engga mba Wsnya brp om 081220456883 pic.twitter.com/BpChxnWZy5 Vivalo minat? ANDA BACOTTT! DUBLINGDORE KEPALA SEKOLAHNYA HARRY POTTER!! Ok min makasih Bisa mas Masi mas Pake vpn nis biar bisa buka pornhub juga BACOTTTTT!!!! Sold mas Saya suka Toeclipnya aja mas brp Stemnya brp mas? Wts crankset dura ace fc7600njs Panjang kedua arm 167.5mm Arm+sugino zen 48t 2.3nett Arm+sugino aeromighty 46t 1.8nett Cod kalibata 081220456883  #fnfjb pic.twitter.com/mAoxVLJVGc Wheelset hson archtype 32h Fronthub campy record Rearhub philwood,cog17t 3jt nett Cod kalibata 081220456883  #fnfjb pic.twitter.com/GtSaay9HyY Nomernya gabisa di wa mas, 081220456883 ada saya nih Hahaha Tuker hexohm boleh Ok tampung ya  pic.twitter.com/ufn4Q8Sh7k 2.3 ambil mas Wts crankset duraace fc7600 njs Keduanya panjang arm 167.5mm arm+sugino zen 48t 2.5jt arm+sugino aeromighty 46t 1.9 Semua drat aman Cod kalibata/direct trf 081220456883 #fnfjb pic.twitter.com/r5wdx1kDck 3.2 nego 3.2 nego Aerohead x miche Cog eightinch 15t 2.2 nego Cod kalibata/kirim2 direct trf 081220456883  #fnfjb pic.twitter.com/sa8uzXmfla Boleh Maaf om salah 08122045688381120456883 3.2 mas hson archtype rearhub phil,fronthub campy record Chainring yg mana mas Sold mas sisa saddle 90mm mas Ws gabisa mutil mas 3.2 mas Maaf mas gabisa hehe  http://8.wsÂ\\xa0 hson archtype ,rearhub phil 17t, fronthub campy record, ban helios vera 9.shimano rt400 sz42+cleat dus dll lengkap  Beberapa part masih bisa nego dan ada yg sdh nett 1. Sp thomson 27.2+kashimax 1.2 2. Nitto pearl njs 650rb 3.crankset da njs+sugino zen 2.5 4.barset qs 3t +deda nera 600rb 5.duraace njs+aeromighty 2jt 6.pedalset mks nuevo njs 600rb  http://7.wsÂ\\xa0 aerohead+miche+ban 2.3 081220456883 #fnfjb cod kalibata/kirim2 pic.twitter.com/UTJ3sPLUeC Ada nih mas 8 deh bro bsk cod,minus apa. Ada line ga Jakarta dong sini Dpt apa aja nih WTB crank arm omnium budget 1.7 WTB frameset parallax budget 8jt Tawarkan #fnfjb Fs 4jt Fs 4jt Armnya doang brp Iya repaint 4jt mas Ada nih hehe Kirain bisa turun lg hehe Wa dl aja om Maaf om toko udh tutup, skrng rumahan doang ditanah baru Fb mas 1.5 om pearl 9 njs ,nitto shredbar Sz 52 bro, 13nego 400om Wa bro paling 081220456883 Kalibata bro 1.5 nitto shredbar, nitto pearl njs 2.5 om Kali minat mas arm dura ace, chainring zen pic.twitter.com/kaWuTmD9Nn Sejuta mas thomson, baru beli  minggu kemaren masih lengkap sarung dll 2.5nett sugino zen,arm dura ace njs 600, mks nuevo njs,strap mks fit njs,toeclip mks Fullbike kiyo njs Mutil perset 081220456883 #fnfjb pic.twitter.com/G74ZpmeYvh Wts sepatu cleat shimano rt400 nominus mulus sz42 26.5cm bonus cleat,lace. Box dll lengkap 800rb nett, cod kalibata 081220456883 . Boleh ditest dulu, kalo gamuat jgn dipaksain beli #fnfjb pic.twitter.com/lTDX6hFLnR Kali minat fullbike om pic.twitter.com/8tbQsPmlbh Sini bar tbg Apa prabowo udh cocok gantiin dolphino di trans 7 Anak lo kelak bar.. Udah kebuang min gmn dong, lagian barang udh sampe dari hari minggu. Saya gatau kalo kaya gini Kalo bukti resi fisiknya udh kebuang pic.twitter.com/gHH66kQjEv @BukaBantuan min tolong dong no transaksi 191929050646 dananya gabisa diteruskan kepelapak, saya sebagai pembeli Dm harga bro Wtb seatpost thomson 27.2 warna silver cari yg second aja tawarin ya kalo ada 081220456883 #fnfjb Bracket remnya bisa kurang bro? Kali aja minat kiyo njs Lg dirumah faris bar? Dengan apa bro? Yuk masih ada #fnfjb https://twitter.com/abenksepeda/status/1101761396591620096Â\\xa0â€¦ Ambil fullbike? Ada satu titik ditop tube Masi mas Ok broo 4.5 nego mas, dpt bb sugino75njs, headset hatta pic.twitter.com/tRMZKk95VI Kiyo njs kali minat brp harganya mas? #fnfjb masih ada,nego aja silahkan https://twitter.com/abenksepeda/status/1101761396591620096Â\\xa0â€¦ Pelajaran dari film dilan:  Kalo bukan iqbal yg jd dilan, hanyalah film cinta2an pada umumnya dengan sedikit gombalan2 ovj Bisa jadi koko pengikutnya mukena, makanya gemulai he-he Bayarin ni yos,mau ganti die Masi ada #fnfjb https://twitter.com/abenksepeda/status/1096332895231168513Â\\xa0â€¦ Wts fullbike kiyo njs Barset nitto shredbar+pearl njs  Saddle fivegold+stpost njs Crankset duraace+sugino zen48t Ws hson archtype hub phil+campy Pedalset mks nuevo+mks fit Frameset kiyo 52.5 bbsg75+hs hatta Brakeset   13.5jt lebih lanjut wa aja 081220456883 #fnfjb @fix_fixed pic.twitter.com/WgmqbspvCI Bisa bro Masih #fnfjb masi ada, best price!! https://twitter.com/abenksepeda/status/1084594777494962181Â\\xa0â€¦ Wts/wtt cassete sram pg1170 11-26t 11speed cari barteran 11-36t atau mau dijual 700rb nego  081220456883  #fnfjb @fix_fixed pic.twitter.com/RPjKZYCDTI Mas zaky lulusan itb dpt ilmu disana ,berjuang jg disana. Eh kok baru sekarang ngebandinginnya , wajar sih tahun politik hehe Huhh Chainringnya trade mau ga om pic.twitter.com/uGmV8x288f Samping kiri pedal bracket buat rem bukan? Ini brp bro? #fnfjb masih ada https://twitter.com/abenksepeda/status/1084594777494962181Â\\xa0â€¦ Masi bro Mutil shotlevernya aja bisa? Masi bro Umat kamit kali bro maksudnya Wts seatpost nitto njs 27.2 600rb 081220456883 @fix_fixed #fnfjb pic.twitter.com/NclLa0a2Kw Sold broo Seatpost specialized alias, bawaan fullbike specialized  ukuran27.2 100rb 081220456883 @fix_fixed #fnfjb pic.twitter.com/FNsvI5TL07 Wts wheelset fnr h+son  Ws front -hub miche pistard -rims h+son ff -ban helios Ws rear -rims h+son eero -hub origin8 fixfix -cog roselli 18t+lockring allcity -ban cst caldera(baru) 1.5jt cod kalibata 081220456883 @fix_fixed @fnfjb #fnfjb  https://twitter.com/abenksepeda/status/1084499850501091328/photo/1 pic.twitter.com/lvEjCfKTjlÂ\\xa0 pic.twitter.com/tHbJtGTzrH Alig itu pamfletnya bahasa mana tuh 250 omm saya trf langsung hehe Ajak2 lik kalo jajan ditebet 250 om Wtb rims h+son archtype / tb14 sepasang , cari yg 32hole utamakan warna hitam . Wa 081220456883 @fix_fixed @FnFjb #fnfjb Udh sold om maaf Sold thanks! https://twitter.com/abenksepeda/status/1082761225681887233Â\\xa0â€¦ Sold thanks! https://twitter.com/abenksepeda/status/1084516230797582336Â\\xa0â€¦ 1.65 ambil mas Blm bisaa mas Wts chainring  sugino zen 48t mirror 1.3jt nett cod kalibata 081220456883 @FnFjb @fix_fixed #fnfjb pic.twitter.com/rjkCCisvfa Gabisa mas Wts crankset omnium -chainring dura-ace 47t -bb gxp -chain hkk blue njs 47-16 -cog dura-ace 16t Kondisi arm lecet,drat aman,bb aman Langsung wa aja 1.8jt cod kalibata 081220456883 @fix_fixed @FnFjb #fnfjb pic.twitter.com/K72NSiHcn0 Ada wa bro? Brp mas Masi ada mas? Ini masi ada mas? Booked https://twitter.com/abenksepeda/status/1082616015408685057Â\\xa0â€¦ Haha jangan mass Maaf mas jual paketan aja Wts crankset omnium+chainring duraace 47t+bb gxp minus lecet, drat semua aman 2jt nego 081220456883 @fix_fixed @FnFjb #fnfjb pic.twitter.com/FGP3s6Y61c Wts frameset cinelli mash bolt 2012 sz53  -Seatpost thomson -Seatclamp thomson -Bb tange -Saddle sanmarco ponza -hs bawaan 7jt nego cod kalibata jaksel 081220456883 @fix_fixed @fnfjb #fnfjb pic.twitter.com/4wyw4bO1Bb Makasiii Wts seatpost miche 27.2 (200rb) & saddle charge bucket (100rb) lokasi kalibata wa:081220456883 @fix_fixed @FnFjb #fnfjb pic.twitter.com/kLSCmPXQ5Y Pedalset brp mas Yg warna ungunya masi ada mas? WTT chainring sakra kanta ungu 47t dengan yg warna hitam/ sugino s-cubic 081220456883 @fix_fixed @fnfjb #fnfjb pic.twitter.com/3svsyZgUpk 650 bro baru beli sebulan 47t Kali minat 081220456883 pic.twitter.com/xtRGA63ltH Brakelevernya aja brp? Mutil seatpost kalo boleh Mutil ban gabisa bro? hahah Duraace atau campy record jg boleh hehe Cranknya dijual ga? Mutil crank bisa mas? Bolt 2012 mau mas? Kalo nambah, nambah brp Eh sisa tange levin njs deng,200rb bro pic.twitter.com/CJvI3kPaHC Hatta swan mau mas? Wa aja bro 081220456883 H+son Eero kali minat pic.twitter.com/ydiW2grAhC Crankset brp Crank campynya dijual mas? WTB  -quillstem nitto pearl 90mm/jaguar budget 400rb -seatpost nitto/thomson  27.2 warna silver budget 500rb -crankset sugino 75 budget 1500  Wa 081220456883  @fix_fixed @FnFjb #fnfjb Miche mau mas? Sz brp As hubnya masi bawaan campy? Wa ada? Itu mau dituker atau diapain om? Itu tubular om? Campy apa om ada pict? Lokasi dmn bro ni wa ane 081220456883 Mash bolt sz53 081220456883 Wtb dropbar os budget 350rb 081220456883 @FnFjb @fix_fixed #fnfjb Kalo warna item h+son eero mau mas? Frameset brp? Sz brp? Ambil ban satu aja mas bisa? Barter sanmarco ponza minat ga bro?  pic.twitter.com/CC4xjtrWZQ Wts risebar cinelli pepper+grip 350rb atau trade dengan dropbar 081220456883 @FnFjb @fix_fixed #fnfjb pic.twitter.com/B2loRP9C3q Dropbarnya aja brp mas? Barset berapa Wtt wheelset fnr h+son eero full black ,hub belakang origin8 cog18t,hub depan miche primato mulus. Cari tukeran fnr full grey/silver picture via wa 081220456883 @FnFjb @fix_fixed #fnfjb Barset gabisa kurang mas? Nett bro bb cuma bonus 340mm mas, barang nos Crankset+bb 150rb bro, bntr ane cek Wts trackbar njs 250rb, crankset nexus bcd 130 46t+bb miche 150rb 081220456883  @fix_fixed #fnfjb pic.twitter.com/R2HI3Cs2Pt Masi dong Wtb chainring sakra budget 600rb, sugino zen budget 1jt 081220456883 #fnfjb @fix_fixed Wtb crankset sram omnium black/ sugino 75 budget 1.8 usahakan masi mulus wa 081220456883 #fnfjb @fix_fixed Masi ada? Masi ada mas? Barang sepeda sekarang mahal-mahal? -admin magang Fullbike brp mas? Frameset aja brp?? Halo twitter Mantan pesepeda jarang jajan.. pic.twitter.com/vKcMete3MX Mau jual barang2 sepeda cuma ga tau harga pasaran skrg..ðŸ˜“  Apa kabar semua?mudah2an masih pada sehat..jauhi narkoba,dekati sepeda..ðŸ‘\\x8dðŸ\\x8f¼ Masi ada bro? Brp fi Apa kabar dunia persepedahan..ðŸ˜Š Wtb framset pias size 50/53 budget 1,8 kalo ada angkut skrng 085719021998 #rbjb #fnfjb #fpjb @primafixed @CyclistSupply pias nettnya brp bro? @fathinoo sold Fs Nouvo sporty 2005,harga 13jt nego.081380004605,jakarta. pic.twitter.com/L7wvjmWOjt @Rizky_85y85 di tanah baru,depok @wiracalinputra ud laku om..itu saddle om @Rizky_85y85 ud ga ada toko,kita rumahan aja,itu juga tinggal sisa nya aja :) Toeclip merah,toeclip chrome,toeclip putih,hub novatech SOLD yak..sisa toeclip putih dll. @hidayat_alwi 100 Fs sadle merk charge,NEW,putih hrga 150rb nego dikit dahhh..jgn banyak2 ntar batuk. 081380004605 / 51926ac4 #fnfjb pic.twitter.com/RmVNC3FeTg @hidayat_alwi rear,32h jadi 36h,merk mecca. praktis,efisien,hemat waktu..DELCONT. simple :). \"be a smart buyer\". @daenny_seren iyak,blkng doang. @daenny_seren masih,150rb no cog,32h. Fs:Toe clip merk ckc,ada yg single,ada yg double..strap kaga ada..saddle charge..hrga 30rb-150rb pic.twitter.com/nxVLb8rQAX @frasya_23 70rb,toeclip doang,strapny ga ada..baru @rikobenito83 iyak broo Fs:sisa2 ada yg 2nd,baru hub novatec L key,trckbr dll harga dr 30rb-150rb..51926ac4/wa 081380004605 #fnfjb pic.twitter.com/gSFWrR7oIr @HUB_N_THUG ramein shayyy klo kata abegeh2..ga punya speda om..huft @rikobenito83 itu thn 2013 om..ud laku @HUB_N_THUG iyak tante..wkwk @fahmi_cuyy mau di jual aj om,butuh duit.. @junicotrian di bangka om,jaksel..blm foto lg om Wts roadbike,frame balap custom 700c,ws alexrims,gs 2300,8speed,hrg 2,3 nego,jarang pake,081380004605/51926ac4 #fnfjb pic.twitter.com/xsPwh49ggT Jual aje nih bantuin temen,Roadbike frame balap custom 700c,GS shimano 2300,8sp,ws alexrims bawaan MASI,pin 51926ac4 pic.twitter.com/XAJw98Wyhh @BCycler @andangnugroho ada yg mau jual crank sram omnium??brp?thx Wtb crank sram omnium (chainring yg masih bawaannya) klo ada kabarin yak 081380004605 tengkyuuu #fnfjb #rbjb Wts : bianchi infinito sz 50 carbon,GS 105,WS fulcrum racing7. Hrg 15jt nego dikit.081380004605 #fnfjb #rbjb mkasih y pic.twitter.com/Q0qaBH6nm0 for sale : bianchi infinito sz 50,full carbon,GS 105,WS fulcrum racing7,harga 16jt,no tt/barter.081380004605. pic.twitter.com/C2d2gNe5Sp Dari google bos hehe Pengen juga nih :( pic.twitter.com/KFHcduEAL8 @Siapaaja245 081380004605 sms aj bro,jarang ol,ntar gw tanyain sm temen.. Wts roadbike bianchi GS shimano 105.crank,seatpost,barset FSA,WS fulcrum,frame carbon full.081380004605 17jt #fnfjb pic.twitter.com/fQN9U2Ncc6 @vickyhanggara_ sold @vickyhanggara_ os brooo..masih ada @Aditnaufal02 minat contc langsung aj,no ada kok thx @Aditnaufal02 adaaa.. @riko94685565 waduh ud lama bgt itu..mungkin skrg ud ga berbentuk sepatu om wkwkw For sale 150k,uk 31,6 pic.twitter.com/Z4BRMeJ5Kg @abenksepeda for sale For sale...@100k - 150k pic.twitter.com/P88z0AX7w0 @AinunStore harganya brp ommm?? @HUB_N_THUG tutup sat.. @pinguinterbang nah masuk yg warung jati timur,kurang lebih 200m,nanti adanya di kanan..samping tukang pisang. @adityaapk jl.warung jati timur..jak sel @pinguinterbang di pinggir jalan,samping warung yg jual pisang..hari ini tutup. @adityaapk ga ada dropbar..adanya trackbar @HUB_N_THUG hahaha..bisa aja pak satt..dewasa(dot)tk Nih lo pilih dah..@100k-150k., Yg OS cuma trackbar nitto(pake bartape). Minat 081380004605. pic.twitter.com/Bqa41GW8iL Mbaa zeda cakep :* @zuraydasalim1: Don\\'t lie to people that trust u, and don\\'t trust people that lie to u pic.twitter.com/UXqNg7ntaA @jalucahyo kosong mas Wts trackbar united new std @100k,trackbar nitto (os) bullhorn std @150k,saddle charge 150k..081380004605 #fnfjb pic.twitter.com/69dDrEzrae Buat temen2 yg ngerasa sepeda/part2 sepeda nya ada di bengkel saya harap di ambil ya.trimakasih. @jodyadit pias mirasih Alhamdulillah pias SOLD OUT,berkah hujan. @heroAkkbar_ terus???selooowwwww..tengkyu yak pak bos.. @Afifcozz mantappp! Cuma ngasih tau,jakarta lg panas..mau bikin panas lg?! Apaan aje jadi duit yg penting halal..jual hewan qurban 2jtan..minat dateng aje ke bengkel ane. pic.twitter.com/JTsHxg3rbU @Mrbaharsah tuker duit aja om hehe @fixsale tuker duit aja om hehe Wts pias sz 55 2,2 nego (frm,fork,hs,bb,seatpost,sadle turbo) 081380004605..#fnfjb pic.twitter.com/Rm7C0FBcN4 Kali aj ad yg mau bayarin chain stay protector campagnolo,biar chain staynya ga baret..150k passs.081380004605 #fnfjb pic.twitter.com/n6ZREzTR24 @anadrepartup yah..trackbr kyknya om pic.twitter.com/7EOnNlw36d @anadrepartup budget brp?ada nih OS merk nitto warna chrome ud ada bartapeny(hitam).. Nyeprisss..@HUB_N_THUG pic.twitter.com/L85iSs1qe4 @HUB_N_THUG ga ngegasss ommm..wkwkw @DickyNurjaya19 gw majang motor di tukang pisang samping bengkel sepeda gw gpp tuh.. Padahal die jual pisang :) @heroAkkbar_ sorry jg dah Jual motor di forum sepeda salah?? Usaha gw juga di bengkel sepeda,jual motor ya gw butuh dana..salah??? Kalo salah ya maap.. Wakwawww! @heroAkkbar_ salah??? @DickyNurjaya19 salah??? Di jual nouvo lele 2002.pajak mati juni kmaren. Harga 10,5 nego dikit..spek call/invite 081380004605/74f9ec4b #fnfjb pic.twitter.com/cDw5Uzx36f @sallicious masih gannn Seatpost cinelli vai 31,6 150 rebu ga ada yg minat nih?? Di jual nouvo 2002,surat lengkap (stnk warna kuning)..hrga 10,5 nego dikiitt..Kali gitu ada yg minat maen nouvo..:) pic.twitter.com/2AqT660ziD Trackbar nitto OS warna chrome+bartape hitam..200 rebu. 081380004605 Pias nya om size 55,warna black gold..frame+fork+headset+seatpost+sadle..sms aja omm 081380004605 #fnfjb pic.twitter.com/wr7L6X5Vsc @KevinsyahrulP kurang tau ukuran frame taiwan nya om..asal 31.6 mah bisa.. @nanang0711 sms ke 081380004605 Ada yg minat sama frameset pias size 55 ??? pic.twitter.com/C0whidbKwJ @cahyaadita sold out @Rafif_6B ud laku om..ud lama bgt Nih gw jual murah seatpost cinelli vai 31,6 150 rebu aja boskuu..081380004605 #fnfjb pic.twitter.com/Z4BRMeJ5Kg Iseng aktifin eh isi timeline ttg pilpres mulu ye,lebih banyak \"politikus\" jokowow drpd prabowow.. Ciieee politikussss *colekdagu.. Wts seatpost cinelli vai 31.6..325 rebuu..nego dikitttt..081380004605. #fnfjb pic.twitter.com/VPgtnPbOwZ @sikluscycling belum om..hehe Trimakasih buat smuanya yg mendo\\'akan,yg datang maupun yg tidak..smoga do\\'a kalian di kabulkan..amin ya robbal alamin. Skali lg trimakasih. Slamat jalan umi,smoga adzan trakhirku buat umi & do\\'a2ku mengantar umi ke surgaNYA Allah SWT,amin..slamat jalan umi. pic.twitter.com/29nb249Vfl @rizkyputraprat2 @NFCrews @BKS_courier aminnn..iya om,mkasih banyak..mohon do\\'anya. @adityaapk amin..mkasih banyak om mhon do\\'anya. @YayatAbenk182 amin ya Allah,mkasih banyak om. @A_carnelo @NFCrews aminnn..trimakasih banyak ya. @NFCrews amin ya Allah..trimakasih banyak..mhon do\\'a nya. @danke_hidayat trimakasih banyak om..amin ya Allah..maaf om baru buka twitter Wts cog 2nd dura ace njs 14t..150k nego. 081380004605. Jual nih nouvo lele 2002..9,5 nego. pic.twitter.com/If3u1zVi14 Aminnn..makasih buat do\\'anya kawan. Hati2 di jalan..Tetap mengayuh kawan. Maaf bengkel tutup sementara,ga tau sampe kapan..mohon do\\'anya buat kesembuhan ibu saya. Makasih kawan.  pic.twitter.com/RFtg89L5w3 @JR_RizqiNugraha ga ada om.. Tergantung,klo ga bisa di ganti rumah drat bb nya @EvanDrmwn: @abenksepeda bang bisa benerin drat frame dibagian bb ga? Bayar dahhh  http://www.tokobagus.com/iklan/nouvo-lele-2002-46448122.htmlÂ\\xa0â€¦ Wts trackbar nitto OS..250 k..nego 081380004605 @FnFjb pic.twitter.com/4R1ijuisiK @Binsyechbu 74F9EC4B @Binsyechbu scoopy yg mana om injection?apa karbu?yg nambah siapa..? @Strafixiegear okee omm.. @Refincuks ga ada,coba ke @R_bikeshop @Strafixiegear cek dm. Chelsea olivia? Bukhhan maeennn @JakartaHolic: Eden Hazard Abaikan Cedera Demi Chelsea Masih mending,gue kondangan sendirian @JakartaHolic: Di Bogor Boediono Hanya Didampingi Wakil Menteri Agama Ho\\'oh..@irwanneutron: Kondangan sendiri itu berasa jadi tontonan :)) Klo kata anak masa kini lg gabut..hahaha @nananghanafi66: @abenksepeda maksa bener dahh ahh ni Senin,selasa,sabu,samis,sum\\'at,sabtu,singgu.. Deket apaan yak?alpen kali ya @reggyferian: @abenksepeda om warung jati deket mana? Pengen liat-liat nih Di jual nouvo lele 2002,pajak hidup,10jt nego boskuuu.. pic.twitter.com/lgVSzCsZHT Kurang spesifik om @Taradz13: @abenksepeda kalo ada yg jual seatpost  ,HUB sama crank merek apa az ,,mention yah :D @gresia_rendy sold om Derby madrid mlm ini apa besok yaaakkk...??? Hahaha muke gilee @kriotea_: Di situ aja bang biar bisa RT terus RT @abenksepeda: Maaf ya klo klamaan nunggu di RTin,maklum paket ... @dwiazrul bisa jadi.. Aduuuhh..reply/mention langsung ke orangnya bapaaakkk..jgn ke semuaaaanyaaahhh. Maaf ya klo klamaan nunggu di RTin,maklum paket abangnya ud abisss...*kode:)).  Ini aja lg di bis yg ada wifi nya. Hahaha @danke_hidayat: Bocah.. Bocah..  Duit msh nadah sm org tua aj gaya nya dah tggi bgt, gmn kl dah bs ksh nafkah ke org tua.. Bisa boskuuu..@afrianyudha1107: Bos re-paint kaya gini sabi gaa hahaha @abenksepeda  http://t Ada yg tau pasaran harga crank campy record 49t ? Kondisi mulus. pic.twitter.com/vN3DA1BAbh Cocok buat pasangan.. pic.twitter.com/2fnTpmsKpY @alfandi_muharam warung buncit.jaksel 3-0 cukuppp hehehe @FnFBJM: #HalaMadrid @abenksepeda: Yg besok mau cfd tp ban dlmnya bocor..mau beli bingung beli dmn krn ud BU BU BU...Butuh Untung???! Yg besok mau cfd tp ban dlmnya bocor..mau beli bingung beli dmn krn ud mlm..saya masih buka kok..smbl nonton madrid. pic.twitter.com/ZDb8ccQq5N Maksudnya tinggal angkat polisinya.. Masuk jlur bus way ya masuk2 aje..cuma mata kudu waspada..klo ada polisi ya tinggal angkat..beres. Tv ommm..@kriotea_: Ini liat nya bukan acara tv ni, RT @abenksepeda: \"Strikeeeeeeeee..!!! NGACENG MANIAAA...MANTAAPPP !!! Ada adaan ini @ario_adipati: Apa apaan ini? :D\"@abenksepeda: \"Strikeeeeeeeee..!!! NGACENG MANIAAA...MANTAAPPP !!! Typo om..;) @alifadhilah48: Mancing om mancing hahahah\"@abenksepeda: Strikeeeeeeeee..!!! NGACENG MANIAAA...MANTAAPPP !! \"Strikeeeeeeeee..!!! NGACENG MANIAAA...MANTAAPPP !!!\" Di puter/di plintir2 dulu..baru siap di pompa naek turun..#awww...#PENTILBAN #kuisFNF @ORZX23 @fixietas @fixedandfurious ini orang sering lewat bengkel gue..sering negor.mau nanya tp doi buru2 mulu Bengkel yg jam segini masih buka..ujan pula..bowcowr. Mata tak kunjung padam..jam 6 masih melek. Di mane aje update..@sini..@situu..@yahoo.com lau ga sebut tuh ??? Ayo follow follow biar cpt laku :)) @fixedandfurious: Yg suka jual beli part,jangan lupa difollow @fnfjb  Cek favorites kita buat detailnya Lagi musim penalti sekalian kartu merah kyknya..tapi lebih parah yg kmaren..klo yg skrg sedikit fair. Madrid nya blm mulai..lama bener! @m81e alhmdllh sehaaat..di sehat sehatin..pak mbie sehat??lg ga d bngkl pak.. Cuma mau ngucapin selamat buat @yosacil akhirnya lepas juga tuh keperjakaan..jgn lupa di rawat ya pake chain lube. Bisa aja ah joki abenk yg baru jadian ini @yosacil: Betah banget disana, buka bengkel lagi ya bang?wkwk\"@abenksepeda: Kangen bengkel ter Aminnn..sampai tetes trakhir @arumpratama: Hahah :D yg pnting cintanya takterhingga bang :D:D  \"@abenksepeda: Jauh dekat Rp.3500 @sya Pantesss frame blm dateng jg di bengkel saiyah @m81e: Finally.. Datang juga pesanan saiyah #jagwire #roadpro #completecablekit #red  http: Kangen bengkel tercinta beserta habitat2nya.. Jauh dekat Rp.3500 @syahrialP: Walaupn jauh, tapi tak trasa jauh.he {} RT @arumpratama: Ketika jarak sudah biasa Waduhhh https://www.youtube.com/watch?v=ndq_cNBp-8o&feature=youtube_gdata_playerÂ\\xa0â€¦ @muhammadnovaldi udah @ahmdganis pembalap cinta..aiihhhh Menurut saya OBAT *obatkuat @Nasehat2Bijak: Satu hal yang buat kita kuat adalah DOA *alfi* (kapangueikutrace?) @ahmdganis: Contoh *piip* udah berdarah2 terus lanjut race dan berusaha masa yg Pake apaan tos nya mas aril??? @syahrialP: Wes iya lah yang,, toss dulu RT @arumpratama: Malam yang indah Oh nabrak? Gue ga ada contactnya,si Rio..ntar klo ketemu gue sampein @ilalbilal: @abenksepeda sob, anak abenk yg nabrak sepeda Ujan???..kucing aje klo ujan ga kluar alias ngumpet,gimana oraaaangggg...*bengkeljdsepi Wts boskuuu..stem ritchey pro 100mm OS..250nego..081380004605.#fnfjb makasih. pic.twitter.com/jpqfhfsjq1 Jualan lg nih boskuuu..kliping alias roda samping..buat anak / buat yg sering jatoh.. pic.twitter.com/OdUMGXnBIY Sore.. Ga sampe jual sepeda kok @ariaous: @abenksepeda wkwk *mabok chain lube* brpan tuh ngelepasnya? @gerymv hehehe..keren om spatunya..sama2 om. Bang ada grip oury ga?â€¢yahh oury ga ada,adanya KW..mau?? RT..*bangkunya bagus :D @gerymv: Shoes specialized road new size lengkap 900k nego bgt @fixedandfurious @FnFSolo @FixieSolo @surakatrack Bisa,ngelepas dahaga jg bisa..@ariaous: @abenksepeda Bro, di abenkspd bs ngelepas chainring gak y? @fixietas iya sihhh :)) Bukan sholat jum\\'at doang yg bikin kegantengan bertambah..(Katanya).sepedahan juga..;). #manfaats'"
      ]
     },
     "execution_count": 27,
     "metadata": {},
     "output_type": "execute_result"
    }
   ],
   "source": [
    "data['Tweet'].loc[1]"
   ]
  },
  {
   "cell_type": "code",
   "execution_count": 28,
   "metadata": {},
   "outputs": [
    {
     "data": {
      "text/plain": [
       "\" Throwback   Bro fork alpina dijual ga? Insolenya brp cm ya mas? Sampe jugaa   @PosIndonesia tolong diperbaiki layanannya tlpn call center 161 status paket ada di kantor pos pusat lap.banteng . saya tlpn ke sana berkali2 ga diangkat giliran saya kesana, taunya paket lg dalam perjalanan sedangkan cek resi status gaberubah2 masih release by customs Nett om, free ongkir jabodetabek 32 atau 36 hole mas? 325rb mks sylvan,ckc,strap vp   Brp nih mas Mas ws depannya msh ada? Msh ada? Pernah, suka sama pevita ah ga mungkin sama dia... Bernie sendernya Wts barang tidak terpakai - Wheelset mavic ellipse inc ban 5jt - Pedalset mks royal nuevo+starfuckers+strap sag 900rb - crankset miche 48t 1.5jt  Harga di atas nett ya kecuali crank bisa nego dikit 081220456883 Cod pasar minggu-sentul-cibinong Makasihh #fnfjb   @bcpasarbaru @bravobeacukai min no resi RV327545733CN prosesnya udh sampe mana ya? Makasih    Dulu2 kemana aja ya, giliran skrng banyak yg mulai b2w malah diribetin kaya gini Min cek dm hehe Ada di chainstay,fork,top tube Sticker pada masanya   Wadaawww banget harganya Bikin decal giro njs bisa ga bro? BB sugino 75 njs 109mm Minus dust cover gaada 450rb  081220456883  #fnfjb   Hahaha Min cek dm Crank ota sold #fnfjb  \\xa0â€¦ Iya sama, kadang pake flazz jg gabisa Knalpot mio mberrr kita ready banyak pras Uler uler emg gabakal berubah   \\xa0â€¦ Wts -Bb sg75 njs 450rb -Crank miche 48t 165mm 1.5jt -Crank otayava bcd144 46t 170mm 450rb -pedalset mks-ckc-strap vp 325rb minus pedal kiri tutupnya gaada -rolf vigor ban baru ganti 2.5jt -cog 15t bawaan aventon 100rb 081220456883, cod/direct trf (Free ongkir p.jawa) #fnfjb   Clan aditya -adhitia sofyan -Jamie aditya -adityalogy -teddy adhitya Pasti pas malem2 ada malam muhasabah Ini msh ada mas? Nah mungkin thread diatas sebagian bener bro, tp lebih banyak yg di lebih2in Serius mba, pas awal2 pindah kerumah baru Tp kalo ditimpuk batu sama setan saya pernah ngerasain langsung mas Nitip Yang bener yang kaya gmn coba kasi tau, kayanya lo udh paling paham ni Kadang jco kalo gaada kembalian nukerin duitnya di breadtalk Awww Kekuatan 1 army bts = 2 navy seal kalo gasalah Nafsu   tau banget ini Nah iya anggota dpr aja di ajak ketemuan, gimana ini yg ava nya rata2 foto idolnya Bikin konten sodara2 lg bang sama bang adiarta, seru ngeliat wibu2 macho Lah saya kira dia masih sd he he Besok2 ninja warrior adain di mrt Fear factor bang sekalian atau ninja warrior mantap Bang disitu lo gadapet hadiah ya makanya pegang mic doang Ada jg yg blm laku tp tiap menit iklannya muncul terus Bogor mas, cod ps.minggu jg bisa . Harga pas mas hehe Allcity tuker cog miche15t om boleh? Tanpa chainring maksudnya? Orang kalo abis putus sama yg beda agama jadi lebih bijak ya , bagus deh Wts -pedalset mks+ckc+strap vp 300rb minus tutup pedal kiri(liat pict) -crank otayava bcd 144 450rb Chainring viva, panjang arm 170mm -crank miche bcd 144 1.5jt Panjang arm 165mm -bb kotak dura ace njs&bb sg75 njs 350rb & 450rb pict menyusul Cod, kirim2 oke 081220456883/dm #fnfjb   [Aww mlu banget]   Bener banget BahAYa LaTEn pKi Apa SaLAhnYa Alig lu brooo Berapa ini mas? Mending jangan maksain.. Ati2 bang Persamaan army bts sama soeharto sama2 anti kritik Masih mas Yao ming kalo naik bajaj atepnya mesti dibuka Ada yg gabisa dipake orang lain bang  Mamah, jemput kiki... kiki makan nyamuk Nah mba ngapain ribet sama opininya panca, kan kalo menurut dia ga lucu yaudah gabisa dipaksain, kan mba sendiri yg bilang selera orang beda2 Ws depannya brp mas Murah bgt iniii Mau ngurang2in barang dulu om hehe Ambil ws front aja brp mas?8122045688381220456883 Wts crank ota yava bcd144  46t 450rb nett  #fnfjb   Hi   Udh sold gan Ambil ws front aja brp mas Mau nanya om wsnya pake hub apa? Kan bahaya sama haram beda mba.. Perpanjang stnk gapernah kena pungli, satu lg bikin skck jg aman tuh dari pungli. Tapi kalo bikin sim ya gitu deh... Mantep lo bang! Banyak anak banyak subscriber Apalagi kalimat profesi yang cukup prestisius wkwkwk Dari thread si korban hotelnya cuma cepe om, pasti gaada tv nya Mas kira aku cewe apaan pernyataan yg sangat kontras sama yg udh terjadi di awal   Yg cowo ngelanggar kesepakatan di awal, yg cewe mudah bgt percaya sama orang yg baru bgt dia kenal sampe bj,hj,oral segala Ya tapi keduanya emang sama2 salah mba Iya langsung denger lagu opik Yah dia udah sampe foreplay segala dan setuju, gunanya foreplay buat apaan lg emang kalo gamenjurus ke arah sana? Biar mudah dpt kerja/biar awet muda/biar makin akrab? Brp nih om? Duit sih pasti ada om, mungkin ingin memacu adrenalin 6Â° om ,panjang 100mm Wts barang2 tidak terpakai 1. bb tange baru beli 2minggu 150rb 2. Barset stem zipp+flatbar xlr 450rb 3. Pedalset mks+ckc+allcity 350rb 4. Pedalset vp 100rb 5. Cog aventon 15t 150rb 6. Front Rolf vigor 2.7jt 7. Hanya pemanis  081220456883 #fnfjb   No wa om Bales go green aja cup, pasti mereka takut Pasti bernii Broadcast kaya gini biasanya beredar di group alumni desember Yudha keling versi putihan (dikit) Waduuuhh Maaf mas udh sold Os ya om? Gabisa om, ntar yg sebelah gaada jodohnya hehe Wts pedalset mks+ckc+strap allcity -Minus pedal sebelah kiri tutupnya gaada 350rb nett  #FnFjb   Sekelas lewis hamilton kalo tes sim disini juga gabakal dilulusin kalo jalur normal, ya paling ga harus ulang 2x Nettnya brp emg mas? Sejuta masuk ga mas? Nyari cog kaya gitu dimana mas Sepasang atau rear doang bro? Gabisa om Wts barset Stem zipp service course 100mm 6Â° Flatbar xlr +grip 450rb nett  #fnfjb   Wts rear wheelset  Velocity b43 32hole mulus+hub soma+cog miche 15t +ban cst 800rb nett  #fnfjb   Suruh temennya aja yg buatin katanya gratis, goblok amat ye Wts frameset tsunami snm500 Include bb,hs Baru 2minggu beli dari baru box msh ada 4.7nego tipis Makasih #fnfjb   Berni lagi aja.... berni lagi aja... Bukan walikotanya aja mas yg ahli tata kata, gubernurnya juga Fyi itu custom mas Vigornya kalo dijual brp mas? Aminn Sangat risih, kecuali temen deket gpp deh Frameset brp mas Brp nih mas Brp ni mas Gue pernah ngeliat yg lebih parah, lg makan roti bakar cowonya ngobel2 cewenya yg gue lakukan ya lebih baik pindah tempat daripada ngevideoin diem2 kaya gini Elah! Kalo depresi msh sempet main medsos yang ada tambah depresi blog!! Itu mah caper Blb track minat ga mas? Jgn waterbase, malah kerebus nanti Waktu mabuk aku jadi penurut bgt, taunya aku mabuk asmara hehe Gini aja dipermasalahin, malah bagus ada tanda kaya gitu. Gue jg pejalan kaki tp lebih sering naik sepeda sih, kalo ngeliat tanda dilarang melintas yaudah ikutin aja gausah ribet lagian masing2 udh ada jalurnya kan Iye iye Blb track sz50 Kasi liat depan matanya mas biar dia tonton abis itu baru bandingin   \\xa0  Nonton ini dulu mas, baru bandingin sama mci Hed jet9 minat ga mas? Ada cctv ga bang? @edwinnmuhammad nih win Ori kan ya bang? Front Hed jet9 minat? Mirip2 oury mau bang? Warna merah 081220456883 ini mas wa Square taper mas Blb track minat? Punten, lagi bahas apa malah melenceng   Dura ace minat ga mas? 109mm Jadi kaya film anaconda ngeri bgt Ini fork bawaan bro? Wts blb track sz50  Inc hs,seatpost,bb 1.8jt  Cod sekitar ps.minggu/sentul #fnfjb   Poin huruf e nya dibaca jg mba Bisa mas 1.5 frame fork hs sc doang 1.7 +bb tange, seatpost mas    Blb track minat ga mas sz50 Dewa 19 abis liat ini,ada niatan buat ganti judul lagu elang ga? Trade front hed jet9 saya nambah 300, kali minat Gabisa mas, saya silinder Hati2 diserang Coba gaada kerusakan ya, uang jaminannya bisa disave buat hal yg lain Ditambah kalo gasuka dijakarta balik lagi ke kampung lo sana -oren Kalo ketinggalan barangnya dinegara lain bisa min? Betrand peto kalo tua jadi betrand gepeto Ini video aslinya kaya gmn sih? Datang kembali Yang nyanyi ruben tp pake hijab Esther jago gambar kak Ya kalo ditanya dalangnya siapa, ya ðŸ‡ºðŸ‡¸ Dulunya vj mtv Kalo yg gratis namanya tol -ol   Wkwkwk Titik kadarsih jgn sampe lupa -4jam buat karaoke disekitaran pabrik ADA DONOR SEL TELUR GA? Lo udh salah jg mba masih aja bela diri bukannya minta maaf gitu, itu kan mas nya cuma ngasi tau masa2 puber. Ini malah bawa2 nyokap ,bego ih Tolol ih kamu, kamu anak pungut ya Flite kulit recaro mau gan? Suami goblok Bisa buat minum juga sih Ellipsenya gamau dijual mas? Hed aja udh nih ambil Bayarin punya gue aje win Yg ntuhh prass No wa mas Mutil crank pedalset bisa? Msh ada? Mutil crank om Nettnya brp dong Bb apa, ada wa? Nyari yg 2jt dulu mas, makasih udh nawarin hehehe Brp mas Wtb crankset miche primato atau sugino 75 081220456883 #fnfjb Include apa aja mas Frame fork hs aja brp mas 2.2 kali dikasih bro Ada wa? Msh ada? Crank omnium brp gan Wtb fs pias sz 50 atau 53 wa 081220456883 #fnfjb Msh bisa nego? Pelacur mah biasanya ngomong mau st atau lt High land Brp nih mas Hs home schooling Kenko jelek om, bagusan pentle    Msh ada? Kalo yg kaya gini aja sampe buka donasi, Saya juga mau dong buka donasi buat bayar orang dalem biar jd pns bisa ga ya????? Yahh aku aja blm difolback mba Now playing -terdiam Buat nahan banjir om, kan dikit lagi musim hujan hahaha Flatbarnya aja brp Brp nih om SJW = SUKA JOB WAWANCARA Dia maunya jd pendiri bukan pengikut Masih ada? Baru stem doang yg udh dpt,sisanya tawarkan lg kalo ada #fnfjb  \\xa0â€¦ Lebih baik mana ya? WTB  Stem thomson x2 budget 600 Pedalset doublestrap budget 500 Crankset omnium(item) budget 2jt Saddle selle flite budget 600 087781897740 #fnfjb Fsnya dpt apa aja om? Ternyata sinetron azab indo lebih masuk akal Brp nih om? Frutang Ke pleset bang Dicampur kue cubit enak ga kak? Greenteaaaa Dota dong Masi om Masi ada framesetnya? Ajo kaya abang2an ye Duraace njs yg kiri, chainring sugino aeromighty 46t wa 081220456883   Itu hakim yg sebelahnya kaya nahan ketawa wkwkwk Komedi 5tahun sekali Aku engga mba Wsnya brp om 081220456883   Vivalo minat? ANDA BACOTTT! DUBLINGDORE KEPALA SEKOLAHNYA HARRY POTTER!! Ok min makasih Bisa mas Masi mas Pake vpn nis biar bisa buka pornhub juga BACOTTTTT!!!! Sold mas Saya suka Toeclipnya aja mas brp Stemnya brp mas? Wts crankset dura ace fc7600njs Panjang kedua arm 167.5mm Arm+sugino zen 48t 2.3nett Arm+sugino aeromighty 46t 1.8nett Cod kalibata 081220456883  #fnfjb   Wheelset hson archtype 32h Fronthub campy record Rearhub philwood,cog17t 3jt nett Cod kalibata 081220456883  #fnfjb   Nomernya gabisa di wa mas, 081220456883 ada saya nih Hahaha Tuker hexohm boleh Ok tampung ya    2.3 ambil mas Wts crankset duraace fc7600 njs Keduanya panjang arm 167.5mm arm+sugino zen 48t 2.5jt arm+sugino aeromighty 46t 1.9 Semua drat aman Cod kalibata/direct trf 081220456883 #fnfjb   3.2 nego 3.2 nego Aerohead x miche Cog eightinch 15t 2.2 nego Cod kalibata/kirim2 direct trf 081220456883  #fnfjb   Boleh Maaf om salah 08122045688381120456883 3.2 mas hson archtype rearhub phil,fronthub campy record Chainring yg mana mas Sold mas sisa saddle 90mm mas Ws gabisa mutil mas 3.2 mas Maaf mas gabisa hehe   \\xa0 hson archtype ,rearhub phil 17t, fronthub campy record, ban helios vera 9.shimano rt400 sz42+cleat dus dll lengkap  Beberapa part masih bisa nego dan ada yg sdh nett 1. Sp thomson 27.2+kashimax 1.2 2. Nitto pearl njs 650rb 3.crankset da njs+sugino zen 2.5 4.barset qs 3t +deda nera 600rb 5.duraace njs+aeromighty 2jt 6.pedalset mks nuevo njs 600rb   \\xa0 aerohead+miche+ban 2.3 081220456883 #fnfjb cod kalibata/kirim2   Ada nih mas 8 deh bro bsk cod,minus apa. Ada line ga Jakarta dong sini Dpt apa aja nih WTB crank arm omnium budget 1.7 WTB frameset parallax budget 8jt Tawarkan #fnfjb Fs 4jt Fs 4jt Armnya doang brp Iya repaint 4jt mas Ada nih hehe Kirain bisa turun lg hehe Wa dl aja om Maaf om toko udh tutup, skrng rumahan doang ditanah baru Fb mas 1.5 om pearl 9 njs ,nitto shredbar Sz 52 bro, 13nego 400om Wa bro paling 081220456883 Kalibata bro 1.5 nitto shredbar, nitto pearl njs 2.5 om Kali minat mas arm dura ace, chainring zen   Sejuta mas thomson, baru beli  minggu kemaren masih lengkap sarung dll 2.5nett sugino zen,arm dura ace njs 600, mks nuevo njs,strap mks fit njs,toeclip mks Fullbike kiyo njs Mutil perset 081220456883 #fnfjb   Wts sepatu cleat shimano rt400 nominus mulus sz42 26.5cm bonus cleat,lace. Box dll lengkap 800rb nett, cod kalibata 081220456883 . Boleh ditest dulu, kalo gamuat jgn dipaksain beli #fnfjb   Kali minat fullbike om   Sini bar tbg Apa prabowo udh cocok gantiin dolphino di trans 7 Anak lo kelak bar.. Udah kebuang min gmn dong, lagian barang udh sampe dari hari minggu. Saya gatau kalo kaya gini Kalo bukti resi fisiknya udh kebuang   @BukaBantuan min tolong dong no transaksi 191929050646 dananya gabisa diteruskan kepelapak, saya sebagai pembeli Dm harga bro Wtb seatpost thomson 27.2 warna silver cari yg second aja tawarin ya kalo ada 081220456883 #fnfjb Bracket remnya bisa kurang bro? Kali aja minat kiyo njs Lg dirumah faris bar? Dengan apa bro? Yuk masih ada #fnfjb  \\xa0â€¦ Ambil fullbike? Ada satu titik ditop tube Masi mas Ok broo 4.5 nego mas, dpt bb sugino75njs, headset hatta   Kiyo njs kali minat brp harganya mas? #fnfjb masih ada,nego aja silahkan  \\xa0â€¦ Pelajaran dari film dilan:  Kalo bukan iqbal yg jd dilan, hanyalah film cinta2an pada umumnya dengan sedikit gombalan2 ovj Bisa jadi koko pengikutnya mukena, makanya gemulai he-he Bayarin ni yos,mau ganti die Masi ada #fnfjb  \\xa0â€¦ Wts fullbike kiyo njs Barset nitto shredbar+pearl njs  Saddle fivegold+stpost njs Crankset duraace+sugino zen48t Ws hson archtype hub phil+campy Pedalset mks nuevo+mks fit Frameset kiyo 52.5 bbsg75+hs hatta Brakeset   13.5jt lebih lanjut wa aja 081220456883 #fnfjb @fix_fixed   Bisa bro Masih #fnfjb masi ada, best price!!  \\xa0â€¦ Wts/wtt cassete sram pg1170 11-26t 11speed cari barteran 11-36t atau mau dijual 700rb nego  081220456883  #fnfjb @fix_fixed   Mas zaky lulusan itb dpt ilmu disana ,berjuang jg disana. Eh kok baru sekarang ngebandinginnya , wajar sih tahun politik hehe Huhh Chainringnya trade mau ga om   Samping kiri pedal bracket buat rem bukan? Ini brp bro? #fnfjb masih ada  \\xa0â€¦ Masi bro Mutil shotlevernya aja bisa? Masi bro Umat kamit kali bro maksudnya Wts seatpost nitto njs 27.2 600rb 081220456883 @fix_fixed #fnfjb   Sold broo Seatpost specialized alias, bawaan fullbike specialized  ukuran27.2 100rb 081220456883 @fix_fixed #fnfjb   Wts wheelset fnr h+son  Ws front -hub miche pistard -rims h+son ff -ban helios Ws rear -rims h+son eero -hub origin8 fixfix -cog roselli 18t+lockring allcity -ban cst caldera(baru) 1.5jt cod kalibata 081220456883 @fix_fixed @fnfjb #fnfjb     \\xa0   Alig itu pamfletnya bahasa mana tuh 250 omm saya trf langsung hehe Ajak2 lik kalo jajan ditebet 250 om Wtb rims h+son archtype / tb14 sepasang , cari yg 32hole utamakan warna hitam . Wa 081220456883 @fix_fixed @FnFjb #fnfjb Udh sold om maaf Sold thanks!  \\xa0â€¦ Sold thanks!  \\xa0â€¦ 1.65 ambil mas Blm bisaa mas Wts chainring  sugino zen 48t mirror 1.3jt nett cod kalibata 081220456883 @FnFjb @fix_fixed #fnfjb   Gabisa mas Wts crankset omnium -chainring dura-ace 47t -bb gxp -chain hkk blue njs 47-16 -cog dura-ace 16t Kondisi arm lecet,drat aman,bb aman Langsung wa aja 1.8jt cod kalibata 081220456883 @fix_fixed @FnFjb #fnfjb   Ada wa bro? Brp mas Masi ada mas? Ini masi ada mas? Booked  \\xa0â€¦ Haha jangan mass Maaf mas jual paketan aja Wts crankset omnium+chainring duraace 47t+bb gxp minus lecet, drat semua aman 2jt nego 081220456883 @fix_fixed @FnFjb #fnfjb   Wts frameset cinelli mash bolt 2012 sz53  -Seatpost thomson -Seatclamp thomson -Bb tange -Saddle sanmarco ponza -hs bawaan 7jt nego cod kalibata jaksel 081220456883 @fix_fixed @fnfjb #fnfjb   Makasiii Wts seatpost miche 27.2 (200rb) & saddle charge bucket (100rb) lokasi kalibata wa:081220456883 @fix_fixed @FnFjb #fnfjb   Pedalset brp mas Yg warna ungunya masi ada mas? WTT chainring sakra kanta ungu 47t dengan yg warna hitam/ sugino s-cubic 081220456883 @fix_fixed @fnfjb #fnfjb   650 bro baru beli sebulan 47t Kali minat 081220456883   Brakelevernya aja brp? Mutil seatpost kalo boleh Mutil ban gabisa bro? hahah Duraace atau campy record jg boleh hehe Cranknya dijual ga? Mutil crank bisa mas? Bolt 2012 mau mas? Kalo nambah, nambah brp Eh sisa tange levin njs deng,200rb bro   Hatta swan mau mas? Wa aja bro 081220456883 H+son Eero kali minat   Crankset brp Crank campynya dijual mas? WTB  -quillstem nitto pearl 90mm/jaguar budget 400rb -seatpost nitto/thomson  27.2 warna silver budget 500rb -crankset sugino 75 budget 1500  Wa 081220456883  @fix_fixed @FnFjb #fnfjb Miche mau mas? Sz brp As hubnya masi bawaan campy? Wa ada? Itu mau dituker atau diapain om? Itu tubular om? Campy apa om ada pict? Lokasi dmn bro ni wa ane 081220456883 Mash bolt sz53 081220456883 Wtb dropbar os budget 350rb 081220456883 @FnFjb @fix_fixed #fnfjb Kalo warna item h+son eero mau mas? Frameset brp? Sz brp? Ambil ban satu aja mas bisa? Barter sanmarco ponza minat ga bro?    Wts risebar cinelli pepper+grip 350rb atau trade dengan dropbar 081220456883 @FnFjb @fix_fixed #fnfjb   Dropbarnya aja brp mas? Barset berapa Wtt wheelset fnr h+son eero full black ,hub belakang origin8 cog18t,hub depan miche primato mulus. Cari tukeran fnr full grey/silver picture via wa 081220456883 @FnFjb @fix_fixed #fnfjb Barset gabisa kurang mas? Nett bro bb cuma bonus 340mm mas, barang nos Crankset+bb 150rb bro, bntr ane cek Wts trackbar njs 250rb, crankset nexus bcd 130 46t+bb miche 150rb 081220456883  @fix_fixed #fnfjb   Masi dong Wtb chainring sakra budget 600rb, sugino zen budget 1jt 081220456883 #fnfjb @fix_fixed Wtb crankset sram omnium black/ sugino 75 budget 1.8 usahakan masi mulus wa 081220456883 #fnfjb @fix_fixed Masi ada? Masi ada mas? Barang sepeda sekarang mahal-mahal? -admin magang Fullbike brp mas? Frameset aja brp?? Halo twitter Mantan pesepeda jarang jajan..   Mau jual barang2 sepeda cuma ga tau harga pasaran skrg..ðŸ˜“  Apa kabar semua?mudah2an masih pada sehat..jauhi narkoba,dekati sepeda..ðŸ‘\\x8dðŸ\\x8f¼ Masi ada bro? Brp fi Apa kabar dunia persepedahan..ðŸ˜Š Wtb framset pias size 50/53 budget 1,8 kalo ada angkut skrng 085719021998 #rbjb #fnfjb #fpjb @primafixed @CyclistSupply pias nettnya brp bro? @fathinoo sold Fs Nouvo sporty 2005,harga 13jt nego.081380004605,jakarta.   @Rizky_85y85 di tanah baru,depok @wiracalinputra ud laku om..itu saddle om @Rizky_85y85 ud ga ada toko,kita rumahan aja,itu juga tinggal sisa nya aja :) Toeclip merah,toeclip chrome,toeclip putih,hub novatech SOLD yak..sisa toeclip putih dll. @hidayat_alwi 100 Fs sadle merk charge,NEW,putih hrga 150rb nego dikit dahhh..jgn banyak2 ntar batuk. 081380004605 / 51926ac4 #fnfjb   @hidayat_alwi rear,32h jadi 36h,merk mecca. praktis,efisien,hemat waktu..DELCONT. simple :). be a smart buyer. @daenny_seren iyak,blkng doang. @daenny_seren masih,150rb no cog,32h. Fs:Toe clip merk ckc,ada yg single,ada yg double..strap kaga ada..saddle charge..hrga 30rb-150rb   @frasya_23 70rb,toeclip doang,strapny ga ada..baru @rikobenito83 iyak broo Fs:sisa2 ada yg 2nd,baru hub novatec L key,trckbr dll harga dr 30rb-150rb..51926ac4/wa 081380004605 #fnfjb   @HUB_N_THUG ramein shayyy klo kata abegeh2..ga punya speda om..huft @rikobenito83 itu thn 2013 om..ud laku @HUB_N_THUG iyak tante..wkwk @fahmi_cuyy mau di jual aj om,butuh duit.. @junicotrian di bangka om,jaksel..blm foto lg om Wts roadbike,frame balap custom 700c,ws alexrims,gs 2300,8speed,hrg 2,3 nego,jarang pake,081380004605/51926ac4 #fnfjb   Jual aje nih bantuin temen,Roadbike frame balap custom 700c,GS shimano 2300,8sp,ws alexrims bawaan MASI,pin 51926ac4   @BCycler @andangnugroho ada yg mau jual crank sram omnium??brp?thx Wtb crank sram omnium (chainring yg masih bawaannya) klo ada kabarin yak 081380004605 tengkyuuu #fnfjb #rbjb Wts : bianchi infinito sz 50 carbon,GS 105,WS fulcrum racing7. Hrg 15jt nego dikit.081380004605 #fnfjb #rbjb mkasih y   for sale : bianchi infinito sz 50,full carbon,GS 105,WS fulcrum racing7,harga 16jt,no tt/barter.081380004605.   Dari google bos hehe Pengen juga nih :(   @Siapaaja245 081380004605 sms aj bro,jarang ol,ntar gw tanyain sm temen.. Wts roadbike bianchi GS shimano 105.crank,seatpost,barset FSA,WS fulcrum,frame carbon full.081380004605 17jt #fnfjb   @vickyhanggara_ sold @vickyhanggara_ os brooo..masih ada @Aditnaufal02 minat contc langsung aj,no ada kok thx @Aditnaufal02 adaaa.. @riko94685565 waduh ud lama bgt itu..mungkin skrg ud ga berbentuk sepatu om wkwkw For sale 150k,uk 31,6   @abenksepeda for sale For sale...@100k - 150k   @AinunStore harganya brp ommm?? @HUB_N_THUG tutup sat.. @pinguinterbang nah masuk yg warung jati timur,kurang lebih 200m,nanti adanya di kanan..samping tukang pisang. @adityaapk jl.warung jati timur..jak sel @pinguinterbang di pinggir jalan,samping warung yg jual pisang..hari ini tutup. @adityaapk ga ada dropbar..adanya trackbar @HUB_N_THUG hahaha..bisa aja pak satt..dewasa(dot)tk Nih lo pilih dah..@100k-150k., Yg OS cuma trackbar nitto(pake bartape). Minat 081380004605.   Mbaa zeda cakep :* @zuraydasalim1: Don't lie to people that trust u, and don't trust people that lie to u   @jalucahyo kosong mas Wts trackbar united new std @100k,trackbar nitto (os) bullhorn std @150k,saddle charge 150k..081380004605 #fnfjb   Buat temen2 yg ngerasa sepeda/part2 sepeda nya ada di bengkel saya harap di ambil ya.trimakasih. @jodyadit pias mirasih Alhamdulillah pias SOLD OUT,berkah hujan. @heroAkkbar_ terus???selooowwwww..tengkyu yak pak bos.. @Afifcozz mantappp! Cuma ngasih tau,jakarta lg panas..mau bikin panas lg?! Apaan aje jadi duit yg penting halal..jual hewan qurban 2jtan..minat dateng aje ke bengkel ane.   @Mrbaharsah tuker duit aja om hehe @fixsale tuker duit aja om hehe Wts pias sz 55 2,2 nego (frm,fork,hs,bb,seatpost,sadle turbo) 081380004605..#fnfjb   Kali aj ad yg mau bayarin chain stay protector campagnolo,biar chain staynya ga baret..150k passs.081380004605 #fnfjb   @anadrepartup yah..trackbr kyknya om   @anadrepartup budget brp?ada nih OS merk nitto warna chrome ud ada bartapeny(hitam).. Nyeprisss..@HUB_N_THUG   @HUB_N_THUG ga ngegasss ommm..wkwkw @DickyNurjaya19 gw majang motor di tukang pisang samping bengkel sepeda gw gpp tuh.. Padahal die jual pisang :) @heroAkkbar_ sorry jg dah Jual motor di forum sepeda salah?? Usaha gw juga di bengkel sepeda,jual motor ya gw butuh dana..salah??? Kalo salah ya maap.. Wakwawww! @heroAkkbar_ salah??? @DickyNurjaya19 salah??? Di jual nouvo lele 2002.pajak mati juni kmaren. Harga 10,5 nego dikit..spek call/invite 081380004605/74f9ec4b #fnfjb   @sallicious masih gannn Seatpost cinelli vai 31,6 150 rebu ga ada yg minat nih?? Di jual nouvo 2002,surat lengkap (stnk warna kuning)..hrga 10,5 nego dikiitt..Kali gitu ada yg minat maen nouvo..:)   Trackbar nitto OS warna chrome+bartape hitam..200 rebu. 081380004605 Pias nya om size 55,warna black gold..frame+fork+headset+seatpost+sadle..sms aja omm 081380004605 #fnfjb   @KevinsyahrulP kurang tau ukuran frame taiwan nya om..asal 31.6 mah bisa.. @nanang0711 sms ke 081380004605 Ada yg minat sama frameset pias size 55 ???   @cahyaadita sold out @Rafif_6B ud laku om..ud lama bgt Nih gw jual murah seatpost cinelli vai 31,6 150 rebu aja boskuu..081380004605 #fnfjb   Iseng aktifin eh isi timeline ttg pilpres mulu ye,lebih banyak politikus jokowow drpd prabowow.. Ciieee politikussss *colekdagu.. Wts seatpost cinelli vai 31.6..325 rebuu..nego dikitttt..081380004605. #fnfjb   @sikluscycling belum om..hehe Trimakasih buat smuanya yg mendo'akan,yg datang maupun yg tidak..smoga do'a kalian di kabulkan..amin ya robbal alamin. Skali lg trimakasih. Slamat jalan umi,smoga adzan trakhirku buat umi & do'a2ku mengantar umi ke surgaNYA Allah SWT,amin..slamat jalan umi.   @rizkyputraprat2 @NFCrews @BKS_courier aminnn..iya om,mkasih banyak..mohon do'anya. @adityaapk amin..mkasih banyak om mhon do'anya. @YayatAbenk182 amin ya Allah,mkasih banyak om. @A_carnelo @NFCrews aminnn..trimakasih banyak ya. @NFCrews amin ya Allah..trimakasih banyak..mhon do'a nya. @danke_hidayat trimakasih banyak om..amin ya Allah..maaf om baru buka twitter Wts cog 2nd dura ace njs 14t..150k nego. 081380004605. Jual nih nouvo lele 2002..9,5 nego.   Aminnn..makasih buat do'anya kawan. Hati2 di jalan..Tetap mengayuh kawan. Maaf bengkel tutup sementara,ga tau sampe kapan..mohon do'anya buat kesembuhan ibu saya. Makasih kawan.    @JR_RizqiNugraha ga ada om.. Tergantung,klo ga bisa di ganti rumah drat bb nya @EvanDrmwn: @abenksepeda bang bisa benerin drat frame dibagian bb ga? Bayar dahhh   \\xa0â€¦ Wts trackbar nitto OS..250 k..nego 081380004605 @FnFjb   @Binsyechbu 74F9EC4B @Binsyechbu scoopy yg mana om injection?apa karbu?yg nambah siapa..? @Strafixiegear okee omm.. @Refincuks ga ada,coba ke @R_bikeshop @Strafixiegear cek dm. Chelsea olivia? Bukhhan maeennn @JakartaHolic: Eden Hazard Abaikan Cedera Demi Chelsea Masih mending,gue kondangan sendirian @JakartaHolic: Di Bogor Boediono Hanya Didampingi Wakil Menteri Agama Ho'oh..@irwanneutron: Kondangan sendiri itu berasa jadi tontonan :)) Klo kata anak masa kini lg gabut..hahaha @nananghanafi66: @abenksepeda maksa bener dahh ahh ni Senin,selasa,sabu,samis,sum'at,sabtu,singgu.. Deket apaan yak?alpen kali ya @reggyferian: @abenksepeda om warung jati deket mana? Pengen liat-liat nih Di jual nouvo lele 2002,pajak hidup,10jt nego boskuuu..   Kurang spesifik om @Taradz13: @abenksepeda kalo ada yg jual seatpost  ,HUB sama crank merek apa az ,,mention yah :D @gresia_rendy sold om Derby madrid mlm ini apa besok yaaakkk...??? Hahaha muke gilee @kriotea_: Di situ aja bang biar bisa RT terus RT @abenksepeda: Maaf ya klo klamaan nunggu di RTin,maklum paket ... @dwiazrul bisa jadi.. Aduuuhh..reply/mention langsung ke orangnya bapaaakkk..jgn ke semuaaaanyaaahhh. Maaf ya klo klamaan nunggu di RTin,maklum paket abangnya ud abisss...*kode:)).  Ini aja lg di bis yg ada wifi nya. Hahaha @danke_hidayat: Bocah.. Bocah..  Duit msh nadah sm org tua aj gaya nya dah tggi bgt, gmn kl dah bs ksh nafkah ke org tua.. Bisa boskuuu..@afrianyudha1107: Bos re-paint kaya gini sabi gaa hahaha @abenksepeda  http://t Ada yg tau pasaran harga crank campy record 49t ? Kondisi mulus.   Cocok buat pasangan..   @alfandi_muharam warung buncit.jaksel 3-0 cukuppp hehehe @FnFBJM: #HalaMadrid @abenksepeda: Yg besok mau cfd tp ban dlmnya bocor..mau beli bingung beli dmn krn ud BU BU BU...Butuh Untung???! Yg besok mau cfd tp ban dlmnya bocor..mau beli bingung beli dmn krn ud mlm..saya masih buka kok..smbl nonton madrid.   Maksudnya tinggal angkat polisinya.. Masuk jlur bus way ya masuk2 aje..cuma mata kudu waspada..klo ada polisi ya tinggal angkat..beres. Tv ommm..@kriotea_: Ini liat nya bukan acara tv ni, RT @abenksepeda: Strikeeeeeeeee..!!! NGACENG MANIAAA...MANTAAPPP !!! Ada adaan ini @ario_adipati: Apa apaan ini? :D@abenksepeda: Strikeeeeeeeee..!!! NGACENG MANIAAA...MANTAAPPP !!! Typo om..;) @alifadhilah48: Mancing om mancing hahahah@abenksepeda: Strikeeeeeeeee..!!! NGACENG MANIAAA...MANTAAPPP !! Strikeeeeeeeee..!!! NGACENG MANIAAA...MANTAAPPP !!! Di puter/di plintir2 dulu..baru siap di pompa naek turun..#awww...#PENTILBAN #kuisFNF @ORZX23 @fixietas @fixedandfurious ini orang sering lewat bengkel gue..sering negor.mau nanya tp doi buru2 mulu Bengkel yg jam segini masih buka..ujan pula..bowcowr. Mata tak kunjung padam..jam 6 masih melek. Di mane aje update..@sini..@situu..@yahoo.com lau ga sebut tuh ??? Ayo follow follow biar cpt laku :)) @fixedandfurious: Yg suka jual beli part,jangan lupa difollow @fnfjb  Cek favorites kita buat detailnya Lagi musim penalti sekalian kartu merah kyknya..tapi lebih parah yg kmaren..klo yg skrg sedikit fair. Madrid nya blm mulai..lama bener! @m81e alhmdllh sehaaat..di sehat sehatin..pak mbie sehat??lg ga d bngkl pak.. Cuma mau ngucapin selamat buat @yosacil akhirnya lepas juga tuh keperjakaan..jgn lupa di rawat ya pake chain lube. Bisa aja ah joki abenk yg baru jadian ini @yosacil: Betah banget disana, buka bengkel lagi ya bang?wkwk@abenksepeda: Kangen bengkel ter Aminnn..sampai tetes trakhir @arumpratama: Hahah :D yg pnting cintanya takterhingga bang :D:D  @abenksepeda: Jauh dekat Rp.3500 @sya Pantesss frame blm dateng jg di bengkel saiyah @m81e: Finally.. Datang juga pesanan saiyah #jagwire #roadpro #completecablekit #red  http: Kangen bengkel tercinta beserta habitat2nya.. Jauh dekat Rp.3500 @syahrialP: Walaupn jauh, tapi tak trasa jauh.he {} RT @arumpratama: Ketika jarak sudah biasa Waduhhh  \\xa0â€¦ @muhammadnovaldi udah @ahmdganis pembalap cinta..aiihhhh Menurut saya OBAT *obatkuat @Nasehat2Bijak: Satu hal yang buat kita kuat adalah DOA *alfi* (kapangueikutrace?) @ahmdganis: Contoh *piip* udah berdarah2 terus lanjut race dan berusaha masa yg Pake apaan tos nya mas aril??? @syahrialP: Wes iya lah yang,, toss dulu RT @arumpratama: Malam yang indah Oh nabrak? Gue ga ada contactnya,si Rio..ntar klo ketemu gue sampein @ilalbilal: @abenksepeda sob, anak abenk yg nabrak sepeda Ujan???..kucing aje klo ujan ga kluar alias ngumpet,gimana oraaaangggg...*bengkeljdsepi Wts boskuuu..stem ritchey pro 100mm OS..250nego..081380004605.#fnfjb makasih.   Jualan lg nih boskuuu..kliping alias roda samping..buat anak / buat yg sering jatoh..   Sore.. Ga sampe jual sepeda kok @ariaous: @abenksepeda wkwk *mabok chain lube* brpan tuh ngelepasnya? @gerymv hehehe..keren om spatunya..sama2 om. Bang ada grip oury ga?â€¢yahh oury ga ada,adanya KW..mau?? RT..*bangkunya bagus :D @gerymv: Shoes specialized road new size lengkap 900k nego bgt @fixedandfurious @FnFSolo @FixieSolo @surakatrack Bisa,ngelepas dahaga jg bisa..@ariaous: @abenksepeda Bro, di abenkspd bs ngelepas chainring gak y? @fixietas iya sihhh :)) Bukan sholat jum'at doang yg bikin kegantengan bertambah..(Katanya).sepedahan juga..;). #manfaats\""
      ]
     },
     "execution_count": 28,
     "metadata": {},
     "output_type": "execute_result"
    }
   ],
   "source": [
    "data['Tweet_Parsed1'].loc[1]"
   ]
  },
  {
   "cell_type": "code",
   "execution_count": 29,
   "metadata": {},
   "outputs": [
    {
     "data": {
      "text/plain": [
       "\" throwback   bro fork alpina dijual ga? insolenya brp cm ya mas? sampe jugaa   @posindonesia tolong diperbaiki layanannya tlpn call center 161 status paket ada di kantor pos pusat lap.banteng . saya tlpn ke sana berkali2 ga diangkat giliran saya kesana, taunya paket lg dalam perjalanan sedangkan cek resi status gaberubah2 masih release by customs nett om, free ongkir jabodetabek 32 atau 36 hole mas? 325rb mks sylvan,ckc,strap vp   brp nih mas mas ws depannya msh ada? msh ada? pernah, suka sama pevita ah ga mungkin sama dia... bernie sendernya wts barang tidak terpakai - wheelset mavic ellipse inc ban 5jt - pedalset mks royal nuevo+starfuckers+strap sag 900rb - crankset miche 48t 1.5jt  harga di atas nett ya kecuali crank bisa nego dikit 081220456883 cod pasar minggu-sentul-cibinong makasihh #fnfjb   @bcpasarbaru @bravobeacukai min no resi rv327545733cn prosesnya udh sampe mana ya? makasih    dulu2 kemana aja ya, giliran skrng banyak yg mulai b2w malah diribetin kaya gini min cek dm hehe ada di chainstay,fork,top tube sticker pada masanya   wadaawww banget harganya bikin decal giro njs bisa ga bro? bb sugino 75 njs 109mm minus dust cover gaada 450rb  081220456883  #fnfjb   hahaha min cek dm crank ota sold #fnfjb  \\xa0â€¦ iya sama, kadang pake flazz jg gabisa knalpot mio mberrr kita ready banyak pras uler uler emg gabakal berubah   \\xa0â€¦ wts -bb sg75 njs 450rb -crank miche 48t 165mm 1.5jt -crank otayava bcd144 46t 170mm 450rb -pedalset mks-ckc-strap vp 325rb minus pedal kiri tutupnya gaada -rolf vigor ban baru ganti 2.5jt -cog 15t bawaan aventon 100rb 081220456883, cod/direct trf (free ongkir p.jawa) #fnfjb   clan aditya -adhitia sofyan -jamie aditya -adityalogy -teddy adhitya pasti pas malem2 ada malam muhasabah ini msh ada mas? nah mungkin thread diatas sebagian bener bro, tp lebih banyak yg di lebih2in serius mba, pas awal2 pindah kerumah baru tp kalo ditimpuk batu sama setan saya pernah ngerasain langsung mas nitip yang bener yang kaya gmn coba kasi tau, kayanya lo udh paling paham ni kadang jco kalo gaada kembalian nukerin duitnya di breadtalk awww kekuatan 1 army bts = 2 navy seal kalo gasalah nafsu   tau banget ini nah iya anggota dpr aja di ajak ketemuan, gimana ini yg ava nya rata2 foto idolnya bikin konten sodara2 lg bang sama bang adiarta, seru ngeliat wibu2 macho lah saya kira dia masih sd he he besok2 ninja warrior adain di mrt fear factor bang sekalian atau ninja warrior mantap bang disitu lo gadapet hadiah ya makanya pegang mic doang ada jg yg blm laku tp tiap menit iklannya muncul terus bogor mas, cod ps.minggu jg bisa . harga pas mas hehe allcity tuker cog miche15t om boleh? tanpa chainring maksudnya? orang kalo abis putus sama yg beda agama jadi lebih bijak ya , bagus deh wts -pedalset mks+ckc+strap vp 300rb minus tutup pedal kiri(liat pict) -crank otayava bcd 144 450rb chainring viva, panjang arm 170mm -crank miche bcd 144 1.5jt panjang arm 165mm -bb kotak dura ace njs&bb sg75 njs 350rb & 450rb pict menyusul cod, kirim2 oke 081220456883/dm #fnfjb   [aww mlu banget]   bener banget bahaya laten pki apa salahnya alig lu brooo berapa ini mas? mending jangan maksain.. ati2 bang persamaan army bts sama soeharto sama2 anti kritik masih mas yao ming kalo naik bajaj atepnya mesti dibuka ada yg gabisa dipake orang lain bang  mamah, jemput kiki... kiki makan nyamuk nah mba ngapain ribet sama opininya panca, kan kalo menurut dia ga lucu yaudah gabisa dipaksain, kan mba sendiri yg bilang selera orang beda2 ws depannya brp mas murah bgt iniii mau ngurang2in barang dulu om hehe ambil ws front aja brp mas?8122045688381220456883 wts crank ota yava bcd144  46t 450rb nett  #fnfjb   hi   udh sold gan ambil ws front aja brp mas mau nanya om wsnya pake hub apa? kan bahaya sama haram beda mba.. perpanjang stnk gapernah kena pungli, satu lg bikin skck jg aman tuh dari pungli. tapi kalo bikin sim ya gitu deh... mantep lo bang! banyak anak banyak subscriber apalagi kalimat profesi yang cukup prestisius wkwkwk dari thread si korban hotelnya cuma cepe om, pasti gaada tv nya mas kira aku cewe apaan pernyataan yg sangat kontras sama yg udh terjadi di awal   yg cowo ngelanggar kesepakatan di awal, yg cewe mudah bgt percaya sama orang yg baru bgt dia kenal sampe bj,hj,oral segala ya tapi keduanya emang sama2 salah mba iya langsung denger lagu opik yah dia udah sampe foreplay segala dan setuju, gunanya foreplay buat apaan lg emang kalo gamenjurus ke arah sana? biar mudah dpt kerja/biar awet muda/biar makin akrab? brp nih om? duit sih pasti ada om, mungkin ingin memacu adrenalin 6â° om ,panjang 100mm wts barang2 tidak terpakai 1. bb tange baru beli 2minggu 150rb 2. barset stem zipp+flatbar xlr 450rb 3. pedalset mks+ckc+allcity 350rb 4. pedalset vp 100rb 5. cog aventon 15t 150rb 6. front rolf vigor 2.7jt 7. hanya pemanis  081220456883 #fnfjb   no wa om bales go green aja cup, pasti mereka takut pasti bernii broadcast kaya gini biasanya beredar di group alumni desember yudha keling versi putihan (dikit) waduuuhh maaf mas udh sold os ya om? gabisa om, ntar yg sebelah gaada jodohnya hehe wts pedalset mks+ckc+strap allcity -minus pedal sebelah kiri tutupnya gaada 350rb nett  #fnfjb   sekelas lewis hamilton kalo tes sim disini juga gabakal dilulusin kalo jalur normal, ya paling ga harus ulang 2x nettnya brp emg mas? sejuta masuk ga mas? nyari cog kaya gitu dimana mas sepasang atau rear doang bro? gabisa om wts barset stem zipp service course 100mm 6â° flatbar xlr +grip 450rb nett  #fnfjb   wts rear wheelset  velocity b43 32hole mulus+hub soma+cog miche 15t +ban cst 800rb nett  #fnfjb   suruh temennya aja yg buatin katanya gratis, goblok amat ye wts frameset tsunami snm500 include bb,hs baru 2minggu beli dari baru box msh ada 4.7nego tipis makasih #fnfjb   berni lagi aja.... berni lagi aja... bukan walikotanya aja mas yg ahli tata kata, gubernurnya juga fyi itu custom mas vigornya kalo dijual brp mas? aminn sangat risih, kecuali temen deket gpp deh frameset brp mas brp nih mas brp ni mas gue pernah ngeliat yg lebih parah, lg makan roti bakar cowonya ngobel2 cewenya yg gue lakukan ya lebih baik pindah tempat daripada ngevideoin diem2 kaya gini elah! kalo depresi msh sempet main medsos yang ada tambah depresi blog!! itu mah caper blb track minat ga mas? jgn waterbase, malah kerebus nanti waktu mabuk aku jadi penurut bgt, taunya aku mabuk asmara hehe gini aja dipermasalahin, malah bagus ada tanda kaya gitu. gue jg pejalan kaki tp lebih sering naik sepeda sih, kalo ngeliat tanda dilarang melintas yaudah ikutin aja gausah ribet lagian masing2 udh ada jalurnya kan iye iye blb track sz50 kasi liat depan matanya mas biar dia tonton abis itu baru bandingin   \\xa0  nonton ini dulu mas, baru bandingin sama mci hed jet9 minat ga mas? ada cctv ga bang? @edwinnmuhammad nih win ori kan ya bang? front hed jet9 minat? mirip2 oury mau bang? warna merah 081220456883 ini mas wa square taper mas blb track minat? punten, lagi bahas apa malah melenceng   dura ace minat ga mas? 109mm jadi kaya film anaconda ngeri bgt ini fork bawaan bro? wts blb track sz50  inc hs,seatpost,bb 1.8jt  cod sekitar ps.minggu/sentul #fnfjb   poin huruf e nya dibaca jg mba bisa mas 1.5 frame fork hs sc doang 1.7 +bb tange, seatpost mas    blb track minat ga mas sz50 dewa 19 abis liat ini,ada niatan buat ganti judul lagu elang ga? trade front hed jet9 saya nambah 300, kali minat gabisa mas, saya silinder hati2 diserang coba gaada kerusakan ya, uang jaminannya bisa disave buat hal yg lain ditambah kalo gasuka dijakarta balik lagi ke kampung lo sana -oren kalo ketinggalan barangnya dinegara lain bisa min? betrand peto kalo tua jadi betrand gepeto ini video aslinya kaya gmn sih? datang kembali yang nyanyi ruben tp pake hijab esther jago gambar kak ya kalo ditanya dalangnya siapa, ya ðÿ‡ºðÿ‡¸ dulunya vj mtv kalo yg gratis namanya tol -ol   wkwkwk titik kadarsih jgn sampe lupa -4jam buat karaoke disekitaran pabrik ada donor sel telur ga? lo udh salah jg mba masih aja bela diri bukannya minta maaf gitu, itu kan mas nya cuma ngasi tau masa2 puber. ini malah bawa2 nyokap ,bego ih tolol ih kamu, kamu anak pungut ya flite kulit recaro mau gan? suami goblok bisa buat minum juga sih ellipsenya gamau dijual mas? hed aja udh nih ambil bayarin punya gue aje win yg ntuhh prass no wa mas mutil crank pedalset bisa? msh ada? mutil crank om nettnya brp dong bb apa, ada wa? nyari yg 2jt dulu mas, makasih udh nawarin hehehe brp mas wtb crankset miche primato atau sugino 75 081220456883 #fnfjb include apa aja mas frame fork hs aja brp mas 2.2 kali dikasih bro ada wa? msh ada? crank omnium brp gan wtb fs pias sz 50 atau 53 wa 081220456883 #fnfjb msh bisa nego? pelacur mah biasanya ngomong mau st atau lt high land brp nih mas hs home schooling kenko jelek om, bagusan pentle    msh ada? kalo yg kaya gini aja sampe buka donasi, saya juga mau dong buka donasi buat bayar orang dalem biar jd pns bisa ga ya????? yahh aku aja blm difolback mba now playing -terdiam buat nahan banjir om, kan dikit lagi musim hujan hahaha flatbarnya aja brp brp nih om sjw = suka job wawancara dia maunya jd pendiri bukan pengikut masih ada? baru stem doang yg udh dpt,sisanya tawarkan lg kalo ada #fnfjb  \\xa0â€¦ lebih baik mana ya? wtb  stem thomson x2 budget 600 pedalset doublestrap budget 500 crankset omnium(item) budget 2jt saddle selle flite budget 600 087781897740 #fnfjb fsnya dpt apa aja om? ternyata sinetron azab indo lebih masuk akal brp nih om? frutang ke pleset bang dicampur kue cubit enak ga kak? greenteaaaa dota dong masi om masi ada framesetnya? ajo kaya abang2an ye duraace njs yg kiri, chainring sugino aeromighty 46t wa 081220456883   itu hakim yg sebelahnya kaya nahan ketawa wkwkwk komedi 5tahun sekali aku engga mba wsnya brp om 081220456883   vivalo minat? anda bacottt! dublingdore kepala sekolahnya harry potter!! ok min makasih bisa mas masi mas pake vpn nis biar bisa buka pornhub juga bacottttt!!!! sold mas saya suka toeclipnya aja mas brp stemnya brp mas? wts crankset dura ace fc7600njs panjang kedua arm 167.5mm arm+sugino zen 48t 2.3nett arm+sugino aeromighty 46t 1.8nett cod kalibata 081220456883  #fnfjb   wheelset hson archtype 32h fronthub campy record rearhub philwood,cog17t 3jt nett cod kalibata 081220456883  #fnfjb   nomernya gabisa di wa mas, 081220456883 ada saya nih hahaha tuker hexohm boleh ok tampung ya    2.3 ambil mas wts crankset duraace fc7600 njs keduanya panjang arm 167.5mm arm+sugino zen 48t 2.5jt arm+sugino aeromighty 46t 1.9 semua drat aman cod kalibata/direct trf 081220456883 #fnfjb   3.2 nego 3.2 nego aerohead x miche cog eightinch 15t 2.2 nego cod kalibata/kirim2 direct trf 081220456883  #fnfjb   boleh maaf om salah 08122045688381120456883 3.2 mas hson archtype rearhub phil,fronthub campy record chainring yg mana mas sold mas sisa saddle 90mm mas ws gabisa mutil mas 3.2 mas maaf mas gabisa hehe   \\xa0 hson archtype ,rearhub phil 17t, fronthub campy record, ban helios vera 9.shimano rt400 sz42+cleat dus dll lengkap  beberapa part masih bisa nego dan ada yg sdh nett 1. sp thomson 27.2+kashimax 1.2 2. nitto pearl njs 650rb 3.crankset da njs+sugino zen 2.5 4.barset qs 3t +deda nera 600rb 5.duraace njs+aeromighty 2jt 6.pedalset mks nuevo njs 600rb   \\xa0 aerohead+miche+ban 2.3 081220456883 #fnfjb cod kalibata/kirim2   ada nih mas 8 deh bro bsk cod,minus apa. ada line ga jakarta dong sini dpt apa aja nih wtb crank arm omnium budget 1.7 wtb frameset parallax budget 8jt tawarkan #fnfjb fs 4jt fs 4jt armnya doang brp iya repaint 4jt mas ada nih hehe kirain bisa turun lg hehe wa dl aja om maaf om toko udh tutup, skrng rumahan doang ditanah baru fb mas 1.5 om pearl 9 njs ,nitto shredbar sz 52 bro, 13nego 400om wa bro paling 081220456883 kalibata bro 1.5 nitto shredbar, nitto pearl njs 2.5 om kali minat mas arm dura ace, chainring zen   sejuta mas thomson, baru beli  minggu kemaren masih lengkap sarung dll 2.5nett sugino zen,arm dura ace njs 600, mks nuevo njs,strap mks fit njs,toeclip mks fullbike kiyo njs mutil perset 081220456883 #fnfjb   wts sepatu cleat shimano rt400 nominus mulus sz42 26.5cm bonus cleat,lace. box dll lengkap 800rb nett, cod kalibata 081220456883 . boleh ditest dulu, kalo gamuat jgn dipaksain beli #fnfjb   kali minat fullbike om   sini bar tbg apa prabowo udh cocok gantiin dolphino di trans 7 anak lo kelak bar.. udah kebuang min gmn dong, lagian barang udh sampe dari hari minggu. saya gatau kalo kaya gini kalo bukti resi fisiknya udh kebuang   @bukabantuan min tolong dong no transaksi 191929050646 dananya gabisa diteruskan kepelapak, saya sebagai pembeli dm harga bro wtb seatpost thomson 27.2 warna silver cari yg second aja tawarin ya kalo ada 081220456883 #fnfjb bracket remnya bisa kurang bro? kali aja minat kiyo njs lg dirumah faris bar? dengan apa bro? yuk masih ada #fnfjb  \\xa0â€¦ ambil fullbike? ada satu titik ditop tube masi mas ok broo 4.5 nego mas, dpt bb sugino75njs, headset hatta   kiyo njs kali minat brp harganya mas? #fnfjb masih ada,nego aja silahkan  \\xa0â€¦ pelajaran dari film dilan:  kalo bukan iqbal yg jd dilan, hanyalah film cinta2an pada umumnya dengan sedikit gombalan2 ovj bisa jadi koko pengikutnya mukena, makanya gemulai he-he bayarin ni yos,mau ganti die masi ada #fnfjb  \\xa0â€¦ wts fullbike kiyo njs barset nitto shredbar+pearl njs  saddle fivegold+stpost njs crankset duraace+sugino zen48t ws hson archtype hub phil+campy pedalset mks nuevo+mks fit frameset kiyo 52.5 bbsg75+hs hatta brakeset   13.5jt lebih lanjut wa aja 081220456883 #fnfjb @fix_fixed   bisa bro masih #fnfjb masi ada, best price!!  \\xa0â€¦ wts/wtt cassete sram pg1170 11-26t 11speed cari barteran 11-36t atau mau dijual 700rb nego  081220456883  #fnfjb @fix_fixed   mas zaky lulusan itb dpt ilmu disana ,berjuang jg disana. eh kok baru sekarang ngebandinginnya , wajar sih tahun politik hehe huhh chainringnya trade mau ga om   samping kiri pedal bracket buat rem bukan? ini brp bro? #fnfjb masih ada  \\xa0â€¦ masi bro mutil shotlevernya aja bisa? masi bro umat kamit kali bro maksudnya wts seatpost nitto njs 27.2 600rb 081220456883 @fix_fixed #fnfjb   sold broo seatpost specialized alias, bawaan fullbike specialized  ukuran27.2 100rb 081220456883 @fix_fixed #fnfjb   wts wheelset fnr h+son  ws front -hub miche pistard -rims h+son ff -ban helios ws rear -rims h+son eero -hub origin8 fixfix -cog roselli 18t+lockring allcity -ban cst caldera(baru) 1.5jt cod kalibata 081220456883 @fix_fixed @fnfjb #fnfjb     \\xa0   alig itu pamfletnya bahasa mana tuh 250 omm saya trf langsung hehe ajak2 lik kalo jajan ditebet 250 om wtb rims h+son archtype / tb14 sepasang , cari yg 32hole utamakan warna hitam . wa 081220456883 @fix_fixed @fnfjb #fnfjb udh sold om maaf sold thanks!  \\xa0â€¦ sold thanks!  \\xa0â€¦ 1.65 ambil mas blm bisaa mas wts chainring  sugino zen 48t mirror 1.3jt nett cod kalibata 081220456883 @fnfjb @fix_fixed #fnfjb   gabisa mas wts crankset omnium -chainring dura-ace 47t -bb gxp -chain hkk blue njs 47-16 -cog dura-ace 16t kondisi arm lecet,drat aman,bb aman langsung wa aja 1.8jt cod kalibata 081220456883 @fix_fixed @fnfjb #fnfjb   ada wa bro? brp mas masi ada mas? ini masi ada mas? booked  \\xa0â€¦ haha jangan mass maaf mas jual paketan aja wts crankset omnium+chainring duraace 47t+bb gxp minus lecet, drat semua aman 2jt nego 081220456883 @fix_fixed @fnfjb #fnfjb   wts frameset cinelli mash bolt 2012 sz53  -seatpost thomson -seatclamp thomson -bb tange -saddle sanmarco ponza -hs bawaan 7jt nego cod kalibata jaksel 081220456883 @fix_fixed @fnfjb #fnfjb   makasiii wts seatpost miche 27.2 (200rb) & saddle charge bucket (100rb) lokasi kalibata wa:081220456883 @fix_fixed @fnfjb #fnfjb   pedalset brp mas yg warna ungunya masi ada mas? wtt chainring sakra kanta ungu 47t dengan yg warna hitam/ sugino s-cubic 081220456883 @fix_fixed @fnfjb #fnfjb   650 bro baru beli sebulan 47t kali minat 081220456883   brakelevernya aja brp? mutil seatpost kalo boleh mutil ban gabisa bro? hahah duraace atau campy record jg boleh hehe cranknya dijual ga? mutil crank bisa mas? bolt 2012 mau mas? kalo nambah, nambah brp eh sisa tange levin njs deng,200rb bro   hatta swan mau mas? wa aja bro 081220456883 h+son eero kali minat   crankset brp crank campynya dijual mas? wtb  -quillstem nitto pearl 90mm/jaguar budget 400rb -seatpost nitto/thomson  27.2 warna silver budget 500rb -crankset sugino 75 budget 1500  wa 081220456883  @fix_fixed @fnfjb #fnfjb miche mau mas? sz brp as hubnya masi bawaan campy? wa ada? itu mau dituker atau diapain om? itu tubular om? campy apa om ada pict? lokasi dmn bro ni wa ane 081220456883 mash bolt sz53 081220456883 wtb dropbar os budget 350rb 081220456883 @fnfjb @fix_fixed #fnfjb kalo warna item h+son eero mau mas? frameset brp? sz brp? ambil ban satu aja mas bisa? barter sanmarco ponza minat ga bro?    wts risebar cinelli pepper+grip 350rb atau trade dengan dropbar 081220456883 @fnfjb @fix_fixed #fnfjb   dropbarnya aja brp mas? barset berapa wtt wheelset fnr h+son eero full black ,hub belakang origin8 cog18t,hub depan miche primato mulus. cari tukeran fnr full grey/silver picture via wa 081220456883 @fnfjb @fix_fixed #fnfjb barset gabisa kurang mas? nett bro bb cuma bonus 340mm mas, barang nos crankset+bb 150rb bro, bntr ane cek wts trackbar njs 250rb, crankset nexus bcd 130 46t+bb miche 150rb 081220456883  @fix_fixed #fnfjb   masi dong wtb chainring sakra budget 600rb, sugino zen budget 1jt 081220456883 #fnfjb @fix_fixed wtb crankset sram omnium black/ sugino 75 budget 1.8 usahakan masi mulus wa 081220456883 #fnfjb @fix_fixed masi ada? masi ada mas? barang sepeda sekarang mahal-mahal? -admin magang fullbike brp mas? frameset aja brp?? halo twitter mantan pesepeda jarang jajan..   mau jual barang2 sepeda cuma ga tau harga pasaran skrg..ðÿ˜“  apa kabar semua?mudah2an masih pada sehat..jauhi narkoba,dekati sepeda..ðÿ‘\\x8dðÿ\\x8f¼ masi ada bro? brp fi apa kabar dunia persepedahan..ðÿ˜š wtb framset pias size 50/53 budget 1,8 kalo ada angkut skrng 085719021998 #rbjb #fnfjb #fpjb @primafixed @cyclistsupply pias nettnya brp bro? @fathinoo sold fs nouvo sporty 2005,harga 13jt nego.081380004605,jakarta.   @rizky_85y85 di tanah baru,depok @wiracalinputra ud laku om..itu saddle om @rizky_85y85 ud ga ada toko,kita rumahan aja,itu juga tinggal sisa nya aja :) toeclip merah,toeclip chrome,toeclip putih,hub novatech sold yak..sisa toeclip putih dll. @hidayat_alwi 100 fs sadle merk charge,new,putih hrga 150rb nego dikit dahhh..jgn banyak2 ntar batuk. 081380004605 / 51926ac4 #fnfjb   @hidayat_alwi rear,32h jadi 36h,merk mecca. praktis,efisien,hemat waktu..delcont. simple :). be a smart buyer. @daenny_seren iyak,blkng doang. @daenny_seren masih,150rb no cog,32h. fs:toe clip merk ckc,ada yg single,ada yg double..strap kaga ada..saddle charge..hrga 30rb-150rb   @frasya_23 70rb,toeclip doang,strapny ga ada..baru @rikobenito83 iyak broo fs:sisa2 ada yg 2nd,baru hub novatec l key,trckbr dll harga dr 30rb-150rb..51926ac4/wa 081380004605 #fnfjb   @hub_n_thug ramein shayyy klo kata abegeh2..ga punya speda om..huft @rikobenito83 itu thn 2013 om..ud laku @hub_n_thug iyak tante..wkwk @fahmi_cuyy mau di jual aj om,butuh duit.. @junicotrian di bangka om,jaksel..blm foto lg om wts roadbike,frame balap custom 700c,ws alexrims,gs 2300,8speed,hrg 2,3 nego,jarang pake,081380004605/51926ac4 #fnfjb   jual aje nih bantuin temen,roadbike frame balap custom 700c,gs shimano 2300,8sp,ws alexrims bawaan masi,pin 51926ac4   @bcycler @andangnugroho ada yg mau jual crank sram omnium??brp?thx wtb crank sram omnium (chainring yg masih bawaannya) klo ada kabarin yak 081380004605 tengkyuuu #fnfjb #rbjb wts : bianchi infinito sz 50 carbon,gs 105,ws fulcrum racing7. hrg 15jt nego dikit.081380004605 #fnfjb #rbjb mkasih y   for sale : bianchi infinito sz 50,full carbon,gs 105,ws fulcrum racing7,harga 16jt,no tt/barter.081380004605.   dari google bos hehe pengen juga nih :(   @siapaaja245 081380004605 sms aj bro,jarang ol,ntar gw tanyain sm temen.. wts roadbike bianchi gs shimano 105.crank,seatpost,barset fsa,ws fulcrum,frame carbon full.081380004605 17jt #fnfjb   @vickyhanggara_ sold @vickyhanggara_ os brooo..masih ada @aditnaufal02 minat contc langsung aj,no ada kok thx @aditnaufal02 adaaa.. @riko94685565 waduh ud lama bgt itu..mungkin skrg ud ga berbentuk sepatu om wkwkw for sale 150k,uk 31,6   @abenksepeda for sale for sale...@100k - 150k   @ainunstore harganya brp ommm?? @hub_n_thug tutup sat.. @pinguinterbang nah masuk yg warung jati timur,kurang lebih 200m,nanti adanya di kanan..samping tukang pisang. @adityaapk jl.warung jati timur..jak sel @pinguinterbang di pinggir jalan,samping warung yg jual pisang..hari ini tutup. @adityaapk ga ada dropbar..adanya trackbar @hub_n_thug hahaha..bisa aja pak satt..dewasa(dot)tk nih lo pilih dah..@100k-150k., yg os cuma trackbar nitto(pake bartape). minat 081380004605.   mbaa zeda cakep :* @zuraydasalim1: don't lie to people that trust u, and don't trust people that lie to u   @jalucahyo kosong mas wts trackbar united new std @100k,trackbar nitto (os) bullhorn std @150k,saddle charge 150k..081380004605 #fnfjb   buat temen2 yg ngerasa sepeda/part2 sepeda nya ada di bengkel saya harap di ambil ya.trimakasih. @jodyadit pias mirasih alhamdulillah pias sold out,berkah hujan. @heroakkbar_ terus???selooowwwww..tengkyu yak pak bos.. @afifcozz mantappp! cuma ngasih tau,jakarta lg panas..mau bikin panas lg?! apaan aje jadi duit yg penting halal..jual hewan qurban 2jtan..minat dateng aje ke bengkel ane.   @mrbaharsah tuker duit aja om hehe @fixsale tuker duit aja om hehe wts pias sz 55 2,2 nego (frm,fork,hs,bb,seatpost,sadle turbo) 081380004605..#fnfjb   kali aj ad yg mau bayarin chain stay protector campagnolo,biar chain staynya ga baret..150k passs.081380004605 #fnfjb   @anadrepartup yah..trackbr kyknya om   @anadrepartup budget brp?ada nih os merk nitto warna chrome ud ada bartapeny(hitam).. nyeprisss..@hub_n_thug   @hub_n_thug ga ngegasss ommm..wkwkw @dickynurjaya19 gw majang motor di tukang pisang samping bengkel sepeda gw gpp tuh.. padahal die jual pisang :) @heroakkbar_ sorry jg dah jual motor di forum sepeda salah?? usaha gw juga di bengkel sepeda,jual motor ya gw butuh dana..salah??? kalo salah ya maap.. wakwawww! @heroakkbar_ salah??? @dickynurjaya19 salah??? di jual nouvo lele 2002.pajak mati juni kmaren. harga 10,5 nego dikit..spek call/invite 081380004605/74f9ec4b #fnfjb   @sallicious masih gannn seatpost cinelli vai 31,6 150 rebu ga ada yg minat nih?? di jual nouvo 2002,surat lengkap (stnk warna kuning)..hrga 10,5 nego dikiitt..kali gitu ada yg minat maen nouvo..:)   trackbar nitto os warna chrome+bartape hitam..200 rebu. 081380004605 pias nya om size 55,warna black gold..frame+fork+headset+seatpost+sadle..sms aja omm 081380004605 #fnfjb   @kevinsyahrulp kurang tau ukuran frame taiwan nya om..asal 31.6 mah bisa.. @nanang0711 sms ke 081380004605 ada yg minat sama frameset pias size 55 ???   @cahyaadita sold out @rafif_6b ud laku om..ud lama bgt nih gw jual murah seatpost cinelli vai 31,6 150 rebu aja boskuu..081380004605 #fnfjb   iseng aktifin eh isi timeline ttg pilpres mulu ye,lebih banyak politikus jokowow drpd prabowow.. ciieee politikussss *colekdagu.. wts seatpost cinelli vai 31.6..325 rebuu..nego dikitttt..081380004605. #fnfjb   @sikluscycling belum om..hehe trimakasih buat smuanya yg mendo'akan,yg datang maupun yg tidak..smoga do'a kalian di kabulkan..amin ya robbal alamin. skali lg trimakasih. slamat jalan umi,smoga adzan trakhirku buat umi & do'a2ku mengantar umi ke surganya allah swt,amin..slamat jalan umi.   @rizkyputraprat2 @nfcrews @bks_courier aminnn..iya om,mkasih banyak..mohon do'anya. @adityaapk amin..mkasih banyak om mhon do'anya. @yayatabenk182 amin ya allah,mkasih banyak om. @a_carnelo @nfcrews aminnn..trimakasih banyak ya. @nfcrews amin ya allah..trimakasih banyak..mhon do'a nya. @danke_hidayat trimakasih banyak om..amin ya allah..maaf om baru buka twitter wts cog 2nd dura ace njs 14t..150k nego. 081380004605. jual nih nouvo lele 2002..9,5 nego.   aminnn..makasih buat do'anya kawan. hati2 di jalan..tetap mengayuh kawan. maaf bengkel tutup sementara,ga tau sampe kapan..mohon do'anya buat kesembuhan ibu saya. makasih kawan.    @jr_rizqinugraha ga ada om.. tergantung,klo ga bisa di ganti rumah drat bb nya @evandrmwn: @abenksepeda bang bisa benerin drat frame dibagian bb ga? bayar dahhh   \\xa0â€¦ wts trackbar nitto os..250 k..nego 081380004605 @fnfjb   @binsyechbu 74f9ec4b @binsyechbu scoopy yg mana om injection?apa karbu?yg nambah siapa..? @strafixiegear okee omm.. @refincuks ga ada,coba ke @r_bikeshop @strafixiegear cek dm. chelsea olivia? bukhhan maeennn @jakartaholic: eden hazard abaikan cedera demi chelsea masih mending,gue kondangan sendirian @jakartaholic: di bogor boediono hanya didampingi wakil menteri agama ho'oh..@irwanneutron: kondangan sendiri itu berasa jadi tontonan :)) klo kata anak masa kini lg gabut..hahaha @nananghanafi66: @abenksepeda maksa bener dahh ahh ni senin,selasa,sabu,samis,sum'at,sabtu,singgu.. deket apaan yak?alpen kali ya @reggyferian: @abenksepeda om warung jati deket mana? pengen liat-liat nih di jual nouvo lele 2002,pajak hidup,10jt nego boskuuu..   kurang spesifik om @taradz13: @abenksepeda kalo ada yg jual seatpost  ,hub sama crank merek apa az ,,mention yah :d @gresia_rendy sold om derby madrid mlm ini apa besok yaaakkk...??? hahaha muke gilee @kriotea_: di situ aja bang biar bisa rt terus rt @abenksepeda: maaf ya klo klamaan nunggu di rtin,maklum paket ... @dwiazrul bisa jadi.. aduuuhh..reply/mention langsung ke orangnya bapaaakkk..jgn ke semuaaaanyaaahhh. maaf ya klo klamaan nunggu di rtin,maklum paket abangnya ud abisss...*kode:)).  ini aja lg di bis yg ada wifi nya. hahaha @danke_hidayat: bocah.. bocah..  duit msh nadah sm org tua aj gaya nya dah tggi bgt, gmn kl dah bs ksh nafkah ke org tua.. bisa boskuuu..@afrianyudha1107: bos re-paint kaya gini sabi gaa hahaha @abenksepeda  http://t ada yg tau pasaran harga crank campy record 49t ? kondisi mulus.   cocok buat pasangan..   @alfandi_muharam warung buncit.jaksel 3-0 cukuppp hehehe @fnfbjm: #halamadrid @abenksepeda: yg besok mau cfd tp ban dlmnya bocor..mau beli bingung beli dmn krn ud bu bu bu...butuh untung???! yg besok mau cfd tp ban dlmnya bocor..mau beli bingung beli dmn krn ud mlm..saya masih buka kok..smbl nonton madrid.   maksudnya tinggal angkat polisinya.. masuk jlur bus way ya masuk2 aje..cuma mata kudu waspada..klo ada polisi ya tinggal angkat..beres. tv ommm..@kriotea_: ini liat nya bukan acara tv ni, rt @abenksepeda: strikeeeeeeeee..!!! ngaceng maniaaa...mantaappp !!! ada adaan ini @ario_adipati: apa apaan ini? :d@abenksepeda: strikeeeeeeeee..!!! ngaceng maniaaa...mantaappp !!! typo om..;) @alifadhilah48: mancing om mancing hahahah@abenksepeda: strikeeeeeeeee..!!! ngaceng maniaaa...mantaappp !! strikeeeeeeeee..!!! ngaceng maniaaa...mantaappp !!! di puter/di plintir2 dulu..baru siap di pompa naek turun..#awww...#pentilban #kuisfnf @orzx23 @fixietas @fixedandfurious ini orang sering lewat bengkel gue..sering negor.mau nanya tp doi buru2 mulu bengkel yg jam segini masih buka..ujan pula..bowcowr. mata tak kunjung padam..jam 6 masih melek. di mane aje update..@sini..@situu..@yahoo.com lau ga sebut tuh ??? ayo follow follow biar cpt laku :)) @fixedandfurious: yg suka jual beli part,jangan lupa difollow @fnfjb  cek favorites kita buat detailnya lagi musim penalti sekalian kartu merah kyknya..tapi lebih parah yg kmaren..klo yg skrg sedikit fair. madrid nya blm mulai..lama bener! @m81e alhmdllh sehaaat..di sehat sehatin..pak mbie sehat??lg ga d bngkl pak.. cuma mau ngucapin selamat buat @yosacil akhirnya lepas juga tuh keperjakaan..jgn lupa di rawat ya pake chain lube. bisa aja ah joki abenk yg baru jadian ini @yosacil: betah banget disana, buka bengkel lagi ya bang?wkwk@abenksepeda: kangen bengkel ter aminnn..sampai tetes trakhir @arumpratama: hahah :d yg pnting cintanya takterhingga bang :d:d  @abenksepeda: jauh dekat rp.3500 @sya pantesss frame blm dateng jg di bengkel saiyah @m81e: finally.. datang juga pesanan saiyah #jagwire #roadpro #completecablekit #red  http: kangen bengkel tercinta beserta habitat2nya.. jauh dekat rp.3500 @syahrialp: walaupn jauh, tapi tak trasa jauh.he {} rt @arumpratama: ketika jarak sudah biasa waduhhh  \\xa0â€¦ @muhammadnovaldi udah @ahmdganis pembalap cinta..aiihhhh menurut saya obat *obatkuat @nasehat2bijak: satu hal yang buat kita kuat adalah doa *alfi* (kapangueikutrace?) @ahmdganis: contoh *piip* udah berdarah2 terus lanjut race dan berusaha masa yg pake apaan tos nya mas aril??? @syahrialp: wes iya lah yang,, toss dulu rt @arumpratama: malam yang indah oh nabrak? gue ga ada contactnya,si rio..ntar klo ketemu gue sampein @ilalbilal: @abenksepeda sob, anak abenk yg nabrak sepeda ujan???..kucing aje klo ujan ga kluar alias ngumpet,gimana oraaaangggg...*bengkeljdsepi wts boskuuu..stem ritchey pro 100mm os..250nego..081380004605.#fnfjb makasih.   jualan lg nih boskuuu..kliping alias roda samping..buat anak / buat yg sering jatoh..   sore.. ga sampe jual sepeda kok @ariaous: @abenksepeda wkwk *mabok chain lube* brpan tuh ngelepasnya? @gerymv hehehe..keren om spatunya..sama2 om. bang ada grip oury ga?â€¢yahh oury ga ada,adanya kw..mau?? rt..*bangkunya bagus :d @gerymv: shoes specialized road new size lengkap 900k nego bgt @fixedandfurious @fnfsolo @fixiesolo @surakatrack bisa,ngelepas dahaga jg bisa..@ariaous: @abenksepeda bro, di abenkspd bs ngelepas chainring gak y? @fixietas iya sihhh :)) bukan sholat jum'at doang yg bikin kegantengan bertambah..(katanya).sepedahan juga..;). #manfaats\""
      ]
     },
     "execution_count": 29,
     "metadata": {},
     "output_type": "execute_result"
    }
   ],
   "source": [
    "data['Tweet_Parsed2'].loc[1]"
   ]
  },
  {
   "cell_type": "code",
   "execution_count": 30,
   "metadata": {},
   "outputs": [
    {
     "data": {
      "text/plain": [
       "' throwback   bro fork alpina dijual ga  insolenya brp cm ya mas  sampe jugaa    posindonesia tolong diperbaiki layanannya tlpn call center 161 status paket ada di kantor pos pusat lap banteng   saya tlpn ke sana berkali2 ga diangkat giliran saya kesana  taunya paket lg dalam perjalanan sedangkan cek resi status gaberubah2 masih release by customs nett om  free ongkir jabodetabek 32 atau 36 hole mas  325rb mks sylvan ckc strap vp   brp nih mas mas ws depannya msh ada  msh ada  pernah  suka sama pevita ah ga mungkin sama dia    bernie sendernya wts barang tidak terpakai   wheelset mavic ellipse inc ban 5jt   pedalset mks royal nuevo starfuckers strap sag 900rb   crankset miche 48t 1 5jt  harga di atas nett ya kecuali crank bisa nego dikit 081220456883 cod pasar minggu sentul cibinong makasihh  fnfjb    bcpasarbaru  bravobeacukai min no resi rv327545733cn prosesnya udh sampe mana ya  makasih    dulu2 kemana aja ya  giliran skrng banyak yg mulai b2w malah diribetin kaya gini min cek dm hehe ada di chainstay fork top tube sticker pada masanya   wadaawww banget harganya bikin decal giro njs bisa ga bro  bb sugino 75 njs 109mm minus dust cover gaada 450rb  081220456883   fnfjb   hahaha min cek dm crank ota sold  fnfjb  \\xa0â€¦ iya sama  kadang pake flazz jg gabisa knalpot mio mberrr kita ready banyak pras uler uler emg gabakal berubah   \\xa0â€¦ wts  bb sg75 njs 450rb  crank miche 48t 165mm 1 5jt  crank otayava bcd144 46t 170mm 450rb  pedalset mks ckc strap vp 325rb minus pedal kiri tutupnya gaada  rolf vigor ban baru ganti 2 5jt  cog 15t bawaan aventon 100rb 081220456883  cod/direct trf  free ongkir p jawa   fnfjb   clan aditya  adhitia sofyan  jamie aditya  adityalogy  teddy adhitya pasti pas malem2 ada malam muhasabah ini msh ada mas  nah mungkin thread diatas sebagian bener bro  tp lebih banyak yg di lebih2in serius mba  pas awal2 pindah kerumah baru tp kalo ditimpuk batu sama setan saya pernah ngerasain langsung mas nitip yang bener yang kaya gmn coba kasi tau  kayanya lo udh paling paham ni kadang jco kalo gaada kembalian nukerin duitnya di breadtalk awww kekuatan 1 army bts   2 navy seal kalo gasalah nafsu   tau banget ini nah iya anggota dpr aja di ajak ketemuan  gimana ini yg ava nya rata2 foto idolnya bikin konten sodara2 lg bang sama bang adiarta  seru ngeliat wibu2 macho lah saya kira dia masih sd he he besok2 ninja warrior adain di mrt fear factor bang sekalian atau ninja warrior mantap bang disitu lo gadapet hadiah ya makanya pegang mic doang ada jg yg blm laku tp tiap menit iklannya muncul terus bogor mas  cod ps minggu jg bisa   harga pas mas hehe allcity tuker cog miche15t om boleh  tanpa chainring maksudnya  orang kalo abis putus sama yg beda agama jadi lebih bijak ya   bagus deh wts  pedalset mks ckc strap vp 300rb minus tutup pedal kiri liat pict   crank otayava bcd 144 450rb chainring viva  panjang arm 170mm  crank miche bcd 144 1 5jt panjang arm 165mm  bb kotak dura ace njs bb sg75 njs 350rb   450rb pict menyusul cod  kirim2 oke 081220456883/dm  fnfjb    aww mlu banget    bener banget bahaya laten pki apa salahnya alig lu brooo berapa ini mas  mending jangan maksain   ati2 bang persamaan army bts sama soeharto sama2 anti kritik masih mas yao ming kalo naik bajaj atepnya mesti dibuka ada yg gabisa dipake orang lain bang  mamah  jemput kiki    kiki makan nyamuk nah mba ngapain ribet sama opininya panca  kan kalo menurut dia ga lucu yaudah gabisa dipaksain  kan mba sendiri yg bilang selera orang beda2 ws depannya brp mas murah bgt iniii mau ngurang2in barang dulu om hehe ambil ws front aja brp mas 8122045688381220456883 wts crank ota yava bcd144  46t 450rb nett   fnfjb   hi   udh sold gan ambil ws front aja brp mas mau nanya om wsnya pake hub apa  kan bahaya sama haram beda mba   perpanjang stnk gapernah kena pungli  satu lg bikin skck jg aman tuh dari pungli  tapi kalo bikin sim ya gitu deh    mantep lo bang  banyak anak banyak subscriber apalagi kalimat profesi yang cukup prestisius wkwkwk dari thread si korban hotelnya cuma cepe om  pasti gaada tv nya mas kira aku cewe apaan pernyataan yg sangat kontras sama yg udh terjadi di awal   yg cowo ngelanggar kesepakatan di awal  yg cewe mudah bgt percaya sama orang yg baru bgt dia kenal sampe bj hj oral segala ya tapi keduanya emang sama2 salah mba iya langsung denger lagu opik yah dia udah sampe foreplay segala dan setuju  gunanya foreplay buat apaan lg emang kalo gamenjurus ke arah sana  biar mudah dpt kerja/biar awet muda/biar makin akrab  brp nih om  duit sih pasti ada om  mungkin ingin memacu adrenalin 6â° om  panjang 100mm wts barang2 tidak terpakai 1  bb tange baru beli 2minggu 150rb 2  barset stem zipp flatbar xlr 450rb 3  pedalset mks ckc allcity 350rb 4  pedalset vp 100rb 5  cog aventon 15t 150rb 6  front rolf vigor 2 7jt 7  hanya pemanis  081220456883  fnfjb   no wa om bales go green aja cup  pasti mereka takut pasti bernii broadcast kaya gini biasanya beredar di group alumni desember yudha keling versi putihan  dikit  waduuuhh maaf mas udh sold os ya om  gabisa om  ntar yg sebelah gaada jodohnya hehe wts pedalset mks ckc strap allcity  minus pedal sebelah kiri tutupnya gaada 350rb nett   fnfjb   sekelas lewis hamilton kalo tes sim disini juga gabakal dilulusin kalo jalur normal  ya paling ga harus ulang 2x nettnya brp emg mas  sejuta masuk ga mas  nyari cog kaya gitu dimana mas sepasang atau rear doang bro  gabisa om wts barset stem zipp service course 100mm 6â° flatbar xlr  grip 450rb nett   fnfjb   wts rear wheelset  velocity b43 32hole mulus hub soma cog miche 15t  ban cst 800rb nett   fnfjb   suruh temennya aja yg buatin katanya gratis  goblok amat ye wts frameset tsunami snm500 include bb hs baru 2minggu beli dari baru box msh ada 4 7nego tipis makasih  fnfjb   berni lagi aja     berni lagi aja    bukan walikotanya aja mas yg ahli tata kata  gubernurnya juga fyi itu custom mas vigornya kalo dijual brp mas  aminn sangat risih  kecuali temen deket gpp deh frameset brp mas brp nih mas brp ni mas gue pernah ngeliat yg lebih parah  lg makan roti bakar cowonya ngobel2 cewenya yg gue lakukan ya lebih baik pindah tempat daripada ngevideoin diem2 kaya gini elah  kalo depresi msh sempet main medsos yang ada tambah depresi blog   itu mah caper blb track minat ga mas  jgn waterbase  malah kerebus nanti waktu mabuk aku jadi penurut bgt  taunya aku mabuk asmara hehe gini aja dipermasalahin  malah bagus ada tanda kaya gitu  gue jg pejalan kaki tp lebih sering naik sepeda sih  kalo ngeliat tanda dilarang melintas yaudah ikutin aja gausah ribet lagian masing2 udh ada jalurnya kan iye iye blb track sz50 kasi liat depan matanya mas biar dia tonton abis itu baru bandingin   \\xa0  nonton ini dulu mas  baru bandingin sama mci hed jet9 minat ga mas  ada cctv ga bang   edwinnmuhammad nih win ori kan ya bang  front hed jet9 minat  mirip2 oury mau bang  warna merah 081220456883 ini mas wa square taper mas blb track minat  punten  lagi bahas apa malah melenceng   dura ace minat ga mas  109mm jadi kaya film anaconda ngeri bgt ini fork bawaan bro  wts blb track sz50  inc hs seatpost bb 1 8jt  cod sekitar ps minggu/sentul  fnfjb   poin huruf e nya dibaca jg mba bisa mas 1 5 frame fork hs sc doang 1 7  bb tange  seatpost mas    blb track minat ga mas sz50 dewa 19 abis liat ini ada niatan buat ganti judul lagu elang ga  trade front hed jet9 saya nambah 300  kali minat gabisa mas  saya silinder hati2 diserang coba gaada kerusakan ya  uang jaminannya bisa disave buat hal yg lain ditambah kalo gasuka dijakarta balik lagi ke kampung lo sana  oren kalo ketinggalan barangnya dinegara lain bisa min  betrand peto kalo tua jadi betrand gepeto ini video aslinya kaya gmn sih  datang kembali yang nyanyi ruben tp pake hijab esther jago gambar kak ya kalo ditanya dalangnya siapa  ya ðÿ‡ºðÿ‡¸ dulunya vj mtv kalo yg gratis namanya tol  ol   wkwkwk titik kadarsih jgn sampe lupa  4jam buat karaoke disekitaran pabrik ada donor sel telur ga  lo udh salah jg mba masih aja bela diri bukannya minta maaf gitu  itu kan mas nya cuma ngasi tau masa2 puber  ini malah bawa2 nyokap  bego ih tolol ih kamu  kamu anak pungut ya flite kulit recaro mau gan  suami goblok bisa buat minum juga sih ellipsenya gamau dijual mas  hed aja udh nih ambil bayarin punya gue aje win yg ntuhh prass no wa mas mutil crank pedalset bisa  msh ada  mutil crank om nettnya brp dong bb apa  ada wa  nyari yg 2jt dulu mas  makasih udh nawarin hehehe brp mas wtb crankset miche primato atau sugino 75 081220456883  fnfjb include apa aja mas frame fork hs aja brp mas 2 2 kali dikasih bro ada wa  msh ada  crank omnium brp gan wtb fs pias sz 50 atau 53 wa 081220456883  fnfjb msh bisa nego  pelacur mah biasanya ngomong mau st atau lt high land brp nih mas hs home schooling kenko jelek om  bagusan pentle    msh ada  kalo yg kaya gini aja sampe buka donasi  saya juga mau dong buka donasi buat bayar orang dalem biar jd pns bisa ga ya      yahh aku aja blm difolback mba now playing  terdiam buat nahan banjir om  kan dikit lagi musim hujan hahaha flatbarnya aja brp brp nih om sjw   suka job wawancara dia maunya jd pendiri bukan pengikut masih ada  baru stem doang yg udh dpt sisanya tawarkan lg kalo ada  fnfjb  \\xa0â€¦ lebih baik mana ya  wtb  stem thomson x2 budget 600 pedalset doublestrap budget 500 crankset omnium item  budget 2jt saddle selle flite budget 600 087781897740  fnfjb fsnya dpt apa aja om  ternyata sinetron azab indo lebih masuk akal brp nih om  frutang ke pleset bang dicampur kue cubit enak ga kak  greenteaaaa dota dong masi om masi ada framesetnya  ajo kaya abang2an ye duraace njs yg kiri  chainring sugino aeromighty 46t wa 081220456883   itu hakim yg sebelahnya kaya nahan ketawa wkwkwk komedi 5tahun sekali aku engga mba wsnya brp om 081220456883   vivalo minat  anda bacottt  dublingdore kepala sekolahnya harry potter   ok min makasih bisa mas masi mas pake vpn nis biar bisa buka pornhub juga bacottttt     sold mas saya suka toeclipnya aja mas brp stemnya brp mas  wts crankset dura ace fc7600njs panjang kedua arm 167 5mm arm sugino zen 48t 2 3nett arm sugino aeromighty 46t 1 8nett cod kalibata 081220456883   fnfjb   wheelset hson archtype 32h fronthub campy record rearhub philwood cog17t 3jt nett cod kalibata 081220456883   fnfjb   nomernya gabisa di wa mas  081220456883 ada saya nih hahaha tuker hexohm boleh ok tampung ya    2 3 ambil mas wts crankset duraace fc7600 njs keduanya panjang arm 167 5mm arm sugino zen 48t 2 5jt arm sugino aeromighty 46t 1 9 semua drat aman cod kalibata/direct trf 081220456883  fnfjb   3 2 nego 3 2 nego aerohead x miche cog eightinch 15t 2 2 nego cod kalibata/kirim2 direct trf 081220456883   fnfjb   boleh maaf om salah 08122045688381120456883 3 2 mas hson archtype rearhub phil fronthub campy record chainring yg mana mas sold mas sisa saddle 90mm mas ws gabisa mutil mas 3 2 mas maaf mas gabisa hehe   \\xa0 hson archtype  rearhub phil 17t  fronthub campy record  ban helios vera 9 shimano rt400 sz42 cleat dus dll lengkap  beberapa part masih bisa nego dan ada yg sdh nett 1  sp thomson 27 2 kashimax 1 2 2  nitto pearl njs 650rb 3 crankset da njs sugino zen 2 5 4 barset qs 3t  deda nera 600rb 5 duraace njs aeromighty 2jt 6 pedalset mks nuevo njs 600rb   \\xa0 aerohead miche ban 2 3 081220456883  fnfjb cod kalibata/kirim2   ada nih mas 8 deh bro bsk cod minus apa  ada line ga jakarta dong sini dpt apa aja nih wtb crank arm omnium budget 1 7 wtb frameset parallax budget 8jt tawarkan  fnfjb fs 4jt fs 4jt armnya doang brp iya repaint 4jt mas ada nih hehe kirain bisa turun lg hehe wa dl aja om maaf om toko udh tutup  skrng rumahan doang ditanah baru fb mas 1 5 om pearl 9 njs  nitto shredbar sz 52 bro  13nego 400om wa bro paling 081220456883 kalibata bro 1 5 nitto shredbar  nitto pearl njs 2 5 om kali minat mas arm dura ace  chainring zen   sejuta mas thomson  baru beli  minggu kemaren masih lengkap sarung dll 2 5nett sugino zen arm dura ace njs 600  mks nuevo njs strap mks fit njs toeclip mks fullbike kiyo njs mutil perset 081220456883  fnfjb   wts sepatu cleat shimano rt400 nominus mulus sz42 26 5cm bonus cleat lace  box dll lengkap 800rb nett  cod kalibata 081220456883   boleh ditest dulu  kalo gamuat jgn dipaksain beli  fnfjb   kali minat fullbike om   sini bar tbg apa prabowo udh cocok gantiin dolphino di trans 7 anak lo kelak bar   udah kebuang min gmn dong  lagian barang udh sampe dari hari minggu  saya gatau kalo kaya gini kalo bukti resi fisiknya udh kebuang    bukabantuan min tolong dong no transaksi 191929050646 dananya gabisa diteruskan kepelapak  saya sebagai pembeli dm harga bro wtb seatpost thomson 27 2 warna silver cari yg second aja tawarin ya kalo ada 081220456883  fnfjb bracket remnya bisa kurang bro  kali aja minat kiyo njs lg dirumah faris bar  dengan apa bro  yuk masih ada  fnfjb  \\xa0â€¦ ambil fullbike  ada satu titik ditop tube masi mas ok broo 4 5 nego mas  dpt bb sugino75njs  headset hatta   kiyo njs kali minat brp harganya mas   fnfjb masih ada nego aja silahkan  \\xa0â€¦ pelajaran dari film dilan   kalo bukan iqbal yg jd dilan  hanyalah film cinta2an pada umumnya dengan sedikit gombalan2 ovj bisa jadi koko pengikutnya mukena  makanya gemulai he he bayarin ni yos mau ganti die masi ada  fnfjb  \\xa0â€¦ wts fullbike kiyo njs barset nitto shredbar pearl njs  saddle fivegold stpost njs crankset duraace sugino zen48t ws hson archtype hub phil campy pedalset mks nuevo mks fit frameset kiyo 52 5 bbsg75 hs hatta brakeset   13 5jt lebih lanjut wa aja 081220456883  fnfjb  fix fixed   bisa bro masih  fnfjb masi ada  best price    \\xa0â€¦ wts/wtt cassete sram pg1170 11 26t 11speed cari barteran 11 36t atau mau dijual 700rb nego  081220456883   fnfjb  fix fixed   mas zaky lulusan itb dpt ilmu disana  berjuang jg disana  eh kok baru sekarang ngebandinginnya   wajar sih tahun politik hehe huhh chainringnya trade mau ga om   samping kiri pedal bracket buat rem bukan  ini brp bro   fnfjb masih ada  \\xa0â€¦ masi bro mutil shotlevernya aja bisa  masi bro umat kamit kali bro maksudnya wts seatpost nitto njs 27 2 600rb 081220456883  fix fixed  fnfjb   sold broo seatpost specialized alias  bawaan fullbike specialized  ukuran27 2 100rb 081220456883  fix fixed  fnfjb   wts wheelset fnr h son  ws front  hub miche pistard  rims h son ff  ban helios ws rear  rims h son eero  hub origin8 fixfix  cog roselli 18t lockring allcity  ban cst caldera baru  1 5jt cod kalibata 081220456883  fix fixed  fnfjb  fnfjb     \\xa0   alig itu pamfletnya bahasa mana tuh 250 omm saya trf langsung hehe ajak2 lik kalo jajan ditebet 250 om wtb rims h son archtype / tb14 sepasang   cari yg 32hole utamakan warna hitam   wa 081220456883  fix fixed  fnfjb  fnfjb udh sold om maaf sold thanks   \\xa0â€¦ sold thanks   \\xa0â€¦ 1 65 ambil mas blm bisaa mas wts chainring  sugino zen 48t mirror 1 3jt nett cod kalibata 081220456883  fnfjb  fix fixed  fnfjb   gabisa mas wts crankset omnium  chainring dura ace 47t  bb gxp  chain hkk blue njs 47 16  cog dura ace 16t kondisi arm lecet drat aman bb aman langsung wa aja 1 8jt cod kalibata 081220456883  fix fixed  fnfjb  fnfjb   ada wa bro  brp mas masi ada mas  ini masi ada mas  booked  \\xa0â€¦ haha jangan mass maaf mas jual paketan aja wts crankset omnium chainring duraace 47t bb gxp minus lecet  drat semua aman 2jt nego 081220456883  fix fixed  fnfjb  fnfjb   wts frameset cinelli mash bolt 2012 sz53   seatpost thomson  seatclamp thomson  bb tange  saddle sanmarco ponza  hs bawaan 7jt nego cod kalibata jaksel 081220456883  fix fixed  fnfjb  fnfjb   makasiii wts seatpost miche 27 2  200rb    saddle charge bucket  100rb  lokasi kalibata wa 081220456883  fix fixed  fnfjb  fnfjb   pedalset brp mas yg warna ungunya masi ada mas  wtt chainring sakra kanta ungu 47t dengan yg warna hitam/ sugino s cubic 081220456883  fix fixed  fnfjb  fnfjb   650 bro baru beli sebulan 47t kali minat 081220456883   brakelevernya aja brp  mutil seatpost kalo boleh mutil ban gabisa bro  hahah duraace atau campy record jg boleh hehe cranknya dijual ga  mutil crank bisa mas  bolt 2012 mau mas  kalo nambah  nambah brp eh sisa tange levin njs deng 200rb bro   hatta swan mau mas  wa aja bro 081220456883 h son eero kali minat   crankset brp crank campynya dijual mas  wtb   quillstem nitto pearl 90mm/jaguar budget 400rb  seatpost nitto/thomson  27 2 warna silver budget 500rb  crankset sugino 75 budget 1500  wa 081220456883   fix fixed  fnfjb  fnfjb miche mau mas  sz brp as hubnya masi bawaan campy  wa ada  itu mau dituker atau diapain om  itu tubular om  campy apa om ada pict  lokasi dmn bro ni wa ane 081220456883 mash bolt sz53 081220456883 wtb dropbar os budget 350rb 081220456883  fnfjb  fix fixed  fnfjb kalo warna item h son eero mau mas  frameset brp  sz brp  ambil ban satu aja mas bisa  barter sanmarco ponza minat ga bro     wts risebar cinelli pepper grip 350rb atau trade dengan dropbar 081220456883  fnfjb  fix fixed  fnfjb   dropbarnya aja brp mas  barset berapa wtt wheelset fnr h son eero full black  hub belakang origin8 cog18t hub depan miche primato mulus  cari tukeran fnr full grey/silver picture via wa 081220456883  fnfjb  fix fixed  fnfjb barset gabisa kurang mas  nett bro bb cuma bonus 340mm mas  barang nos crankset bb 150rb bro  bntr ane cek wts trackbar njs 250rb  crankset nexus bcd 130 46t bb miche 150rb 081220456883   fix fixed  fnfjb   masi dong wtb chainring sakra budget 600rb  sugino zen budget 1jt 081220456883  fnfjb  fix fixed wtb crankset sram omnium black/ sugino 75 budget 1 8 usahakan masi mulus wa 081220456883  fnfjb  fix fixed masi ada  masi ada mas  barang sepeda sekarang mahal mahal   admin magang fullbike brp mas  frameset aja brp   halo twitter mantan pesepeda jarang jajan     mau jual barang2 sepeda cuma ga tau harga pasaran skrg  ðÿ˜“  apa kabar semua mudah2an masih pada sehat  jauhi narkoba dekati sepeda  ðÿ‘\\x8dðÿ\\x8f¼ masi ada bro  brp fi apa kabar dunia persepedahan  ðÿ˜š wtb framset pias size 50/53 budget 1 8 kalo ada angkut skrng 085719021998  rbjb  fnfjb  fpjb  primafixed  cyclistsupply pias nettnya brp bro   fathinoo sold fs nouvo sporty 2005 harga 13jt nego 081380004605 jakarta     rizky 85y85 di tanah baru depok  wiracalinputra ud laku om  itu saddle om  rizky 85y85 ud ga ada toko kita rumahan aja itu juga tinggal sisa nya aja    toeclip merah toeclip chrome toeclip putih hub novatech sold yak  sisa toeclip putih dll   hidayat alwi 100 fs sadle merk charge new putih hrga 150rb nego dikit dahhh  jgn banyak2 ntar batuk  081380004605 / 51926ac4  fnfjb    hidayat alwi rear 32h jadi 36h merk mecca  praktis efisien hemat waktu  delcont  simple     be a smart buyer   daenny seren iyak blkng doang   daenny seren masih 150rb no cog 32h  fs toe clip merk ckc ada yg single ada yg double  strap kaga ada  saddle charge  hrga 30rb 150rb    frasya 23 70rb toeclip doang strapny ga ada  baru  rikobenito83 iyak broo fs sisa2 ada yg 2nd baru hub novatec l key trckbr dll harga dr 30rb 150rb  51926ac4/wa 081380004605  fnfjb    hub n thug ramein shayyy klo kata abegeh2  ga punya speda om  huft  rikobenito83 itu thn 2013 om  ud laku  hub n thug iyak tante  wkwk  fahmi cuyy mau di jual aj om butuh duit    junicotrian di bangka om jaksel  blm foto lg om wts roadbike frame balap custom 700c ws alexrims gs 2300 8speed hrg 2 3 nego jarang pake 081380004605/51926ac4  fnfjb   jual aje nih bantuin temen roadbike frame balap custom 700c gs shimano 2300 8sp ws alexrims bawaan masi pin 51926ac4    bcycler  andangnugroho ada yg mau jual crank sram omnium  brp thx wtb crank sram omnium  chainring yg masih bawaannya  klo ada kabarin yak 081380004605 tengkyuuu  fnfjb  rbjb wts   bianchi infinito sz 50 carbon gs 105 ws fulcrum racing7  hrg 15jt nego dikit 081380004605  fnfjb  rbjb mkasih y   for sale   bianchi infinito sz 50 full carbon gs 105 ws fulcrum racing7 harga 16jt no tt/barter 081380004605    dari google bos hehe pengen juga nih       siapaaja245 081380004605 sms aj bro jarang ol ntar gw tanyain sm temen   wts roadbike bianchi gs shimano 105 crank seatpost barset fsa ws fulcrum frame carbon full 081380004605 17jt  fnfjb    vickyhanggara  sold  vickyhanggara  os brooo  masih ada  aditnaufal02 minat contc langsung aj no ada kok thx  aditnaufal02 adaaa    riko94685565 waduh ud lama bgt itu  mungkin skrg ud ga berbentuk sepatu om wkwkw for sale 150k uk 31 6    abenksepeda for sale for sale    100k   150k    ainunstore harganya brp ommm    hub n thug tutup sat    pinguinterbang nah masuk yg warung jati timur kurang lebih 200m nanti adanya di kanan  samping tukang pisang   adityaapk jl warung jati timur  jak sel  pinguinterbang di pinggir jalan samping warung yg jual pisang  hari ini tutup   adityaapk ga ada dropbar  adanya trackbar  hub n thug hahaha  bisa aja pak satt  dewasa dot tk nih lo pilih dah   100k 150k   yg os cuma trackbar nitto pake bartape   minat 081380004605    mbaa zeda cakep     zuraydasalim1  don t lie to people that trust u  and don t trust people that lie to u    jalucahyo kosong mas wts trackbar united new std  100k trackbar nitto  os  bullhorn std  150k saddle charge 150k  081380004605  fnfjb   buat temen2 yg ngerasa sepeda/part2 sepeda nya ada di bengkel saya harap di ambil ya trimakasih   jodyadit pias mirasih alhamdulillah pias sold out berkah hujan   heroakkbar  terus   selooowwwww  tengkyu yak pak bos    afifcozz mantappp  cuma ngasih tau jakarta lg panas  mau bikin panas lg   apaan aje jadi duit yg penting halal  jual hewan qurban 2jtan  minat dateng aje ke bengkel ane     mrbaharsah tuker duit aja om hehe  fixsale tuker duit aja om hehe wts pias sz 55 2 2 nego  frm fork hs bb seatpost sadle turbo  081380004605   fnfjb   kali aj ad yg mau bayarin chain stay protector campagnolo biar chain staynya ga baret  150k passs 081380004605  fnfjb    anadrepartup yah  trackbr kyknya om    anadrepartup budget brp ada nih os merk nitto warna chrome ud ada bartapeny hitam    nyeprisss   hub n thug    hub n thug ga ngegasss ommm  wkwkw  dickynurjaya19 gw majang motor di tukang pisang samping bengkel sepeda gw gpp tuh   padahal die jual pisang     heroakkbar  sorry jg dah jual motor di forum sepeda salah   usaha gw juga di bengkel sepeda jual motor ya gw butuh dana  salah    kalo salah ya maap   wakwawww   heroakkbar  salah     dickynurjaya19 salah    di jual nouvo lele 2002 pajak mati juni kmaren  harga 10 5 nego dikit  spek call/invite 081380004605/74f9ec4b  fnfjb    sallicious masih gannn seatpost cinelli vai 31 6 150 rebu ga ada yg minat nih   di jual nouvo 2002 surat lengkap  stnk warna kuning   hrga 10 5 nego dikiitt  kali gitu ada yg minat maen nouvo       trackbar nitto os warna chrome bartape hitam  200 rebu  081380004605 pias nya om size 55 warna black gold  frame fork headset seatpost sadle  sms aja omm 081380004605  fnfjb    kevinsyahrulp kurang tau ukuran frame taiwan nya om  asal 31 6 mah bisa    nanang0711 sms ke 081380004605 ada yg minat sama frameset pias size 55        cahyaadita sold out  rafif 6b ud laku om  ud lama bgt nih gw jual murah seatpost cinelli vai 31 6 150 rebu aja boskuu  081380004605  fnfjb   iseng aktifin eh isi timeline ttg pilpres mulu ye lebih banyak politikus jokowow drpd prabowow   ciieee politikussss  colekdagu   wts seatpost cinelli vai 31 6  325 rebuu  nego dikitttt  081380004605   fnfjb    sikluscycling belum om  hehe trimakasih buat smuanya yg mendo akan yg datang maupun yg tidak  smoga do a kalian di kabulkan  amin ya robbal alamin  skali lg trimakasih  slamat jalan umi smoga adzan trakhirku buat umi   do a2ku mengantar umi ke surganya allah swt amin  slamat jalan umi     rizkyputraprat2  nfcrews  bks courier aminnn  iya om mkasih banyak  mohon do anya   adityaapk amin  mkasih banyak om mhon do anya   yayatabenk182 amin ya allah mkasih banyak om   a carnelo  nfcrews aminnn  trimakasih banyak ya   nfcrews amin ya allah  trimakasih banyak  mhon do a nya   danke hidayat trimakasih banyak om  amin ya allah  maaf om baru buka twitter wts cog 2nd dura ace njs 14t  150k nego  081380004605  jual nih nouvo lele 2002  9 5 nego    aminnn  makasih buat do anya kawan  hati2 di jalan  tetap mengayuh kawan  maaf bengkel tutup sementara ga tau sampe kapan  mohon do anya buat kesembuhan ibu saya  makasih kawan      jr rizqinugraha ga ada om   tergantung klo ga bisa di ganti rumah drat bb nya  evandrmwn   abenksepeda bang bisa benerin drat frame dibagian bb ga  bayar dahhh   \\xa0â€¦ wts trackbar nitto os  250 k  nego 081380004605  fnfjb    binsyechbu 74f9ec4b  binsyechbu scoopy yg mana om injection apa karbu yg nambah siapa     strafixiegear okee omm    refincuks ga ada coba ke  r bikeshop  strafixiegear cek dm  chelsea olivia  bukhhan maeennn  jakartaholic  eden hazard abaikan cedera demi chelsea masih mending gue kondangan sendirian  jakartaholic  di bogor boediono hanya didampingi wakil menteri agama ho oh   irwanneutron  kondangan sendiri itu berasa jadi tontonan     klo kata anak masa kini lg gabut  hahaha  nananghanafi66   abenksepeda maksa bener dahh ahh ni senin selasa sabu samis sum at sabtu singgu   deket apaan yak alpen kali ya  reggyferian   abenksepeda om warung jati deket mana  pengen liat liat nih di jual nouvo lele 2002 pajak hidup 10jt nego boskuuu     kurang spesifik om  taradz13   abenksepeda kalo ada yg jual seatpost   hub sama crank merek apa az   mention yah  d  gresia rendy sold om derby madrid mlm ini apa besok yaaakkk       hahaha muke gilee  kriotea   di situ aja bang biar bisa rt terus rt  abenksepeda  maaf ya klo klamaan nunggu di rtin maklum paket      dwiazrul bisa jadi   aduuuhh  reply/mention langsung ke orangnya bapaaakkk  jgn ke semuaaaanyaaahhh  maaf ya klo klamaan nunggu di rtin maklum paket abangnya ud abisss    kode      ini aja lg di bis yg ada wifi nya  hahaha  danke hidayat  bocah   bocah    duit msh nadah sm org tua aj gaya nya dah tggi bgt  gmn kl dah bs ksh nafkah ke org tua   bisa boskuuu   afrianyudha1107  bos re paint kaya gini sabi gaa hahaha  abenksepeda  http //t ada yg tau pasaran harga crank campy record 49t   kondisi mulus    cocok buat pasangan      alfandi muharam warung buncit jaksel 3 0 cukuppp hehehe  fnfbjm   halamadrid  abenksepeda  yg besok mau cfd tp ban dlmnya bocor  mau beli bingung beli dmn krn ud bu bu bu   butuh untung     yg besok mau cfd tp ban dlmnya bocor  mau beli bingung beli dmn krn ud mlm  saya masih buka kok  smbl nonton madrid    maksudnya tinggal angkat polisinya   masuk jlur bus way ya masuk2 aje  cuma mata kudu waspada  klo ada polisi ya tinggal angkat  beres  tv ommm   kriotea   ini liat nya bukan acara tv ni  rt  abenksepeda  strikeeeeeeeee      ngaceng maniaaa   mantaappp     ada adaan ini  ario adipati  apa apaan ini   d abenksepeda  strikeeeeeeeee      ngaceng maniaaa   mantaappp     typo om      alifadhilah48  mancing om mancing hahahah abenksepeda  strikeeeeeeeee      ngaceng maniaaa   mantaappp    strikeeeeeeeee      ngaceng maniaaa   mantaappp     di puter/di plintir2 dulu  baru siap di pompa naek turun   awww    pentilban  kuisfnf  orzx23  fixietas  fixedandfurious ini orang sering lewat bengkel gue  sering negor mau nanya tp doi buru2 mulu bengkel yg jam segini masih buka  ujan pula  bowcowr  mata tak kunjung padam  jam 6 masih melek  di mane aje update   sini   situu   yahoo com lau ga sebut tuh     ayo follow follow biar cpt laku      fixedandfurious  yg suka jual beli part jangan lupa difollow  fnfjb  cek favorites kita buat detailnya lagi musim penalti sekalian kartu merah kyknya  tapi lebih parah yg kmaren  klo yg skrg sedikit fair  madrid nya blm mulai  lama bener   m81e alhmdllh sehaaat  di sehat sehatin  pak mbie sehat  lg ga d bngkl pak   cuma mau ngucapin selamat buat  yosacil akhirnya lepas juga tuh keperjakaan  jgn lupa di rawat ya pake chain lube  bisa aja ah joki abenk yg baru jadian ini  yosacil  betah banget disana  buka bengkel lagi ya bang wkwk abenksepeda  kangen bengkel ter aminnn  sampai tetes trakhir  arumpratama  hahah  d yg pnting cintanya takterhingga bang  d d   abenksepeda  jauh dekat rp 3500  sya pantesss frame blm dateng jg di bengkel saiyah  m81e  finally   datang juga pesanan saiyah  jagwire  roadpro  completecablekit  red  http  kangen bengkel tercinta beserta habitat2nya   jauh dekat rp 3500  syahrialp  walaupn jauh  tapi tak trasa jauh he    rt  arumpratama  ketika jarak sudah biasa waduhhh  \\xa0â€¦  muhammadnovaldi udah  ahmdganis pembalap cinta  aiihhhh menurut saya obat  obatkuat  nasehat2bijak  satu hal yang buat kita kuat adalah doa  alfi   kapangueikutrace    ahmdganis  contoh  piip  udah berdarah2 terus lanjut race dan berusaha masa yg pake apaan tos nya mas aril     syahrialp  wes iya lah yang   toss dulu rt  arumpratama  malam yang indah oh nabrak  gue ga ada contactnya si rio  ntar klo ketemu gue sampein  ilalbilal   abenksepeda sob  anak abenk yg nabrak sepeda ujan     kucing aje klo ujan ga kluar alias ngumpet gimana oraaaangggg    bengkeljdsepi wts boskuuu  stem ritchey pro 100mm os  250nego  081380004605  fnfjb makasih    jualan lg nih boskuuu  kliping alias roda samping  buat anak / buat yg sering jatoh     sore   ga sampe jual sepeda kok  ariaous   abenksepeda wkwk  mabok chain lube  brpan tuh ngelepasnya   gerymv hehehe  keren om spatunya  sama2 om  bang ada grip oury ga â€¢yahh oury ga ada adanya kw  mau   rt   bangkunya bagus  d  gerymv  shoes specialized road new size lengkap 900k nego bgt  fixedandfurious  fnfsolo  fixiesolo  surakatrack bisa ngelepas dahaga jg bisa   ariaous   abenksepeda bro  di abenkspd bs ngelepas chainring gak y   fixietas iya sihhh     bukan sholat jum at doang yg bikin kegantengan bertambah   katanya  sepedahan juga       manfaats'"
      ]
     },
     "execution_count": 30,
     "metadata": {},
     "output_type": "execute_result"
    }
   ],
   "source": [
    "data['Tweet_Parsed3'].loc[1]"
   ]
  },
  {
   "cell_type": "code",
   "execution_count": 31,
   "metadata": {},
   "outputs": [
    {
     "data": {
      "text/plain": [
       "'throwback bro fork alpina dijual tidak insolenya berapa cuma ya mas sampai juga posindonesia tolong diperbaiki layanannya telfon call center 161 status paket ada di kantor pos pusat lap banteng saya telfon ke sana berkali-kali tidak diangkat giliran saya kesana taunya paket lagi dalam perjalanan sedangkan cek resi status tidak berubah berubah masih release by customs nett om free ongkir jabodetabek 32 atau 36 hole mas 325rb mks sylvan ckc strap vp berapa ini mas mas ws depannya masih ada masih ada pernah suka sama pevita ah tidak mungkin sama dia bernie sendernya wts barang tidak terpakai wheelset mavic ellipse inc ban 5jt pedalset mks royal nuevo starfuckers strap sag 900rb crankset miche 48t 1 5jt harga di atas nett ya kecuali crank bisa nego dikit 081220456883 cash on delivery pasar minggu sentul cibinong makasihh fnfjb bcpasarbaru bravobeacukai min no resi rv327545733cn prosesnya sudah sampai mana ya terimakasih dulu-dulu kemana saja ya giliran sekarang banyak yang mulai b2w malah diribetin kaya begini min cek dm hehe ada di chainstay fork top tube sticker pada masanya wadaawww banget harganya bikin decal giro najis bisa tidak bro bb sugino 75 najis 109mm minus dust cover tidak ada 450rb 081220456883 fnfjb hahaha min cek dm crank ota sold fnfjb â€¦ iya sama kadang pakai flazz juga tidak bisa knalpot mio mberrr kita ready banyak pras uler uler memang gabakal berubah â€¦ wts bb sg75 najis 450rb crank miche 48t 165mm 1 5jt crank otayava bcd144 46t 170mm 450rb pedalset mks ckc strap vp 325rb minus pedal kiri tutupnya tidak ada rolf vigor ban baru ganti 2 5jt cog 15t bawaan aventon 100rb 081220456883 cod/direct trf free ongkir p jawa fnfjb clan aditya adhitia sofyan jamie aditya adityalogy teddy adhitya pasti pas malem2 ada malam muhasabah ini masih ada mas nah mungkin thread di atas sebagian benar bro tapi lebih banyak yang di lebih-lebihin serius mba pas awal-awal pindah kerumah baru tapi kalau ditimpuk batu sama setan saya pernah merasakan langsung mas titip yang benar yang kaya bagaimana coba kasi tau kayanya kamu sudah paling paham ini kadang jco kalau tidak ada kembalian nukerin duitnya di breadtalk awww kekuatan 1 army bts 2 navy seal kalau tidak salah nafsu tau banget ini nah iya anggota dpr saja di ajak ketemuan bagaimana ini yang ava nya rata2 foto idolnya bikin konten sodara2 lagi bang sama bang adiarta seru melihat wibu2 macho lah saya kira dia masih sd he he besok-besok ninja warrior adain di mrt fear factor bang sekalian atau ninja warrior mantap bang disitu kamu gadapet hadiah ya makanya pegang mic saja ada juga yang belum laku tapi setiap menit iklannya muncul terus bogor mas cash on delivery ps minggu juga bisa harga pas mas hehe allcity tuker cog miche15t om boleh tanpa chainring maksudnya orang kalau habis putus sama yang beda agama jadi lebih bijak ya bagus deh wts pedalset mks ckc strap vp 300rb minus tutup pedal kiri lihat pict crank otayava bcd 144 450rb chainring viva panjang arm 170mm crank miche bcd 144 1 5jt panjang arm 165mm bb kotak dura ace najis bb sg75 najis 350rb 450rb pict menyusul cash on delivery kirim2 oke 081220456883/dm fnfjb aww mlu banget benar banget bahaya laten pki apa salahnya alig kamu brooo berapa ini mas mending jangan maksain ati2 bang persamaan army bts sama soeharto sama2 anti kritik masih mas yao ming kalau naik bajaj atepnya mesti dibuka ada yang tidak bisa dipake orang lain bang mamah jemput kiki kiki makan nyamuk nah mba ngapain ribet sama opininya panca kan kalau menurut dia tidak lucu yaudah tidak bisa dipaksain kan mba sendiri yang bilang selera orang beda2 ws depannya berapa mas murah banget iniii mau ngurang2in barang dulu om hehe ambil ws front saja berapa mas 8122045688381220456883 wts crank ota yava bcd144 46t 450rb nett fnfjb hi sudah sold juragan ambil ws front saja berapa mas mau nanya om wsnya pakai hub apa kan bahaya sama haram beda mba perpanjang stnk gapernah kena pungli satu lagi bikin surat keterangan catatan kepolisian juga aman itu dari pungli tapi kalau bikin sim ya gitu deh mantap kamu bang banyak anak banyak subscriber apalagi kalimat profesi yang cukup prestisius wkwk dari thread si korban hotelnya cuma cepe om pasti tidak ada tv nya mas kira aku perempuan apaan pernyataan yang sangat kontras sama yang sudah terjadi di awal yang laki laki ngelanggar kesepakatan di awal yang perempuan mudah banget percaya sama orang yang baru banget dia kenal sampai bj hj oral segala ya tapi keduanya memang sama2 salah mba iya langsung dengar lagu opik yah dia udah sampai foreplay segala dan setuju gunanya foreplay buat apaan lagi memang kalau gamenjurus ke arah sana biar mudah dapat kerja/biar awet muda/biar makin akrab berapa ini om duit sih pasti ada om mungkin ingin memacu adrenalin 6â° om panjang 100mm wts barang2 tidak terpakai 1 bb tange baru beli 2minggu 150rb 2 barset stem zipp flatbar xlr 450rb 3 pedalset mks ckc allcity 350rb 4 pedalset vp 100rb 5 cog aventon 15t 150rb 6 front rolf vigor 2 7jt 7 hanya pemanis 081220456883 fnfjb no wa om bales go green saja cup pasti mereka takut pasti bernii broadcast kaya begini biasanya beredar di group alumni desember yudha keling versi putihan dikit waduuuhh maaf mas sudah sold os ya om tidak bisa om bentar yang sebelah tidak ada jodohnya hehe wts pedalset mks ckc strap allcity minus pedal sebelah kiri tutupnya tidak ada 350rb nett fnfjb sekelas lewis hamilton kalau tes sim disini juga gabakal dilulusin kalau jalur normal ya paling tidak harus ulang 2x nettnya berapa memang mas sejuta masuk tidak mas mencari cog kaya gitu dimana mas sepasang atau rear saja bro tidak bisa om wts barset stem zipp service course 100mm 6â° flatbar xlr grip 450rb nett fnfjb wts rear wheelset velocity b43 32hole mulus hub soma cog miche 15t ban cst 800rb nett fnfjb suruh temennya saja yang buatin katanya gratis goblok sekali ya wts frameset tsunami snm500 include bb hs baru 2minggu beli dari baru box masih ada 4 7nego tipis terimakasih fnfjb berni lagi saja berni lagi saja bukan walikotanya saja mas yang ahli tata kata gubernurnya juga fyi itu custom mas vigornya kalau dijual berapa mas aminn sangat risih kecuali temen deket tidak apa apa deh frameset berapa mas berapa ini mas berapa ini mas saya pernah melihat yang lebih parah lagi makan roti bakar cowonya ngobel2 cewenya yang saya lakukan ya lebih baik pindah tempat daripada ngevideoin diem2 kaya begini elah kalau depresi masih sempat main media sosial yang ada tambah depresi blog itu mah caper blb track minat tidak mas jangan waterbase malah kerebus nanti waktu mabuk aku jadi penurut banget taunya aku mabuk asmara hehe begini saja dipermasalahin malah bagus ada tanda kaya gitu saya juga pejalan kaki tapi lebih sering naik sepeda sih kalau melihat tanda dilarang melintas yaudah ikutin saja tidak usah ribet lagian masing2 sudah ada jalurnya kan iye iye blb track sz50 kasi lihat depan matanya mas biar dia tonton habis itu baru bandingin nonton ini dulu mas baru bandingin sama mci hed jet9 minat tidak mas ada cctv tidak bang edwinnmuhammad ini win ori kan ya bang front hed jet9 minat mirip2 oury mau bang warna merah 081220456883 ini mas wa square taper mas blb track minat punten lagi bahas apa malah melenceng dura ace minat tidak mas 109mm jadi kaya film anaconda ngeri banget ini fork bawaan bro wts blb track sz50 inc hs seatpost bb 1 8jt cash on delivery sekitar ps minggu/sentul fnfjb poin huruf e nya dibaca juga mba bisa mas 1 5 frame fork hs sc saja 1 7 bb tange seatpost mas blb track minat tidak mas sz50 dewa 19 habis lihat ini ada niatan buat ganti judul lagu elang tidak trade front hed jet9 saya tambah 300 kali minat tidak bisa mas saya silinder hati-hati diserang coba tidak ada kerusakan ya uang jaminannya bisa disave buat hal yang lain ditambah kalau gasuka dijakarta balik lagi ke kampung kamu sana oren kalau ketinggalan barangnya dinegara lain bisa min betrand peto kalau tua jadi betrand gepeto ini video aslinya kaya bagaimana sih datang kembali yang nyanyi ruben tapi pakai hijab esther jago gambar kakak ya kalau ditanya dalangnya siapa ya ðÿ‡ºðÿ‡¸ dulunya vj mtv kalau yang gratis namanya tol ol wkwk titik kadarsih jangan sampai lupa 4jam buat karaoke disekitaran pabrik ada donor sel telur tidak kamu sudah salah juga mba masih saja bela diri bukannya minta maaf gitu itu kan mas nya cuma memberi tau masa2 puber ini malah bawa2 ibu bego ih tolol ih saya saya anak pungut ya flite kulit recaro mau juragan suami goblok bisa buat minum juga sih ellipsenya gamau dijual mas hed saja sudah ini ambil bayarin punya saya saja win yang ntuhh prass no wa mas mutil crank pedalset bisa masih ada mutil crank om nettnya berapa dong bb apa ada wa mencari yang 2jt dulu mas terimakasih sudah nawarin hehe berapa mas wtb crankset miche primato atau sugino 75 081220456883 fnfjb include apa saja mas frame fork hs saja berapa mas 2 2 kali dikasih bro ada wa masih ada crank omnium berapa juragan wtb fs pias sz 50 atau 53 wa 081220456883 fnfjb masih bisa nego pelacur mah biasanya ngomong mau st atau lt high land berapa ini mas hs home schooling kenko jelek om bagusan pentle masih ada kalau yang kaya begini saja sampai buka donasi saya juga mau dong buka donasi buat bayar orang dalam biar jadi pns bisa tidak ya yahh aku saja belum difolback mba now playing terdiam buat menahan banjir om kan dikit lagi musim hujan hahaha flatbarnya saja berapa berapa ini om sjw suka job wawancara dia maunya jadi pendiri bukan pengikut masih ada baru stem saja yang sudah dapat sisanya tawarkan lagi kalau ada fnfjb â€¦ lebih baik mana ya wtb stem thomson x2 budget 600 pedalset doublestrap budget 500 crankset omnium hitam budget 2jt saddle selle flite budget 600 087781897740 fnfjb fsnya dapat apa saja om ternyata sinetron azab indo lebih masuk akal berapa ini om frutang ke pleset bang dicampur kue cubit enak tidak kakak greenteaaaa dota dong masih om masih ada framesetnya ajo kaya abang2an ya duraace najis yang kiri chainring sugino aeromighty 46t wa 081220456883 itu hakim yang sebelahnya kaya menahan ketawa wkwk komedi 5tahun sekali aku engga mba wsnya berapa om 081220456883 vivalo minat anda bacottt dublingdore kepala sekolahnya harry potter ok min terimakasih bisa mas masih mas pakai vpn nis biar bisa buka pornhub juga bacottttt sold mas saya suka toeclipnya saja mas berapa stemnya berapa mas wts crankset dura ace fc7600njs panjang kedua arm 167 5mm arm sugino zen 48t 2 3nett arm sugino aeromighty 46t 1 8nett cash on delivery kalibata 081220456883 fnfjb wheelset hson archtype 32h fronthub campy record rearhub philwood cog17t 3jt nett cash on delivery kalibata 081220456883 fnfjb nomernya tidak bisa di wa mas 081220456883 ada saya ini hahaha tuker hexohm boleh ok tampung ya 2 3 ambil mas wts crankset duraace fc7600 najis keduanya panjang arm 167 5mm arm sugino zen 48t 2 5jt arm sugino aeromighty 46t 1 9 semua drat aman cash on delivery kalibata/direct trf 081220456883 fnfjb 3 2 nego 3 2 nego aerohead x miche cog eightinch 15t 2 2 nego cash on delivery kalibata/kirim2 direct trf 081220456883 fnfjb boleh maaf om salah 08122045688381120456883 3 2 mas hson archtype rearhub phil fronthub campy record chainring yang mana mas sold mas sisa saddle 90mm mas ws tidak bisa mutil mas 3 2 mas maaf mas tidak bisa hehe hson archtype rearhub phil 17t fronthub campy record ban helios vera 9 shimano rt400 sz42 cleat dus dll lengkap beberapa part masih bisa nego dan ada yang sudah nett 1 sp thomson 27 2 kashimax 1 2 2 nitto pearl najis 650rb 3 crankset da najis sugino zen 2 5 4 barset qs 3t deda nera 600rb 5 duraace najis aeromighty 2jt 6 pedalset mks nuevo najis 600rb aerohead miche ban 2 3 081220456883 fnfjb cash on delivery kalibata/kirim2 ada ini mas 8 deh bro besok cash on delivery minus apa ada line tidak jakarta dong sini dapat apa saja ini wtb crank arm omnium budget 1 7 wtb frameset parallax budget 8jt tawarkan fnfjb fs 4jt fs 4jt armnya saja berapa iya repaint 4jt mas ada ini hehe kirain bisa turun lagi hehe wa dl saja om maaf om toko sudah tutup sekarang rumahan saja ditanah baru fb mas 1 5 om pearl 9 najis nitto shredbar sz 52 bro 13nego 400om wa bro paling 081220456883 kalibata bro 1 5 nitto shredbar nitto pearl najis 2 5 om kali minat mas arm dura ace chainring zen sejuta mas thomson baru beli minggu kemarin masih lengkap sarung dll 2 5nett sugino zen arm dura ace najis 600 mks nuevo najis strap mks fit najis toeclip mks fullbike kiyo najis mutil perset 081220456883 fnfjb wts sepatu cleat shimano rt400 nominus mulus sz42 26 5cm bonus cleat lace box dll lengkap 800rb nett cash on delivery kalibata 081220456883 boleh ditest dulu kalau gamuat jangan dipaksain beli fnfjb kali minat fullbike om sini bar tbg apa prabowo sudah cocok gantiin dolphino di trans 7 anak kamu kelak bar udah kebuang min bagaimana dong lagian barang sudah sampai dari hari minggu saya tidak tahu kalau kaya begini kalau bukti resi fisiknya sudah kebuang bukabantuan min tolong dong no transaksi 191929050646 dananya tidak bisa diteruskan kepelapak saya sebagai pembeli dm harga bro wtb seatpost thomson 27 2 warna silver cari yang second saja tawarin ya kalau ada 081220456883 fnfjb bracket remnya bisa kurang bro kali saja minat kiyo najis lagi dirumah faris bar dengan apa bro ayo masih ada fnfjb â€¦ ambil fullbike ada satu titik ditop tube masih mas ok broo 4 5 nego mas dapat bb sugino75njs headset hatta kiyo najis kali minat berapa harganya mas fnfjb masih ada nego saja silahkan â€¦ pelajaran dari film dilan kalau bukan iqbal yang jadi dilan hanyalah film cinta2an pada umumnya dengan sedikit gombalan2 ovj bisa jadi koko pengikutnya mukena makanya gemulai he he bayarin ini yos mau ganti die masih ada fnfjb â€¦ wts fullbike kiyo najis barset nitto shredbar pearl najis saddle fivegold stpost najis crankset duraace sugino zen48t ws hson archtype hub phil campy pedalset mks nuevo mks fit frameset kiyo 52 5 bbsg75 hs hatta brakeset 13 5jt lebih lanjut wa saja 081220456883 fnfjb fix fixed bisa bro masih fnfjb masih ada best price â€¦ wts/wtt cassete sram pg1170 11 26t 11speed cari barteran 11 36t atau mau dijual 700rb nego 081220456883 fnfjb fix fixed mas zaky lulusan itb dapat ilmu disana berjuang juga disana eh kok baru sekarang ngebandinginnya wajar sih tahun politik hehe huhh chainringnya trade mau tidak om samping kiri pedal bracket buat rem bukan ini berapa bro fnfjb masih ada â€¦ masih bro mutil shotlevernya saja bisa masih bro umat kamit kali bro maksudnya wts seatpost nitto najis 27 2 600rb 081220456883 fix fixed fnfjb sold broo seatpost specialized alias bawaan fullbike specialized ukuran27 2 100rb 081220456883 fix fixed fnfjb wts wheelset fnr h son ws front hub miche pistard rims h son ff ban helios ws rear rims h son eero hub origin8 fixfix cog roselli 18t lockring allcity ban cst caldera baru 1 5jt cash on delivery kalibata 081220456883 fix fixed fnfjb fnfjb alig itu pamfletnya bahasa mana itu 250 omm saya trf langsung hehe ajak2 lik kalau jajan ditebet 250 om wtb rims h son archtype / tb14 sepasang cari yang 32hole utamakan warna hitam wa 081220456883 fix fixed fnfjb fnfjb sudah sold om maaf sold terimakasih â€¦ sold terimakasih â€¦ 1 65 ambil mas belum bisa mas wts chainring sugino zen 48t mirror 1 3jt nett cash on delivery kalibata 081220456883 fnfjb fix fixed fnfjb tidak bisa mas wts crankset omnium chainring dura ace 47t bb gxp chain hkk blue najis 47 16 cog dura ace 16t kondisi arm lecet drat aman bb aman langsung wa saja 1 8jt cash on delivery kalibata 081220456883 fix fixed fnfjb fnfjb ada wa bro berapa mas masih ada mas ini masih ada mas booked â€¦ haha jangan mass maaf mas jual paketan saja wts crankset omnium chainring duraace 47t bb gxp minus lecet drat semua aman 2jt nego 081220456883 fix fixed fnfjb fnfjb wts frameset cinelli mash bolt 2012 sz53 seatpost thomson seatclamp thomson bb tange saddle sanmarco ponza hs bawaan 7jt nego cash on delivery kalibata jaksel 081220456883 fix fixed fnfjb fnfjb makasiii wts seatpost miche 27 2 200rb saddle charge bucket 100rb lokasi kalibata wa 081220456883 fix fixed fnfjb fnfjb pedalset berapa mas yang warna ungunya masih ada mas wtt chainring sakra kanta ungu 47t dengan yang warna hitam/ sugino s cubic 081220456883 fix fixed fnfjb fnfjb 650 bro baru beli sebulan 47t kali minat 081220456883 brakelevernya saja berapa mutil seatpost kalau boleh mutil ban tidak bisa bro hahah duraace atau campy record juga boleh hehe cranknya dijual tidak mutil crank bisa mas bolt 2012 mau mas kalau tambah tambah berapa eh sisa tange levin najis deng 200rb bro hatta swan mau mas wa saja bro 081220456883 h son eero kali minat crankset berapa crank campynya dijual mas wtb quillstem nitto pearl 90mm/jaguar budget 400rb seatpost nitto/thomson 27 2 warna silver budget 500rb crankset sugino 75 budget 1500 wa 081220456883 fix fixed fnfjb fnfjb miche mau mas sz berapa as hubnya masih bawaan campy wa ada itu mau dituker atau diapain om itu tubular om campy apa om ada pict lokasi dmn bro ini wa saya 081220456883 mash bolt sz53 081220456883 wtb dropbar os budget 350rb 081220456883 fnfjb fix fixed fnfjb kalau warna hitam h son eero mau mas frameset berapa sz berapa ambil ban satu saja mas bisa barter sanmarco ponza minat tidak bro wts risebar cinelli pepper grip 350rb atau trade dengan dropbar 081220456883 fnfjb fix fixed fnfjb dropbarnya saja berapa mas barset berapa wtt wheelset fnr h son eero full black hub belakang origin8 cog18t hub depan miche primato mulus cari tukeran fnr full grey/silver picture via wa 081220456883 fnfjb fix fixed fnfjb barset tidak bisa kurang mas nett bro bb cuma bonus 340mm mas barang nos crankset bb 150rb bro bntr saya cek wts trackbar najis 250rb crankset nexus bcd 130 46t bb miche 150rb 081220456883 fix fixed fnfjb masih dong wtb chainring sakra budget 600rb sugino zen budget 1jt 081220456883 fnfjb fix fixed wtb crankset sram omnium black/ sugino 75 budget 1 8 usahakan masih mulus wa 081220456883 fnfjb fix fixed masih ada masih ada mas barang sepeda sekarang mahal mahal admin magang fullbike berapa mas frameset saja berapa halo twitter mantan pesepeda jarang jajan mau jual barang2 sepeda cuma tidak tau harga pasaran sekarang ðÿ˜“ apa kabar semua mudah mudahan masih pada sehat jauhi narkoba dekati sepeda ðÿ‘\\x8dðÿ\\x8f¼ masih ada bro berapa fi apa kabar dunia persepedahan ðÿ˜š wtb framset pias size 50/53 budget 1 8 kalau ada angkut sekarang 085719021998 rbjb fnfjb fpjb primafixed cyclistsupply pias nettnya berapa bro fathinoo sold fs nouvo sporty 2005 harga 13jt nego 081380004605 jakarta rizky 85y85 di tanah baru depok wiracalinputra sudah laku om itu saddle om rizky 85y85 sudah tidak ada toko kita rumahan saja itu juga tinggal sisa nya saja toeclip merah toeclip chrome toeclip putih hub novatech sold ya sisa toeclip putih dll hidayat alwi 100 fs sadle merk charge new putih hrga 150rb nego dikit dahhh jangan banyak banyak bentar batuk 081380004605 / 51926ac4 fnfjb hidayat alwi rear 32h jadi 36h merk mecca praktis efisien hemat waktu delcont simple saja a smart buyer daenny seren iya blkng saja daenny seren masih 150rb no cog 32h fs toe clip merk ckc ada yang single ada yang double strap tidak ada saddle charge hrga 30rb 150rb frasya 23 70rb toeclip saja strapny tidak ada baru rikobenito83 iya broo fs sisa2 ada yang 2nd baru hub novatec l key trckbr dll harga dari 30rb 150rb 51926ac4/wa 081380004605 fnfjb hub n thug ramein shayyy kalau kata abegeh2 tidak punya speda om huft rikobenito83 itu tahun 2013 om sudah laku hub n thug iya tante wkwk fahmi cuyy mau di jual aj om butuh duit junicotrian di bangka om jaksel belum foto lagi om wts roadbike frame balap custom 700c ws alexrims gs 2300 8speed hrg 2 3 nego jarang pakai 081380004605/51926ac4 fnfjb jual saja ini bantuin temen roadbike frame balap custom 700c gs shimano 2300 8sp ws alexrims bawaan masih pin 51926ac4 bcycler andangnugroho ada yang mau jual crank sram omnium berapa thx wtb crank sram omnium chainring yang masih bawaannya kalau ada kabarin ya 081380004605 tengkyuuu fnfjb rbjb wts bianchi infinito sz 50 carbon gs 105 ws fulcrum racing7 hrg 15jt nego dikit 081380004605 fnfjb rbjb terimakasih y for sale bianchi infinito sz 50 full carbon gs 105 ws fulcrum racing7 harga 16jt no tt/barter 081380004605 dari google bos hehe ingin juga ini siapaaja245 081380004605 sms aj bro jarang ol bentar gw tanyain sama temen wts roadbike bianchi gs shimano 105 crank seatpost barset fsa ws fulcrum frame carbon full 081380004605 17jt fnfjb vickyhanggara sold vickyhanggara os brooo masih ada aditnaufal02 minat contc langsung aj no ada kok thx aditnaufal02 adaaa riko94685565 waduh sudah lama banget itu mungkin sekarang sudah tidak berbentuk sepatu om wkwkw for sale 150k uk 31 6 abenksepeda for sale for sale 100k 150k ainunstore harganya berapa ommm hub n thug tutup sat pinguinterbang nah masuk yang warung jati timur kurang lebih 200m nanti adanya di kanan samping tukang pisang adityaapk jl warung jati timur jak sel pinguinterbang di pinggir jalan samping warung yang jual pisang hari ini tutup adityaapk tidak ada dropbar adanya trackbar hub n thug hahaha bisa saja pak satt dewasa dot tk ini kamu pilih sudah 100k 150k yang os cuma trackbar nitto pakai bartape minat 081380004605 mbaa zeda cakep zuraydasalim1 don t lie to people that trust kamu and don t trust people that lie to kamu jalucahyo kosong mas wts trackbar united new std 100k trackbar nitto os bullhorn std 150k saddle charge 150k 081380004605 fnfjb buat temen2 yang ngerasa sepeda/part2 sepeda nya ada di bengkel saya harap di ambil ya trimakasih jodyadit pias mirasih alhamdulillah pias sold out berkah hujan heroakkbar terus selooowwwww tengkyu ya pak bos afifcozz mantappp cuma ngasih tau jakarta lagi panas mau bikin panas lagi apaan saja jadi duit yang penting halal jual hewan qurban 2jtan minat datang saja ke bengkel saya mrbaharsah tuker duit saja om hehe fixsale tuker duit saja om hehe wts pias sz 55 2 2 nego frm fork hs bb seatpost sadle turbo 081380004605 fnfjb kali aj ad yang mau bayarin chain stay protector campagnolo biar chain staynya tidak baret 150k passs 081380004605 fnfjb anadrepartup yah trackbr kyknya om anadrepartup budget berapa ada ini os merk nitto warna chrome sudah ada bartapeny hitam nyeprisss hub n thug hub n thug tidak ngegasss ommm wkwkw dickynurjaya19 gw majang motor di tukang pisang samping bengkel sepeda gw tidak apa apa itu padahal die jual pisang heroakkbar sorry juga sudah jual motor di forum sepeda salah usaha gw juga di bengkel sepeda jual motor ya gw butuh dana salah kalau salah ya maaf wakwawww heroakkbar salah dickynurjaya19 salah di jual nouvo lele 2002 pajak mati juni kmaren harga 10 5 nego dikit spek call/invite 081380004605/74f9ec4b fnfjb sallicious masih gannn seatpost cinelli vai 31 6 150 rebu tidak ada yang minat ini di jual nouvo 2002 surat lengkap stnk warna kuning hrga 10 5 nego dikiitt kali gitu ada yang minat main nouvo trackbar nitto os warna chrome bartape hitam 200 rebu 081380004605 pias nya om size 55 warna black gold frame fork headset seatpost sadle sms saja omm 081380004605 fnfjb kevinsyahrulp kurang tau ukuran frame taiwan nya om asal 31 6 mah bisa nanang0711 sms ke 081380004605 ada yang minat sama frameset pias size 55 cahyaadita sold out rafif 6b sudah laku om sudah lama banget ini gw jual murah seatpost cinelli vai 31 6 150 rebu saja boskuu 081380004605 fnfjb iseng aktifin eh isi timeline tentang pilpres terus ya lebih banyak politikus jokowow drpd prabowow ciieee politikussss colekdagu wts seatpost cinelli vai 31 6 325 rebuu nego dikitttt 081380004605 fnfjb sikluscycling belum om hehe trimakasih buat smuanya yang mendo akan yang datang maupun yang tidak smoga do a kalian di kabulkan aamiin ya robbal alamin skali lagi trimakasih selamat jalan umi smoga adzan trakhirku buat umi do a2ku mengantar umi ke surganya allah swt aamiin selamat jalan umi rizkyputraprat2 nfcrews bks courier aamiin iya om terimakasih banyak mohon do anya adityaapk aamiin terimakasih banyak om mhon do anya yayatabenk182 aamiin ya allah terimakasih banyak om a carnelo nfcrews aamiin trimakasih banyak ya nfcrews aamiin ya allah trimakasih banyak mhon do a nya danke hidayat trimakasih banyak om aamiin ya allah maaf om baru buka twitter wts cog 2nd dura ace najis 14t 150k nego 081380004605 jual ini nouvo lele 2002 9 5 nego aamiin terimakasih buat do anya kawan hati-hati di jalan tetap mengayuh kawan maaf bengkel tutup sementara tidak tau sampai kapan mohon do anya buat kesembuhan ibu saya terimakasih kawan jr rizqinugraha tidak ada om tergantung kalau tidak bisa di ganti rumah drat bb nya evandrmwn abenksepeda bang bisa benerin drat frame dibagian bb tidak bayar dahhh â€¦ wts trackbar nitto os 250 ke nego 081380004605 fnfjb binsyechbu 74f9ec4b binsyechbu scoopy yang mana om injection apa karbu yang tambah siapa strafixiegear okee omm refincuks tidak ada coba ke r bikeshop strafixiegear cek dm chelsea olivia bukhhan maeennn jakartaholic eden hazard abaikan cedera demi chelsea masih mending saya undangan sendirian jakartaholic di bogor boediono hanya didampingi wakil menteri agama ho oh irwanneutron undangan sendiri itu berasa jadi tontonan kalau kata anak masa kini lagi gabut hahaha nananghanafi66 abenksepeda maksa benar deh ahh ini senin selasa sabu samis sum at sabtu singgu deket apaan ya alpen kali ya reggyferian abenksepeda om warung jati deket mana ingin lihat lihat ini di jual nouvo lele 2002 pajak hidup 10jt nego boskuuu kurang spesifik om taradz13 abenksepeda kalau ada yang jual seatpost hub sama crank merek apa az mention yah di gresia rendy sold om derby madrid malam ini apa besok yaaakkk hahaha muke gilee kriotea di situ saja bang biar bisa rt terus rt abenksepeda maaf ya kalau klamaan menunggu di rtin maklum paket dwiazrul bisa jadi aduuuhh reply/mention langsung ke orangnya bapaaakkk jangan ke semuaaaanyaaahhh maaf ya kalau klamaan menunggu di rtin maklum paket abangnya sudah abisss kode ini saja lagi di bis yang ada wifi nya hahaha danke hidayat bocah bocah duit masih nadah sama orang tua aj gaya nya sudah tggi banget bagaimana kalau sudah bisa kasih nafkah ke orang tua bisa boskuuu afrianyudha1107 bos re paint kaya begini bisa tidak hahaha abenksepeda http //t ada yang tau pasaran harga crank campy record 49t kondisi mulus cocok buat pasangan alfandi muharam warung buncit jaksel 3 0 cukuppp hehe fnfbjm halamadrid abenksepeda yang besok mau cfd tapi ban dlmnya bocor mau beli bingung beli dmn karena sudah bu bu bu butuh untung yang besok mau cfd tapi ban dlmnya bocor mau beli bingung beli dmn karena sudah malam saya masih buka kok smbl nonton madrid maksudnya tinggal angkat polisinya masuk jalur bus way ya masuk2 saja cuma mata harus waspada kalau ada polisi ya tinggal angkat beres tv ommm kriotea ini lihat nya bukan acara tv ini rt abenksepeda strikeeeeeeeee ngaceng maniaaa mantaappp ada adaan ini ario adipati apa apaan ini di abenksepeda strikeeeeeeeee ngaceng maniaaa mantaappp typo om alifadhilah48 mancing om mancing hahahah abenksepeda strikeeeeeeeee ngaceng maniaaa mantaappp strikeeeeeeeee ngaceng maniaaa mantaappp di puter/di plintir2 dulu baru siap di pompa naik turun awww pentilban kuisfnf orzx23 fixietas fixedandfurious ini orang sering lewat bengkel saya sering negor mau nanya tapi doi buru2 terus bengkel yang jam segini masih buka ujan pula bowcowr mata tidak kunjung padam jam 6 masih melek di mane saja update sini situu yahoo com kamu tidak sebut itu ayo follow follow biar cepat laku fixedandfurious yang suka jual beli part jangan lupa difollow fnfjb cek favorites kita buat detailnya lagi musim penalti sekalian kartu merah kyknya tapi lebih parah yang kmaren kalau yang sekarang sedikit fair madrid nya belum mulai lama benar m81e alhamdulillah sehaaat di sehat sehatin pak mbie sehat lagi tidak di bngkl pak cuma mau mengucapkan selamat buat yosacil akhirnya lepas juga itu keperjakaan jangan lupa di rawat ya pakai chain lube bisa saja ah joki abenk yang baru jadian ini yosacil betah banget disana buka bengkel lagi ya bang wkwk abenksepeda kangen bengkel ter aamiin sampai tetes terakhir arumpratama hahah di yang pnting cintanya takterhingga bang di di abenksepeda jauh dekat rp 3500 sya pantesss frame belum datang juga di bengkel saiyah m81e finally datang juga pesanan saiyah jagwire roadpro completecablekit red http kangen bengkel tercinta beserta habitat2nya jauh dekat rp 3500 syahrialp walaupn jauh tapi tidak terasa jauh he rt arumpratama ketika jarak sudah biasa waduhhh â€¦ muhammadnovaldi udah ahmdganis pembalap cinta aiihhhh menurut saya obat obatkuat nasehat2bijak satu hal yang buat kita kuat adalah doa alfi kapangueikutrace ahmdganis contoh piip udah berdarah2 terus lanjut race dan berusaha masa yang pakai apaan tos nya mas aril syahrialp wes iya lah yang toss dulu rt arumpratama malam yang indah oh nabrak saya tidak ada contactnya si rio bentar kalau ketemu saya sampein ilalbilal abenksepeda sob anak abenk yang nabrak sepeda ujan kucing saja kalau ujan tidak kluar alias ngumpet bagaimana oraaaangggg bengkeljdsepi wts boskuuu stem ritchey pro 100mm os 250nego 081380004605 fnfjb terimakasih jualan lagi ini boskuuu kliping alias roda samping buat anak / buat yang sering jatuh sore tidak sampai jual sepeda kok ariaous abenksepeda wkwk mabok chain lube berapaan itu ngelepasnya gerymv hehe keren om spatunya sama2 om bang ada grip oury tidak â€¢yahh oury tidak ada adanya kau mau rt bangkunya bagus di gerymv shoes specialized road new size lengkap 900k nego banget fixedandfurious fnfsolo fixiesolo surakatrack bisa ngelepas dahaga juga bisa ariaous abenksepeda bro di abenkspd bisa ngelepas chainring tidak y fixietas iya sihhh bukan salat jum at saja yang bikin kegantengan bertambah katanya sepedahan juga manfaats'"
      ]
     },
     "execution_count": 31,
     "metadata": {},
     "output_type": "execute_result"
    }
   ],
   "source": [
    "data['Tweet_Parsed4'].loc[1]"
   ]
  },
  {
   "cell_type": "code",
   "execution_count": 32,
   "metadata": {},
   "outputs": [
    {
     "data": {
      "text/plain": [
       "'throwback bro fork alpina dijual tidak insolenya berapa cuma ya mas sampai juga posindonesia tolong diperbaiki layanannya telfon call center     status paket ada di kantor pos pusat lap banteng saya telfon ke sana berkali-kali tidak diangkat giliran saya kesana taunya paket lagi dalam perjalanan sedangkan cek resi status tidak berubah berubah masih release by customs nett om free ongkir jabodetabek    atau    hole mas    rb mks sylvan ckc strap vp berapa ini mas mas ws depannya masih ada masih ada pernah suka sama pevita ah tidak mungkin sama dia bernie sendernya wts barang tidak terpakai wheelset mavic ellipse inc ban  jt pedalset mks royal nuevo starfuckers strap sag    rb crankset miche   t    jt harga di atas nett ya kecuali crank bisa nego dikit              cash on delivery pasar minggu sentul cibinong makasihh fnfjb bcpasarbaru bravobeacukai min no resi rv         cn prosesnya sudah sampai mana ya terimakasih dulu-dulu kemana saja ya giliran sekarang banyak yang mulai b w malah diribetin kaya begini min cek dm hehe ada di chainstay fork top tube sticker pada masanya wadaawww banget harganya bikin decal giro najis bisa tidak bro bb sugino    najis    mm minus dust cover tidak ada    rb              fnfjb hahaha min cek dm crank ota sold fnfjb â€¦ iya sama kadang pakai flazz juga tidak bisa knalpot mio mberrr kita ready banyak pras uler uler memang gabakal berubah â€¦ wts bb sg   najis    rb crank miche   t    mm    jt crank otayava bcd      t    mm    rb pedalset mks ckc strap vp    rb minus pedal kiri tutupnya tidak ada rolf vigor ban baru ganti    jt cog   t bawaan aventon    rb              cod/direct trf free ongkir p jawa fnfjb clan aditya adhitia sofyan jamie aditya adityalogy teddy adhitya pasti pas malem  ada malam muhasabah ini masih ada mas nah mungkin thread di atas sebagian benar bro tapi lebih banyak yang di lebih-lebihin serius mba pas awal-awal pindah kerumah baru tapi kalau ditimpuk batu sama setan saya pernah merasakan langsung mas titip yang benar yang kaya bagaimana coba kasi tau kayanya kamu sudah paling paham ini kadang jco kalau tidak ada kembalian nukerin duitnya di breadtalk awww kekuatan   army bts   navy seal kalau tidak salah nafsu tau banget ini nah iya anggota dpr saja di ajak ketemuan bagaimana ini yang ava nya rata  foto idolnya bikin konten sodara  lagi bang sama bang adiarta seru melihat wibu  macho lah saya kira dia masih sd he he besok-besok ninja warrior adain di mrt fear factor bang sekalian atau ninja warrior mantap bang disitu kamu gadapet hadiah ya makanya pegang mic saja ada juga yang belum laku tapi setiap menit iklannya muncul terus bogor mas cash on delivery ps minggu juga bisa harga pas mas hehe allcity tuker cog miche  t om boleh tanpa chainring maksudnya orang kalau habis putus sama yang beda agama jadi lebih bijak ya bagus deh wts pedalset mks ckc strap vp    rb minus tutup pedal kiri lihat pict crank otayava bcd        rb chainring viva panjang arm    mm crank miche bcd        jt panjang arm    mm bb kotak dura ace najis bb sg   najis    rb    rb pict menyusul cash on delivery kirim  oke             /dm fnfjb aww mlu banget benar banget bahaya laten pki apa salahnya alig kamu brooo berapa ini mas mending jangan maksain ati  bang persamaan army bts sama soeharto sama  anti kritik masih mas yao ming kalau naik bajaj atepnya mesti dibuka ada yang tidak bisa dipake orang lain bang mamah jemput kiki kiki makan nyamuk nah mba ngapain ribet sama opininya panca kan kalau menurut dia tidak lucu yaudah tidak bisa dipaksain kan mba sendiri yang bilang selera orang beda  ws depannya berapa mas murah banget iniii mau ngurang in barang dulu om hehe ambil ws front saja berapa mas                        wts crank ota yava bcd      t    rb nett fnfjb hi sudah sold juragan ambil ws front saja berapa mas mau nanya om wsnya pakai hub apa kan bahaya sama haram beda mba perpanjang stnk gapernah kena pungli satu lagi bikin surat keterangan catatan kepolisian juga aman itu dari pungli tapi kalau bikin sim ya gitu deh mantap kamu bang banyak anak banyak subscriber apalagi kalimat profesi yang cukup prestisius wkwk dari thread si korban hotelnya cuma cepe om pasti tidak ada tv nya mas kira aku perempuan apaan pernyataan yang sangat kontras sama yang sudah terjadi di awal yang laki laki ngelanggar kesepakatan di awal yang perempuan mudah banget percaya sama orang yang baru banget dia kenal sampai bj hj oral segala ya tapi keduanya memang sama  salah mba iya langsung dengar lagu opik yah dia udah sampai foreplay segala dan setuju gunanya foreplay buat apaan lagi memang kalau gamenjurus ke arah sana biar mudah dapat kerja/biar awet muda/biar makin akrab berapa ini om duit sih pasti ada om mungkin ingin memacu adrenalin  â° om panjang    mm wts barang  tidak terpakai   bb tange baru beli  minggu    rb   barset stem zipp flatbar xlr    rb   pedalset mks ckc allcity    rb   pedalset vp    rb   cog aventon   t    rb   front rolf vigor    jt   hanya pemanis              fnfjb no wa om bales go green saja cup pasti mereka takut pasti bernii broadcast kaya begini biasanya beredar di group alumni desember yudha keling versi putihan dikit waduuuhh maaf mas sudah sold os ya om tidak bisa om bentar yang sebelah tidak ada jodohnya hehe wts pedalset mks ckc strap allcity minus pedal sebelah kiri tutupnya tidak ada    rb nett fnfjb sekelas lewis hamilton kalau tes sim disini juga gabakal dilulusin kalau jalur normal ya paling tidak harus ulang  x nettnya berapa memang mas sejuta masuk tidak mas mencari cog kaya gitu dimana mas sepasang atau rear saja bro tidak bisa om wts barset stem zipp service course    mm  â° flatbar xlr grip    rb nett fnfjb wts rear wheelset velocity b     hole mulus hub soma cog miche   t ban cst    rb nett fnfjb suruh temennya saja yang buatin katanya gratis goblok sekali ya wts frameset tsunami snm    include bb hs baru  minggu beli dari baru box masih ada    nego tipis terimakasih fnfjb berni lagi saja berni lagi saja bukan walikotanya saja mas yang ahli tata kata gubernurnya juga fyi itu custom mas vigornya kalau dijual berapa mas aminn sangat risih kecuali temen deket tidak apa apa deh frameset berapa mas berapa ini mas berapa ini mas saya pernah melihat yang lebih parah lagi makan roti bakar cowonya ngobel  cewenya yang saya lakukan ya lebih baik pindah tempat daripada ngevideoin diem  kaya begini elah kalau depresi masih sempat main media sosial yang ada tambah depresi blog itu mah caper blb track minat tidak mas jangan waterbase malah kerebus nanti waktu mabuk aku jadi penurut banget taunya aku mabuk asmara hehe begini saja dipermasalahin malah bagus ada tanda kaya gitu saya juga pejalan kaki tapi lebih sering naik sepeda sih kalau melihat tanda dilarang melintas yaudah ikutin saja tidak usah ribet lagian masing  sudah ada jalurnya kan iye iye blb track sz   kasi lihat depan matanya mas biar dia tonton habis itu baru bandingin nonton ini dulu mas baru bandingin sama mci hed jet  minat tidak mas ada cctv tidak bang edwinnmuhammad ini win ori kan ya bang front hed jet  minat mirip  oury mau bang warna merah              ini mas wa square taper mas blb track minat punten lagi bahas apa malah melenceng dura ace minat tidak mas    mm jadi kaya film anaconda ngeri banget ini fork bawaan bro wts blb track sz   inc hs seatpost bb    jt cash on delivery sekitar ps minggu/sentul fnfjb poin huruf e nya dibaca juga mba bisa mas     frame fork hs sc saja     bb tange seatpost mas blb track minat tidak mas sz   dewa    habis lihat ini ada niatan buat ganti judul lagu elang tidak trade front hed jet  saya tambah     kali minat tidak bisa mas saya silinder hati-hati diserang coba tidak ada kerusakan ya uang jaminannya bisa disave buat hal yang lain ditambah kalau gasuka dijakarta balik lagi ke kampung kamu sana oren kalau ketinggalan barangnya dinegara lain bisa min betrand peto kalau tua jadi betrand gepeto ini video aslinya kaya bagaimana sih datang kembali yang nyanyi ruben tapi pakai hijab esther jago gambar kakak ya kalau ditanya dalangnya siapa ya ðÿ‡ºðÿ‡¸ dulunya vj mtv kalau yang gratis namanya tol ol wkwk titik kadarsih jangan sampai lupa  jam buat karaoke disekitaran pabrik ada donor sel telur tidak kamu sudah salah juga mba masih saja bela diri bukannya minta maaf gitu itu kan mas nya cuma memberi tau masa  puber ini malah bawa  ibu bego ih tolol ih saya saya anak pungut ya flite kulit recaro mau juragan suami goblok bisa buat minum juga sih ellipsenya gamau dijual mas hed saja sudah ini ambil bayarin punya saya saja win yang ntuhh prass no wa mas mutil crank pedalset bisa masih ada mutil crank om nettnya berapa dong bb apa ada wa mencari yang  jt dulu mas terimakasih sudah nawarin hehe berapa mas wtb crankset miche primato atau sugino                 fnfjb include apa saja mas frame fork hs saja berapa mas     kali dikasih bro ada wa masih ada crank omnium berapa juragan wtb fs pias sz    atau    wa              fnfjb masih bisa nego pelacur mah biasanya ngomong mau st atau lt high land berapa ini mas hs home schooling kenko jelek om bagusan pentle masih ada kalau yang kaya begini saja sampai buka donasi saya juga mau dong buka donasi buat bayar orang dalam biar jadi pns bisa tidak ya yahh aku saja belum difolback mba now playing terdiam buat menahan banjir om kan dikit lagi musim hujan hahaha flatbarnya saja berapa berapa ini om sjw suka job wawancara dia maunya jadi pendiri bukan pengikut masih ada baru stem saja yang sudah dapat sisanya tawarkan lagi kalau ada fnfjb â€¦ lebih baik mana ya wtb stem thomson x  budget     pedalset doublestrap budget     crankset omnium hitam budget  jt saddle selle flite budget                  fnfjb fsnya dapat apa saja om ternyata sinetron azab indo lebih masuk akal berapa ini om frutang ke pleset bang dicampur kue cubit enak tidak kakak greenteaaaa dota dong masih om masih ada framesetnya ajo kaya abang an ya duraace najis yang kiri chainring sugino aeromighty   t wa              itu hakim yang sebelahnya kaya menahan ketawa wkwk komedi  tahun sekali aku engga mba wsnya berapa om              vivalo minat anda bacottt dublingdore kepala sekolahnya harry potter ok min terimakasih bisa mas masih mas pakai vpn nis biar bisa buka pornhub juga bacottttt sold mas saya suka toeclipnya saja mas berapa stemnya berapa mas wts crankset dura ace fc    njs panjang kedua arm      mm arm sugino zen   t    nett arm sugino aeromighty   t    nett cash on delivery kalibata              fnfjb wheelset hson archtype   h fronthub campy record rearhub philwood cog  t  jt nett cash on delivery kalibata              fnfjb nomernya tidak bisa di wa mas              ada saya ini hahaha tuker hexohm boleh ok tampung ya     ambil mas wts crankset duraace fc     najis keduanya panjang arm      mm arm sugino zen   t    jt arm sugino aeromighty   t     semua drat aman cash on delivery kalibata/direct trf              fnfjb     nego     nego aerohead x miche cog eightinch   t     nego cash on delivery kalibata/kirim  direct trf              fnfjb boleh maaf om salah                             mas hson archtype rearhub phil fronthub campy record chainring yang mana mas sold mas sisa saddle   mm mas ws tidak bisa mutil mas     mas maaf mas tidak bisa hehe hson archtype rearhub phil   t fronthub campy record ban helios vera   shimano rt    sz   cleat dus dll lengkap beberapa part masih bisa nego dan ada yang sudah nett   sp thomson      kashimax       nitto pearl najis    rb   crankset da najis sugino zen       barset qs  t deda nera    rb   duraace najis aeromighty  jt   pedalset mks nuevo najis    rb aerohead miche ban                  fnfjb cash on delivery kalibata/kirim  ada ini mas   deh bro besok cash on delivery minus apa ada line tidak jakarta dong sini dapat apa saja ini wtb crank arm omnium budget     wtb frameset parallax budget  jt tawarkan fnfjb fs  jt fs  jt armnya saja berapa iya repaint  jt mas ada ini hehe kirain bisa turun lagi hehe wa dl saja om maaf om toko sudah tutup sekarang rumahan saja ditanah baru fb mas     om pearl   najis nitto shredbar sz    bro   nego    om wa bro paling              kalibata bro     nitto shredbar nitto pearl najis     om kali minat mas arm dura ace chainring zen sejuta mas thomson baru beli minggu kemarin masih lengkap sarung dll    nett sugino zen arm dura ace najis     mks nuevo najis strap mks fit najis toeclip mks fullbike kiyo najis mutil perset              fnfjb wts sepatu cleat shimano rt    nominus mulus sz       cm bonus cleat lace box dll lengkap    rb nett cash on delivery kalibata              boleh ditest dulu kalau gamuat jangan dipaksain beli fnfjb kali minat fullbike om sini bar tbg apa prabowo sudah cocok gantiin dolphino di trans   anak kamu kelak bar udah kebuang min bagaimana dong lagian barang sudah sampai dari hari minggu saya tidak tahu kalau kaya begini kalau bukti resi fisiknya sudah kebuang bukabantuan min tolong dong no transaksi              dananya tidak bisa diteruskan kepelapak saya sebagai pembeli dm harga bro wtb seatpost thomson      warna silver cari yang second saja tawarin ya kalau ada              fnfjb bracket remnya bisa kurang bro kali saja minat kiyo najis lagi dirumah faris bar dengan apa bro ayo masih ada fnfjb â€¦ ambil fullbike ada satu titik ditop tube masih mas ok broo     nego mas dapat bb sugino  njs headset hatta kiyo najis kali minat berapa harganya mas fnfjb masih ada nego saja silahkan â€¦ pelajaran dari film dilan kalau bukan iqbal yang jadi dilan hanyalah film cinta an pada umumnya dengan sedikit gombalan  ovj bisa jadi koko pengikutnya mukena makanya gemulai he he bayarin ini yos mau ganti die masih ada fnfjb â€¦ wts fullbike kiyo najis barset nitto shredbar pearl najis saddle fivegold stpost najis crankset duraace sugino zen  t ws hson archtype hub phil campy pedalset mks nuevo mks fit frameset kiyo      bbsg   hs hatta brakeset     jt lebih lanjut wa saja              fnfjb fix fixed bisa bro masih fnfjb masih ada best price â€¦ wts/wtt cassete sram pg          t   speed cari barteran      t atau mau dijual    rb nego              fnfjb fix fixed mas zaky lulusan itb dapat ilmu disana berjuang juga disana eh kok baru sekarang ngebandinginnya wajar sih tahun politik hehe huhh chainringnya trade mau tidak om samping kiri pedal bracket buat rem bukan ini berapa bro fnfjb masih ada â€¦ masih bro mutil shotlevernya saja bisa masih bro umat kamit kali bro maksudnya wts seatpost nitto najis         rb              fix fixed fnfjb sold broo seatpost specialized alias bawaan fullbike specialized ukuran        rb              fix fixed fnfjb wts wheelset fnr h son ws front hub miche pistard rims h son ff ban helios ws rear rims h son eero hub origin  fixfix cog roselli   t lockring allcity ban cst caldera baru    jt cash on delivery kalibata              fix fixed fnfjb fnfjb alig itu pamfletnya bahasa mana itu     omm saya trf langsung hehe ajak  lik kalau jajan ditebet     om wtb rims h son archtype / tb   sepasang cari yang   hole utamakan warna hitam wa              fix fixed fnfjb fnfjb sudah sold om maaf sold terimakasih â€¦ sold terimakasih â€¦      ambil mas belum bisa mas wts chainring sugino zen   t mirror    jt nett cash on delivery kalibata              fnfjb fix fixed fnfjb tidak bisa mas wts crankset omnium chainring dura ace   t bb gxp chain hkk blue najis       cog dura ace   t kondisi arm lecet drat aman bb aman langsung wa saja    jt cash on delivery kalibata              fix fixed fnfjb fnfjb ada wa bro berapa mas masih ada mas ini masih ada mas booked â€¦ haha jangan mass maaf mas jual paketan saja wts crankset omnium chainring duraace   t bb gxp minus lecet drat semua aman  jt nego              fix fixed fnfjb fnfjb wts frameset cinelli mash bolt      sz   seatpost thomson seatclamp thomson bb tange saddle sanmarco ponza hs bawaan  jt nego cash on delivery kalibata jaksel              fix fixed fnfjb fnfjb makasiii wts seatpost miche         rb saddle charge bucket    rb lokasi kalibata wa              fix fixed fnfjb fnfjb pedalset berapa mas yang warna ungunya masih ada mas wtt chainring sakra kanta ungu   t dengan yang warna hitam/ sugino s cubic              fix fixed fnfjb fnfjb     bro baru beli sebulan   t kali minat              brakelevernya saja berapa mutil seatpost kalau boleh mutil ban tidak bisa bro hahah duraace atau campy record juga boleh hehe cranknya dijual tidak mutil crank bisa mas bolt      mau mas kalau tambah tambah berapa eh sisa tange levin najis deng    rb bro hatta swan mau mas wa saja bro              h son eero kali minat crankset berapa crank campynya dijual mas wtb quillstem nitto pearl   mm/jaguar budget    rb seatpost nitto/thomson      warna silver budget    rb crankset sugino    budget      wa              fix fixed fnfjb fnfjb miche mau mas sz berapa as hubnya masih bawaan campy wa ada itu mau dituker atau diapain om itu tubular om campy apa om ada pict lokasi dmn bro ini wa saya              mash bolt sz                wtb dropbar os budget    rb              fnfjb fix fixed fnfjb kalau warna hitam h son eero mau mas frameset berapa sz berapa ambil ban satu saja mas bisa barter sanmarco ponza minat tidak bro wts risebar cinelli pepper grip    rb atau trade dengan dropbar              fnfjb fix fixed fnfjb dropbarnya saja berapa mas barset berapa wtt wheelset fnr h son eero full black hub belakang origin  cog  t hub depan miche primato mulus cari tukeran fnr full grey/silver picture via wa              fnfjb fix fixed fnfjb barset tidak bisa kurang mas nett bro bb cuma bonus    mm mas barang nos crankset bb    rb bro bntr saya cek wts trackbar najis    rb crankset nexus bcd       t bb miche    rb              fix fixed fnfjb masih dong wtb chainring sakra budget    rb sugino zen budget  jt              fnfjb fix fixed wtb crankset sram omnium black/ sugino    budget     usahakan masih mulus wa              fnfjb fix fixed masih ada masih ada mas barang sepeda sekarang mahal mahal admin magang fullbike berapa mas frameset saja berapa halo twitter mantan pesepeda jarang jajan mau jual barang  sepeda cuma tidak tau harga pasaran sekarang ðÿ˜“ apa kabar semua mudah mudahan masih pada sehat jauhi narkoba dekati sepeda ðÿ‘\\x8dðÿ\\x8f¼ masih ada bro berapa fi apa kabar dunia persepedahan ðÿ˜š wtb framset pias size   /   budget     kalau ada angkut sekarang              rbjb fnfjb fpjb primafixed cyclistsupply pias nettnya berapa bro fathinoo sold fs nouvo sporty      harga   jt nego              jakarta rizky   y   di tanah baru depok wiracalinputra sudah laku om itu saddle om rizky   y   sudah tidak ada toko kita rumahan saja itu juga tinggal sisa nya saja toeclip merah toeclip chrome toeclip putih hub novatech sold ya sisa toeclip putih dll hidayat alwi     fs sadle merk charge new putih hrga    rb nego dikit dahhh jangan banyak banyak bentar batuk              /      ac  fnfjb hidayat alwi rear   h jadi   h merk mecca praktis efisien hemat waktu delcont simple saja a smart buyer daenny seren iya blkng saja daenny seren masih    rb no cog   h fs toe clip merk ckc ada yang single ada yang double strap tidak ada saddle charge hrga   rb    rb frasya      rb toeclip saja strapny tidak ada baru rikobenito   iya broo fs sisa  ada yang  nd baru hub novatec l key trckbr dll harga dari   rb    rb      ac /wa              fnfjb hub n thug ramein shayyy kalau kata abegeh  tidak punya speda om huft rikobenito   itu tahun      om sudah laku hub n thug iya tante wkwk fahmi cuyy mau di jual aj om butuh duit junicotrian di bangka om jaksel belum foto lagi om wts roadbike frame balap custom    c ws alexrims gs       speed hrg     nego jarang pakai             /     ac  fnfjb jual saja ini bantuin temen roadbike frame balap custom    c gs shimano       sp ws alexrims bawaan masih pin      ac  bcycler andangnugroho ada yang mau jual crank sram omnium berapa thx wtb crank sram omnium chainring yang masih bawaannya kalau ada kabarin ya              tengkyuuu fnfjb rbjb wts bianchi infinito sz    carbon gs     ws fulcrum racing  hrg   jt nego dikit              fnfjb rbjb terimakasih y for sale bianchi infinito sz    full carbon gs     ws fulcrum racing  harga   jt no tt/barter              dari google bos hehe ingin juga ini siapaaja                 sms aj bro jarang ol bentar gw tanyain sama temen wts roadbike bianchi gs shimano     crank seatpost barset fsa ws fulcrum frame carbon full                jt fnfjb vickyhanggara sold vickyhanggara os brooo masih ada aditnaufal   minat contc langsung aj no ada kok thx aditnaufal   adaaa riko         waduh sudah lama banget itu mungkin sekarang sudah tidak berbentuk sepatu om wkwkw for sale    k uk      abenksepeda for sale for sale    k    k ainunstore harganya berapa ommm hub n thug tutup sat pinguinterbang nah masuk yang warung jati timur kurang lebih    m nanti adanya di kanan samping tukang pisang adityaapk jl warung jati timur jak sel pinguinterbang di pinggir jalan samping warung yang jual pisang hari ini tutup adityaapk tidak ada dropbar adanya trackbar hub n thug hahaha bisa saja pak satt dewasa dot tk ini kamu pilih sudah    k    k yang os cuma trackbar nitto pakai bartape minat              mbaa zeda cakep zuraydasalim  don t lie to people that trust kamu and don t trust people that lie to kamu jalucahyo kosong mas wts trackbar united new std    k trackbar nitto os bullhorn std    k saddle charge    k              fnfjb buat temen  yang ngerasa sepeda/part  sepeda nya ada di bengkel saya harap di ambil ya trimakasih jodyadit pias mirasih alhamdulillah pias sold out berkah hujan heroakkbar terus selooowwwww tengkyu ya pak bos afifcozz mantappp cuma ngasih tau jakarta lagi panas mau bikin panas lagi apaan saja jadi duit yang penting halal jual hewan qurban  jtan minat datang saja ke bengkel saya mrbaharsah tuker duit saja om hehe fixsale tuker duit saja om hehe wts pias sz        nego frm fork hs bb seatpost sadle turbo              fnfjb kali aj ad yang mau bayarin chain stay protector campagnolo biar chain staynya tidak baret    k passs              fnfjb anadrepartup yah trackbr kyknya om anadrepartup budget berapa ada ini os merk nitto warna chrome sudah ada bartapeny hitam nyeprisss hub n thug hub n thug tidak ngegasss ommm wkwkw dickynurjaya   gw majang motor di tukang pisang samping bengkel sepeda gw tidak apa apa itu padahal die jual pisang heroakkbar sorry juga sudah jual motor di forum sepeda salah usaha gw juga di bengkel sepeda jual motor ya gw butuh dana salah kalau salah ya maaf wakwawww heroakkbar salah dickynurjaya   salah di jual nouvo lele      pajak mati juni kmaren harga      nego dikit spek call/invite             /  f ec b fnfjb sallicious masih gannn seatpost cinelli vai          rebu tidak ada yang minat ini di jual nouvo      surat lengkap stnk warna kuning hrga      nego dikiitt kali gitu ada yang minat main nouvo trackbar nitto os warna chrome bartape hitam     rebu              pias nya om size    warna black gold frame fork headset seatpost sadle sms saja omm              fnfjb kevinsyahrulp kurang tau ukuran frame taiwan nya om asal      mah bisa nanang     sms ke              ada yang minat sama frameset pias size    cahyaadita sold out rafif  b sudah laku om sudah lama banget ini gw jual murah seatpost cinelli vai          rebu saja boskuu              fnfjb iseng aktifin eh isi timeline tentang pilpres terus ya lebih banyak politikus jokowow drpd prabowow ciieee politikussss colekdagu wts seatpost cinelli vai          rebuu nego dikitttt              fnfjb sikluscycling belum om hehe trimakasih buat smuanya yang mendo akan yang datang maupun yang tidak smoga do a kalian di kabulkan aamiin ya robbal alamin skali lagi trimakasih selamat jalan umi smoga adzan trakhirku buat umi do a ku mengantar umi ke surganya allah swt aamiin selamat jalan umi rizkyputraprat  nfcrews bks courier aamiin iya om terimakasih banyak mohon do anya adityaapk aamiin terimakasih banyak om mhon do anya yayatabenk    aamiin ya allah terimakasih banyak om a carnelo nfcrews aamiin trimakasih banyak ya nfcrews aamiin ya allah trimakasih banyak mhon do a nya danke hidayat trimakasih banyak om aamiin ya allah maaf om baru buka twitter wts cog  nd dura ace najis   t    k nego              jual ini nouvo lele          nego aamiin terimakasih buat do anya kawan hati-hati di jalan tetap mengayuh kawan maaf bengkel tutup sementara tidak tau sampai kapan mohon do anya buat kesembuhan ibu saya terimakasih kawan jr rizqinugraha tidak ada om tergantung kalau tidak bisa di ganti rumah drat bb nya evandrmwn abenksepeda bang bisa benerin drat frame dibagian bb tidak bayar dahhh â€¦ wts trackbar nitto os     ke nego              fnfjb binsyechbu   f ec b binsyechbu scoopy yang mana om injection apa karbu yang tambah siapa strafixiegear okee omm refincuks tidak ada coba ke r bikeshop strafixiegear cek dm chelsea olivia bukhhan maeennn jakartaholic eden hazard abaikan cedera demi chelsea masih mending saya undangan sendirian jakartaholic di bogor boediono hanya didampingi wakil menteri agama ho oh irwanneutron undangan sendiri itu berasa jadi tontonan kalau kata anak masa kini lagi gabut hahaha nananghanafi   abenksepeda maksa benar deh ahh ini senin selasa sabu samis sum at sabtu singgu deket apaan ya alpen kali ya reggyferian abenksepeda om warung jati deket mana ingin lihat lihat ini di jual nouvo lele      pajak hidup   jt nego boskuuu kurang spesifik om taradz   abenksepeda kalau ada yang jual seatpost hub sama crank merek apa az mention yah di gresia rendy sold om derby madrid malam ini apa besok yaaakkk hahaha muke gilee kriotea di situ saja bang biar bisa rt terus rt abenksepeda maaf ya kalau klamaan menunggu di rtin maklum paket dwiazrul bisa jadi aduuuhh reply/mention langsung ke orangnya bapaaakkk jangan ke semuaaaanyaaahhh maaf ya kalau klamaan menunggu di rtin maklum paket abangnya sudah abisss kode ini saja lagi di bis yang ada wifi nya hahaha danke hidayat bocah bocah duit masih nadah sama orang tua aj gaya nya sudah tggi banget bagaimana kalau sudah bisa kasih nafkah ke orang tua bisa boskuuu afrianyudha     bos re paint kaya begini bisa tidak hahaha abenksepeda http //t ada yang tau pasaran harga crank campy record   t kondisi mulus cocok buat pasangan alfandi muharam warung buncit jaksel     cukuppp hehe fnfbjm halamadrid abenksepeda yang besok mau cfd tapi ban dlmnya bocor mau beli bingung beli dmn karena sudah bu bu bu butuh untung yang besok mau cfd tapi ban dlmnya bocor mau beli bingung beli dmn karena sudah malam saya masih buka kok smbl nonton madrid maksudnya tinggal angkat polisinya masuk jalur bus way ya masuk  saja cuma mata harus waspada kalau ada polisi ya tinggal angkat beres tv ommm kriotea ini lihat nya bukan acara tv ini rt abenksepeda strikeeeeeeeee ngaceng maniaaa mantaappp ada adaan ini ario adipati apa apaan ini di abenksepeda strikeeeeeeeee ngaceng maniaaa mantaappp typo om alifadhilah   mancing om mancing hahahah abenksepeda strikeeeeeeeee ngaceng maniaaa mantaappp strikeeeeeeeee ngaceng maniaaa mantaappp di puter/di plintir  dulu baru siap di pompa naik turun awww pentilban kuisfnf orzx   fixietas fixedandfurious ini orang sering lewat bengkel saya sering negor mau nanya tapi doi buru  terus bengkel yang jam segini masih buka ujan pula bowcowr mata tidak kunjung padam jam   masih melek di mane saja update sini situu yahoo com kamu tidak sebut itu ayo follow follow biar cepat laku fixedandfurious yang suka jual beli part jangan lupa difollow fnfjb cek favorites kita buat detailnya lagi musim penalti sekalian kartu merah kyknya tapi lebih parah yang kmaren kalau yang sekarang sedikit fair madrid nya belum mulai lama benar m  e alhamdulillah sehaaat di sehat sehatin pak mbie sehat lagi tidak di bngkl pak cuma mau mengucapkan selamat buat yosacil akhirnya lepas juga itu keperjakaan jangan lupa di rawat ya pakai chain lube bisa saja ah joki abenk yang baru jadian ini yosacil betah banget disana buka bengkel lagi ya bang wkwk abenksepeda kangen bengkel ter aamiin sampai tetes terakhir arumpratama hahah di yang pnting cintanya takterhingga bang di di abenksepeda jauh dekat rp      sya pantesss frame belum datang juga di bengkel saiyah m  e finally datang juga pesanan saiyah jagwire roadpro completecablekit red http kangen bengkel tercinta beserta habitat nya jauh dekat rp      syahrialp walaupn jauh tapi tidak terasa jauh he rt arumpratama ketika jarak sudah biasa waduhhh â€¦ muhammadnovaldi udah ahmdganis pembalap cinta aiihhhh menurut saya obat obatkuat nasehat bijak satu hal yang buat kita kuat adalah doa alfi kapangueikutrace ahmdganis contoh piip udah berdarah  terus lanjut race dan berusaha masa yang pakai apaan tos nya mas aril syahrialp wes iya lah yang toss dulu rt arumpratama malam yang indah oh nabrak saya tidak ada contactnya si rio bentar kalau ketemu saya sampein ilalbilal abenksepeda sob anak abenk yang nabrak sepeda ujan kucing saja kalau ujan tidak kluar alias ngumpet bagaimana oraaaangggg bengkeljdsepi wts boskuuu stem ritchey pro    mm os    nego              fnfjb terimakasih jualan lagi ini boskuuu kliping alias roda samping buat anak / buat yang sering jatuh sore tidak sampai jual sepeda kok ariaous abenksepeda wkwk mabok chain lube berapaan itu ngelepasnya gerymv hehe keren om spatunya sama  om bang ada grip oury tidak â€¢yahh oury tidak ada adanya kau mau rt bangkunya bagus di gerymv shoes specialized road new size lengkap    k nego banget fixedandfurious fnfsolo fixiesolo surakatrack bisa ngelepas dahaga juga bisa ariaous abenksepeda bro di abenkspd bisa ngelepas chainring tidak y fixietas iya sihhh bukan salat jum at saja yang bikin kegantengan bertambah katanya sepedahan juga manfaats'"
      ]
     },
     "execution_count": 32,
     "metadata": {},
     "output_type": "execute_result"
    }
   ],
   "source": [
    "data['Tweet_Parsed5'].loc[1]"
   ]
  },
  {
   "cell_type": "code",
   "execution_count": 33,
   "metadata": {},
   "outputs": [
    {
     "data": {
      "text/plain": [
       "'throwback bro fork alpina jual tidak insolenya berapa cuma ya mas sampai juga posindonesia tolong baik layan telfon call center status paket ada di kantor pos pusat lap banteng saya telfon ke sana kali tidak angkat gilir saya kesana tau paket lagi dalam jalan sedang cek resi status tidak ubah ubah masih release by customs nett om free ongkir jabodetabek atau hole mas rb mks sylvan ckc strap vp berapa ini mas mas ws depan masih ada masih ada pernah suka sama pevita ah tidak mungkin sama dia bernie sender wts barang tidak pakai wheelset mavic ellipse inc ban jt pedalset mks royal nuevo starfuckers strap sag rb crankset miche t jt harga di atas nett ya kecuali crank bisa nego dikit cash on delivery pasar minggu sentul cibinong makasihh fnfjb bcpasarbaru bravobeacukai min no resi rv cn proses sudah sampai mana ya terimakasih dulu-dulu mana saja ya gilir sekarang banyak yang mulai b w malah diribetin kaya begini min cek dm hehe ada di chainstay fork top tube sticker pada masa wadaawww banget harga bikin decal giro najis bisa tidak bro bb sugino najis mm minus dust cover tidak ada rb fnfjb hahaha min cek dm crank ota sold fnfjb iya sama kadang pakai flazz juga tidak bisa knalpot mio mberrr kita ready banyak pras uler uler memang gabakal ubah wts bb sg najis rb crank miche t mm jt crank otayava bcd t mm rb pedalset mks ckc strap vp rb minus pedal kiri tutup tidak ada rolf vigor ban baru ganti jt cog t bawa aventon rb cod direct trf free ongkir p jawa fnfjb clan aditya adhitia sofyan jamie aditya adityalogy teddy adhitya pasti pas malem ada malam muhasabah ini masih ada mas nah mungkin thread di atas bagi benar bro tapi lebih banyak yang di lebih-lebihin serius mba pas awal pindah rumah baru tapi kalau timpuk batu sama setan saya pernah rasa langsung mas titip yang benar yang kaya bagaimana coba kasi tau kaya kamu sudah paling paham ini kadang jco kalau tidak ada kembali nukerin duit di breadtalk awww kuat army bts navy seal kalau tidak salah nafsu tau banget ini nah iya anggota dpr saja di ajak ketemu bagaimana ini yang ava nya rata foto idolnya bikin konten sodara lagi bang sama bang adiarta seru lihat wibu macho lah saya kira dia masih sd he he besok ninja warrior adain di mrt fear factor bang sekali atau ninja warrior mantap bang situ kamu gadapet hadiah ya makanya pegang mic saja ada juga yang belum laku tapi tiap menit iklan muncul terus bogor mas cash on delivery ps minggu juga bisa harga pas mas hehe allcity tuker cog miche t om boleh tanpa chainring maksud orang kalau habis putus sama yang beda agama jadi lebih bijak ya bagus deh wts pedalset mks ckc strap vp rb minus tutup pedal kiri lihat pict crank otayava bcd rb chainring viva panjang arm mm crank miche bcd jt panjang arm mm bb kotak dura ace najis bb sg najis rb rb pict susul cash on delivery kirim oke dm fnfjb aww mlu banget benar banget bahaya laten pki apa salah alig kamu brooo berapa ini mas mending jangan maksain ati bang sama army bts sama soeharto sama anti kritik masih mas yao ming kalau naik bajaj atepnya mesti buka ada yang tidak bisa dipake orang lain bang mamah jemput kiki kiki makan nyamuk nah mba ngapain ribet sama opini panca kan kalau turut dia tidak lucu yaudah tidak bisa dipaksain kan mba sendiri yang bilang selera orang beda ws depan berapa mas murah banget iniii mau ngurang in barang dulu om hehe ambil ws front saja berapa mas wts crank ota yava bcd t rb nett fnfjb hi sudah sold juragan ambil ws front saja berapa mas mau nanya om wsnya pakai hub apa kan bahaya sama haram beda mba panjang stnk gapernah kena pungli satu lagi bikin surat terang catat polisi juga aman itu dari pungli tapi kalau bikin sim ya gitu deh mantap kamu bang banyak anak banyak subscriber apalagi kalimat profesi yang cukup prestisius wkwk dari thread si korban hotel cuma cepe om pasti tidak ada tv nya mas kira aku perempuan apa nyata yang sangat kontras sama yang sudah jadi di awal yang laki laki ngelanggar sepakat di awal yang perempuan mudah banget percaya sama orang yang baru banget dia kenal sampai bj hj oral segala ya tapi dua memang sama salah mba iya langsung dengar lagu opik yah dia udah sampai foreplay segala dan tuju guna foreplay buat apa lagi memang kalau gamenjurus ke arah sana biar mudah dapat kerja biar awet muda biar makin akrab berapa ini om duit sih pasti ada om mungkin ingin pacu adrenalin om panjang mm wts barang tidak pakai bb tange baru beli minggu rb barset stem zipp flatbar xlr rb pedalset mks ckc allcity rb pedalset vp rb cog aventon t rb front rolf vigor jt hanya man fnfjb no wa om bales go green saja cup pasti mereka takut pasti bernii broadcast kaya begini biasa edar di group alumni desember yudha keling versi putih dikit waduuuhh maaf mas sudah sold os ya om tidak bisa om bentar yang belah tidak ada jodoh hehe wts pedalset mks ckc strap allcity minus pedal belah kiri tutup tidak ada rb nett fnfjb kelas lewis hamilton kalau tes sim sini juga gabakal dilulusin kalau jalur normal ya paling tidak harus ulang x nettnya berapa memang mas juta masuk tidak mas cari cog kaya gitu mana mas pasang atau rear saja bro tidak bisa om wts barset stem zipp service course mm flatbar xlr grip rb nett fnfjb wts rear wheelset velocity b hole mulus hub soma cog miche t ban cst rb nett fnfjb suruh temennya saja yang buatin kata gratis goblok sekali ya wts frameset tsunami snm include bb hs baru minggu beli dari baru box masih ada nego tipis terimakasih fnfjb berni lagi saja berni lagi saja bukan walikotanya saja mas yang ahli tata kata gubernur juga fyi itu custom mas vigornya kalau jual berapa mas aminn sangat risih kecuali temen deket tidak apa apa deh frameset berapa mas berapa ini mas berapa ini mas saya pernah lihat yang lebih parah lagi makan roti bakar cowonya ngobel cewenya yang saya laku ya lebih baik pindah tempat daripada ngevideoin diem kaya begini elah kalau depresi masih sempat main media sosial yang ada tambah depresi blog itu mah caper blb track minat tidak mas jangan waterbase malah rebus nanti waktu mabuk aku jadi turut banget tau aku mabuk asmara hehe begini saja dipermasalahin malah bagus ada tanda kaya gitu saya juga pejal kaki tapi lebih sering naik sepeda sih kalau lihat tanda larang lintas yaudah ikutin saja tidak usah ribet lagi masing sudah ada jalur kan iye iye blb track sz kasi lihat depan mata mas biar dia tonton habis itu baru bandingin nonton ini dulu mas baru bandingin sama mci hed jet minat tidak mas ada cctv tidak bang edwinnmuhammad ini win ori kan ya bang front hed jet minat mirip oury mau bang warna merah ini mas wa square taper mas blb track minat punten lagi bahas apa malah lenceng dura ace minat tidak mas mm jadi kaya film anaconda ngeri banget ini fork bawa bro wts blb track sz inc hs seatpost bb jt cash on delivery sekitar ps minggu sentul fnfjb poin huruf e nya baca juga mba bisa mas frame fork hs sc saja bb tange seatpost mas blb track minat tidak mas sz dewa habis lihat ini ada niat buat ganti judul lagu elang tidak trade front hed jet saya tambah kali minat tidak bisa mas saya silinder hati serang coba tidak ada rusa ya uang jamin bisa disave buat hal yang lain tambah kalau gasuka dijakarta balik lagi ke kampung kamu sana oren kalau tinggal barang negara lain bisa min betrand peto kalau tua jadi betrand gepeto ini video asli kaya bagaimana sih datang kembali yang nyanyi ruben tapi pakai hijab esther jago gambar kakak ya kalau tanya dalang siapa ya dulunya vj mtv kalau yang gratis nama tol ol wkwk titik kadarsih jangan sampai lupa jam buat karaoke sekitar pabrik ada donor sel telur tidak kamu sudah salah juga mba masih saja bela diri bukan minta maaf gitu itu kan mas nya cuma beri tau masa puber ini malah bawa ibu bego ih tolol ih saya saya anak pungut ya flite kulit recaro mau juragan suami goblok bisa buat minum juga sih ellipsenya gamau jual mas hed saja sudah ini ambil bayarin punya saya saja win yang ntuhh prass no wa mas mutil crank pedalset bisa masih ada mutil crank om nettnya berapa dong bb apa ada wa cari yang jt dulu mas terimakasih sudah nawarin hehe berapa mas wtb crankset miche primato atau sugino fnfjb include apa saja mas frame fork hs saja berapa mas kali kasih bro ada wa masih ada crank omnium berapa juragan wtb fs pias sz atau wa fnfjb masih bisa nego lacur mah biasa ngomong mau st atau lt high land berapa ini mas hs home schooling kenko jelek om bagus pentle masih ada kalau yang kaya begini saja sampai buka donasi saya juga mau dong buka donasi buat bayar orang dalam biar jadi pns bisa tidak ya yahh aku saja belum difolback mba now playing diam buat tahan banjir om kan dikit lagi musim hujan hahaha flatbarnya saja berapa berapa ini om sjw suka job wawancara dia mau jadi diri bukan ikut masih ada baru stem saja yang sudah dapat sisa tawar lagi kalau ada fnfjb lebih baik mana ya wtb stem thomson x budget pedalset doublestrap budget crankset omnium hitam budget jt saddle selle flite budget fnfjb fsnya dapat apa saja om nyata sinetron azab indo lebih masuk akal berapa ini om frutang ke pleset bang campur kue cubit enak tidak kakak greenteaaaa dota dong masih om masih ada framesetnya ajo kaya abang an ya duraace najis yang kiri chainring sugino aeromighty t wa itu hakim yang belah kaya tahan ketawa wkwk komedi tahun sekali aku engga mba wsnya berapa om vivalo minat anda bacottt dublingdore kepala sekolah harry potter ok min terimakasih bisa mas masih mas pakai vpn nis biar bisa buka pornhub juga bacottttt sold mas saya suka toeclipnya saja mas berapa stemnya berapa mas wts crankset dura ace fc njs panjang dua arm mm arm sugino zen t nett arm sugino aeromighty t nett cash on delivery kalibata fnfjb wheelset hson archtype h fronthub campy record rearhub philwood cog t jt nett cash on delivery kalibata fnfjb nomernya tidak bisa di wa mas ada saya ini hahaha tuker hexohm boleh ok tampung ya ambil mas wts crankset duraace fc najis dua panjang arm mm arm sugino zen t jt arm sugino aeromighty t semua drat aman cash on delivery kalibata direct trf fnfjb nego nego aerohead x miche cog eightinch t nego cash on delivery kalibata kirim direct trf fnfjb boleh maaf om salah mas hson archtype rearhub phil fronthub campy record chainring yang mana mas sold mas sisa saddle mm mas ws tidak bisa mutil mas mas maaf mas tidak bisa hehe hson archtype rearhub phil t fronthub campy record ban helios vera shimano rt sz cleat dus dll lengkap beberapa part masih bisa nego dan ada yang sudah nett sp thomson kashimax nitto pearl najis rb crankset da najis sugino zen barset qs t deda nera rb duraace najis aeromighty jt pedalset mks nuevo najis rb aerohead miche ban fnfjb cash on delivery kalibata kirim ada ini mas deh bro besok cash on delivery minus apa ada line tidak jakarta dong sini dapat apa saja ini wtb crank arm omnium budget wtb frameset parallax budget jt tawar fnfjb fs jt fs jt armnya saja berapa iya repaint jt mas ada ini hehe kirain bisa turun lagi hehe wa dl saja om maaf om toko sudah tutup sekarang rumah saja tanah baru fb mas om pearl najis nitto shredbar sz bro nego om wa bro paling kalibata bro nitto shredbar nitto pearl najis om kali minat mas arm dura ace chainring zen juta mas thomson baru beli minggu kemarin masih lengkap sarung dll nett sugino zen arm dura ace najis mks nuevo najis strap mks fit najis toeclip mks fullbike kiyo najis mutil set fnfjb wts sepatu cleat shimano rt nominus mulus sz cm bonus cleat lace box dll lengkap rb nett cash on delivery kalibata boleh ditest dulu kalau gamuat jangan dipaksain beli fnfjb kali minat fullbike om sini bar tbg apa prabowo sudah cocok gantiin dolphino di trans anak kamu kelak bar udah buang min bagaimana dong lagi barang sudah sampai dari hari minggu saya tidak tahu kalau kaya begini kalau bukti resi fisik sudah buang bukabantuan min tolong dong no transaksi dana tidak bisa terus lapak saya bagai beli dm harga bro wtb seatpost thomson warna silver cari yang second saja tawarin ya kalau ada fnfjb bracket rem bisa kurang bro kali saja minat kiyo najis lagi rumah faris bar dengan apa bro ayo masih ada fnfjb ambil fullbike ada satu titik top tube masih mas ok broo nego mas dapat bb sugino njs headset hatta kiyo najis kali minat berapa harga mas fnfjb masih ada nego saja silah ajar dari film dil kalau bukan iqbal yang jadi dil hanya film cinta an pada umum dengan sedikit gombal ovj bisa jadi koko ikut mukena makanya gemulai he he bayarin ini yos mau ganti die masih ada fnfjb wts fullbike kiyo najis barset nitto shredbar pearl najis saddle fivegold stpost najis crankset duraace sugino zen t ws hson archtype hub phil campy pedalset mks nuevo mks fit frameset kiyo bbsg hs hatta brakeset jt lebih lanjut wa saja fnfjb fix fixed bisa bro masih fnfjb masih ada best price wts wtt cassete sram pg t speed cari barter t atau mau jual rb nego fnfjb fix fixed mas zaky lulus itb dapat ilmu sana juang juga sana eh kok baru sekarang ngebandinginnya wajar sih tahun politik hehe huhh chainringnya trade mau tidak om samping kiri pedal bracket buat rem bukan ini berapa bro fnfjb masih ada masih bro mutil shotlevernya saja bisa masih bro umat kamit kali bro maksud wts seatpost nitto najis rb fix fixed fnfjb sold broo seatpost specialized alias bawa fullbike specialized ukur rb fix fixed fnfjb wts wheelset fnr h son ws front hub miche pistard rims h son ff ban helios ws rear rims h son eero hub origin fixfix cog roselli t lockring allcity ban cst caldera baru jt cash on delivery kalibata fix fixed fnfjb fnfjb alig itu pamflet bahasa mana itu omm saya trf langsung hehe ajak lik kalau jajan ditebet om wtb rims h son archtype tb pasang cari yang hole utama warna hitam wa fix fixed fnfjb fnfjb sudah sold om maaf sold terimakasih sold terimakasih ambil mas belum bisa mas wts chainring sugino zen t mirror jt nett cash on delivery kalibata fnfjb fix fixed fnfjb tidak bisa mas wts crankset omnium chainring dura ace t bb gxp chain hkk blue najis cog dura ace t kondisi arm lecet drat aman bb aman langsung wa saja jt cash on delivery kalibata fix fixed fnfjb fnfjb ada wa bro berapa mas masih ada mas ini masih ada mas booked haha jangan mass maaf mas jual paket saja wts crankset omnium chainring duraace t bb gxp minus lecet drat semua aman jt nego fix fixed fnfjb fnfjb wts frameset cinelli mash bolt sz seatpost thomson seatclamp thomson bb tange saddle sanmarco ponza hs bawa jt nego cash on delivery kalibata jaksel fix fixed fnfjb fnfjb makasiii wts seatpost miche rb saddle charge bucket rb lokasi kalibata wa fix fixed fnfjb fnfjb pedalset berapa mas yang warna ungu masih ada mas wtt chainring sakra kanta ungu t dengan yang warna hitam sugino s cubic fix fixed fnfjb fnfjb bro baru beli bulan t kali minat brakelevernya saja berapa mutil seatpost kalau boleh mutil ban tidak bisa bro hahah duraace atau campy record juga boleh hehe cranknya jual tidak mutil crank bisa mas bolt mau mas kalau tambah tambah berapa eh sisa tange levin najis deng rb bro hatta swan mau mas wa saja bro h son eero kali minat crankset berapa crank campynya jual mas wtb quillstem nitto pearl mm jaguar budget rb seatpost nitto thomson warna silver budget rb crankset sugino budget wa fix fixed fnfjb fnfjb miche mau mas sz berapa as hubnya masih bawa campy wa ada itu mau dituker atau diapain om itu tubular om campy apa om ada pict lokasi dmn bro ini wa saya mash bolt sz wtb dropbar os budget rb fnfjb fix fixed fnfjb kalau warna hitam h son eero mau mas frameset berapa sz berapa ambil ban satu saja mas bisa barter sanmarco ponza minat tidak bro wts risebar cinelli pepper grip rb atau trade dengan dropbar fnfjb fix fixed fnfjb dropbarnya saja berapa mas barset berapa wtt wheelset fnr h son eero full black hub belakang origin cog t hub depan miche primato mulus cari tukeran fnr full grey silver picture via wa fnfjb fix fixed fnfjb barset tidak bisa kurang mas nett bro bb cuma bonus mm mas barang nos crankset bb rb bro bntr saya cek wts trackbar najis rb crankset nexus bcd t bb miche rb fix fixed fnfjb masih dong wtb chainring sakra budget rb sugino zen budget jt fnfjb fix fixed wtb crankset sram omnium black sugino budget usaha masih mulus wa fnfjb fix fixed masih ada masih ada mas barang sepeda sekarang mahal mahal admin magang fullbike berapa mas frameset saja berapa halo twitter mantan sepeda jarang jajan mau jual barang sepeda cuma tidak tau harga pasar sekarang apa kabar semua mudah mudah masih pada sehat jauh narkoba dekat sepeda masih ada bro berapa fi apa kabar dunia dah wtb framset pias size budget kalau ada angkut sekarang rbjb fnfjb fpjb primafixed cyclistsupply pias nettnya berapa bro fathinoo sold fs nouvo sporty harga jt nego jakarta rizky y di tanah baru depok wiracalinputra sudah laku om itu saddle om rizky y sudah tidak ada toko kita rumah saja itu juga tinggal sisa nya saja toeclip merah toeclip chrome toeclip putih hub novatech sold ya sisa toeclip putih dll hidayat alwi fs sadle merk charge new putih hrga rb nego dikit dahhh jangan banyak banyak bentar batuk ac fnfjb hidayat alwi rear h jadi h merk mecca praktis efisien hemat waktu delcont simple saja a smart buyer daenny seren iya blkng saja daenny seren masih rb no cog h fs toe clip merk ckc ada yang single ada yang double strap tidak ada saddle charge hrga rb rb frasya rb toeclip saja strapny tidak ada baru rikobenito iya broo fs sisa ada yang nd baru hub novatec l key trckbr dll harga dari rb rb ac wa fnfjb hub n thug ramein shayyy kalau kata abegeh tidak punya speda om huft rikobenito itu tahun om sudah laku hub n thug iya tante wkwk fahmi cuyy mau di jual aj om butuh duit junicotrian di bangka om jaksel belum foto lagi om wts roadbike frame balap custom c ws alexrims gs speed hrg nego jarang pakai ac fnfjb jual saja ini bantuin temen roadbike frame balap custom c gs shimano sp ws alexrims bawa masih pin ac bcycler andangnugroho ada yang mau jual crank sram omnium berapa thx wtb crank sram omnium chainring yang masih bawa kalau ada kabarin ya tengkyuuu fnfjb rbjb wts bianchi infinito sz carbon gs ws fulcrum racing hrg jt nego dikit fnfjb rbjb terimakasih y for sale bianchi infinito sz full carbon gs ws fulcrum racing harga jt no tt barter dari google bos hehe ingin juga ini siapaaja sms aj bro jarang ol bentar gw tanyain sama temen wts roadbike bianchi gs shimano crank seatpost barset fsa ws fulcrum frame carbon full jt fnfjb vickyhanggara sold vickyhanggara os brooo masih ada aditnaufal minat contc langsung aj no ada kok thx aditnaufal adaaa riko waduh sudah lama banget itu mungkin sekarang sudah tidak bentuk sepatu om wkwkw for sale k uk abenksepeda for sale for sale k k ainunstore harga berapa ommm hub n thug tutup sat pinguinterbang nah masuk yang warung jati timur kurang lebih m nanti ada di kanan samping tukang pisang adityaapk jl warung jati timur jak sel pinguinterbang di pinggir jalan samping warung yang jual pisang hari ini tutup adityaapk tidak ada dropbar ada trackbar hub n thug hahaha bisa saja pak satt dewasa dot tk ini kamu pilih sudah k k yang os cuma trackbar nitto pakai bartape minat mbaa zeda cakep zuraydasalim don t lie to people that trust kamu and don t trust people that lie to kamu jalucahyo kosong mas wts trackbar united new std k trackbar nitto os bullhorn std k saddle charge k fnfjb buat temen yang ngerasa sepeda part sepeda nya ada di bengkel saya harap di ambil ya trimakasih jodyadit pias mirasih alhamdulillah pias sold out berkah hujan heroakkbar terus selooowwwww tengkyu ya pak bos afifcozz mantappp cuma ngasih tau jakarta lagi panas mau bikin panas lagi apa saja jadi duit yang penting halal jual hewan qurban jtan minat datang saja ke bengkel saya mrbaharsah tuker duit saja om hehe fixsale tuker duit saja om hehe wts pias sz nego frm fork hs bb seatpost sadle turbo fnfjb kali aj ad yang mau bayarin chain stay protector campagnolo biar chain staynya tidak baret k passs fnfjb anadrepartup yah trackbr kyknya om anadrepartup budget berapa ada ini os merk nitto warna chrome sudah ada bartapeny hitam nyeprisss hub n thug hub n thug tidak ngegasss ommm wkwkw dickynurjaya gw majang motor di tukang pisang samping bengkel sepeda gw tidak apa apa itu padahal die jual pisang heroakkbar sorry juga sudah jual motor di forum sepeda salah usaha gw juga di bengkel sepeda jual motor ya gw butuh dana salah kalau salah ya maaf wakwawww heroakkbar salah dickynurjaya salah di jual nouvo lele pajak mati juni kmaren harga nego dikit spek call invite f ec b fnfjb sallicious masih gannn seatpost cinelli vai rebu tidak ada yang minat ini di jual nouvo surat lengkap stnk warna kuning hrga nego dikiitt kali gitu ada yang minat main nouvo trackbar nitto os warna chrome bartape hitam rebu pias nya om size warna black gold frame fork headset seatpost sadle sms saja omm fnfjb kevinsyahrulp kurang tau ukur frame taiwan nya om asal mah bisa nanang sms ke ada yang minat sama frameset pias size cahyaadita sold out rafif b sudah laku om sudah lama banget ini gw jual murah seatpost cinelli vai rebu saja boskuu fnfjb iseng aktifin eh isi timeline tentang pilpres terus ya lebih banyak politikus jokowow drpd prabowow ciieee politikussss colekdagu wts seatpost cinelli vai rebuu nego dikitttt fnfjb sikluscycling belum om hehe trimakasih buat smuanya yang mendo akan yang datang maupun yang tidak smoga do a kalian di kabul aamiin ya robbal alamin skali lagi trimakasih selamat jalan umi smoga adzan trakhirku buat umi do a ku antar umi ke surga allah swt aamiin selamat jalan umi rizkyputraprat nfcrews bks courier aamiin iya om terimakasih banyak mohon do anya adityaapk aamiin terimakasih banyak om mhon do anya yayatabenk aamiin ya allah terimakasih banyak om a carnelo nfcrews aamiin trimakasih banyak ya nfcrews aamiin ya allah trimakasih banyak mhon do a nya danke hidayat trimakasih banyak om aamiin ya allah maaf om baru buka twitter wts cog nd dura ace najis t k nego jual ini nouvo lele nego aamiin terimakasih buat do anya kawan hati di jalan tetap kayuh kawan maaf bengkel tutup sementara tidak tau sampai kapan mohon do anya buat sembuh ibu saya terimakasih kawan jr rizqinugraha tidak ada om gantung kalau tidak bisa di ganti rumah drat bb nya evandrmwn abenksepeda bang bisa benerin drat frame bagi bb tidak bayar dahhh wts trackbar nitto os ke nego fnfjb binsyechbu f ec b binsyechbu scoopy yang mana om injection apa karbu yang tambah siapa strafixiegear okee omm refincuks tidak ada coba ke r bikeshop strafixiegear cek dm chelsea olivia bukhhan maeennn jakartaholic eden hazard abai cedera demi chelsea masih mending saya undang sendiri jakartaholic di bogor boediono hanya damping wakil menteri agama ho oh irwanneutron undang sendiri itu asa jadi tonton kalau kata anak masa kini lagi gabut hahaha nananghanafi abenksepeda maksa benar deh ahh ini senin selasa sabu samis sum at sabtu singgu deket apa ya alpen kali ya reggyferian abenksepeda om warung jati deket mana ingin lihat lihat ini di jual nouvo lele pajak hidup jt nego boskuuu kurang spesifik om taradz abenksepeda kalau ada yang jual seatpost hub sama crank merek apa az mention yah di gresia rendy sold om derby madrid malam ini apa besok yaaakkk hahaha muke gilee kriotea di situ saja bang biar bisa rt terus rt abenksepeda maaf ya kalau klamaan tunggu di rtin maklum paket dwiazrul bisa jadi aduuuhh reply mention langsung ke orang bapaaakkk jangan ke semuaaaanyaaahhh maaf ya kalau klamaan tunggu di rtin maklum paket abang sudah abisss kode ini saja lagi di bis yang ada wifi nya hahaha danke hidayat bocah bocah duit masih nadah sama orang tua aj gaya nya sudah tggi banget bagaimana kalau sudah bisa kasih nafkah ke orang tua bisa boskuuu afrianyudha bos re paint kaya begini bisa tidak hahaha abenksepeda http t ada yang tau pasar harga crank campy record t kondisi mulus cocok buat pasang alfandi muharam warung buncit jaksel cukuppp hehe fnfbjm halamadrid abenksepeda yang besok mau cfd tapi ban dlmnya bocor mau beli bingung beli dmn karena sudah bu bu bu butuh untung yang besok mau cfd tapi ban dlmnya bocor mau beli bingung beli dmn karena sudah malam saya masih buka kok smbl nonton madrid maksud tinggal angkat polisi masuk jalur bus way ya masuk saja cuma mata harus waspada kalau ada polisi ya tinggal angkat beres tv ommm kriotea ini lihat nya bukan acara tv ini rt abenksepeda strikeeeeeeeee ngaceng maniaaa mantaappp ada ada ini ario adipati apa apa ini di abenksepeda strikeeeeeeeee ngaceng maniaaa mantaappp typo om alifadhilah mancing om mancing hahahah abenksepeda strikeeeeeeeee ngaceng maniaaa mantaappp strikeeeeeeeee ngaceng maniaaa mantaappp di puter di plintir dulu baru siap di pompa naik turun awww pentilban kuisfnf orzx fixietas fixedandfurious ini orang sering lewat bengkel saya sering negor mau nanya tapi doi buru terus bengkel yang jam gin masih buka ujan pula bowcowr mata tidak kunjung padam jam masih melek di mane saja update sini situu yahoo com kamu tidak sebut itu ayo follow follow biar cepat laku fixedandfurious yang suka jual beli part jangan lupa difollow fnfjb cek favorites kita buat detail lagi musim penalti sekali kartu merah kyknya tapi lebih parah yang kmaren kalau yang sekarang sedikit fair madrid nya belum mulai lama benar m e alhamdulillah sehaaat di sehat sehatin pak mbie sehat lagi tidak di bngkl pak cuma mau ucap selamat buat yosacil akhir lepas juga itu perjaka jangan lupa di rawat ya pakai chain lube bisa saja ah joki abenk yang baru jadi ini yosacil betah banget sana buka bengkel lagi ya bang wkwk abenksepeda kangen bengkel ter aamiin sampai tetes akhir arumpratama hahah di yang pnting cinta takterhingga bang di di abenksepeda jauh dekat rp sya pantesss frame belum datang juga di bengkel saiyah m e finally datang juga pesan saiyah jagwire roadpro completecablekit red http kangen bengkel cinta serta habitat nya jauh dekat rp syahrialp walaupn jauh tapi tidak asa jauh he rt arumpratama ketika jarak sudah biasa waduhhh muhammadnovaldi udah ahmdganis balap cinta aiihhhh turut saya obat obatkuat nasehat bijak satu hal yang buat kita kuat adalah doa alf kapangueikutrace ahmdganis contoh piip udah darah terus lanjut race dan usaha masa yang pakai apa tos nya mas aril syahrialp wes iya lah yang toss dulu rt arumpratama malam yang indah oh nabrak saya tidak ada contactnya si rio bentar kalau ketemu saya sampein ilalbilal abenksepeda sob anak abenk yang nabrak sepeda ujan kucing saja kalau ujan tidak kluar alias ngumpet bagaimana oraaaangggg bengkeljdsepi wts boskuuu stem ritchey pro mm os nego fnfjb terimakasih jual lagi ini boskuuu kliping alias roda samping buat anak buat yang sering jatuh sore tidak sampai jual sepeda kok ariaous abenksepeda wkwk mabok chain lube berapa itu ngelepasnya gerymv hehe keren om spatunya sama om bang ada grip oury tidak yahh oury tidak ada ada kau mau rt bangku bagus di gerymv shoes specialized road new size lengkap k nego banget fixedandfurious fnfsolo fixiesolo surakatrack bisa ngelepas dahaga juga bisa ariaous abenksepeda bro di abenkspd bisa ngelepas chainring tidak y fixietas iya sihhh bukan salat jum at saja yang bikin ganteng tambah kata dah juga manfaats'"
      ]
     },
     "execution_count": 33,
     "metadata": {},
     "output_type": "execute_result"
    }
   ],
   "source": [
    "data['Tweet_Parsed6'].loc[1]"
   ]
  },
  {
   "cell_type": "code",
   "execution_count": 34,
   "metadata": {},
   "outputs": [
    {
     "data": {
      "text/plain": [
       "'throwback bro fork alpina jual  insolenya    mas   posindonesia tolong  layan telfon call center status paket   kantor pos pusat lap banteng  telfon   kali  angkat gilir  kesana tau paket   jalan  cek resi status  ubah ubah  release  customs nett om free ongkir jabodetabek  hole mas rb mks sylvan ckc strap vp   mas mas ws       suka  pevita ah     bernie sender wts barang  pakai wheelset mavic ellipse inc ban jt pedalset mks royal nuevo starfuckers strap sag rb crankset miche  jt harga   nett  kecuali crank  nego dikit cash  delivery pasar minggu sentul cibinong makasihh fnfjb bcpasarbaru bravobeacukai min  resi rv cn proses     terimakasih -    gilir     b w  diribetin kaya  min cek dm hehe   chainstay fork top tube sticker   wadaawww banget harga bikin decal giro najis   bro bb sugino najis mm minus dust cover   rb fnfjb hahaha min cek dm crank ota sold fnfjb iya  kadang pakai flazz    knalpot mio mberrr  ready  pras uler uler  gabakal ubah wts bb sg najis rb crank miche  mm jt crank otayava bcd  mm rb pedalset mks ckc strap vp rb minus pedal kiri tutup   rolf vigor ban  ganti jt cog  bawa aventon rb cod direct trf free ongkir p jawa fnfjb clan aditya adhitia sofyan jamie aditya adityalogy teddy adhitya  pas malem  malam muhasabah    mas   thread     bro      -lebihin serius mba pas  pindah rumah    timpuk batu  setan    langsung mas titip    kaya  coba kasi tau kaya    paham  kadang jco     nukerin duit  breadtalk awww kuat army bts navy seal   salah nafsu tau banget   iya anggota dpr   ajak ketemu    ava   foto idolnya bikin konten sodara  bang  bang adiarta seru lihat wibu macho      sd   besok ninja warrior adain  mrt fear factor bang   ninja warrior mantap bang situ  gadapet hadiah   pegang mic      laku   menit iklan muncul  bogor mas cash  delivery ps minggu   harga pas mas hehe allcity tuker cog miche  om   chainring maksud orang  habis putus   beda agama   bijak  bagus deh wts pedalset mks ckc strap vp rb minus tutup pedal kiri lihat pict crank otayava bcd rb chainring viva  arm mm crank miche bcd jt  arm mm bb kotak dura ace najis bb sg najis rb rb pict susul cash  delivery kirim oke dm fnfjb aww mlu banget  banget bahaya laten pki  salah alig  brooo   mas mending  maksain ati bang  army bts  soeharto  anti kritik  mas yao ming   bajaj atepnya mesti buka     dipake orang  bang mamah jemput kiki kiki makan nyamuk  mba ngapain ribet  opini panca      lucu yaudah   dipaksain  mba   bilang selera orang beda ws   mas murah banget iniii  ngurang  barang  om hehe ambil ws front   mas wts crank ota yava bcd  rb nett fnfjb hi  sold juragan ambil ws front   mas  nanya om wsnya pakai hub   bahaya  haram beda mba  stnk gapernah kena pungli   bikin surat terang catat polisi  aman   pungli   bikin sim  gitu deh mantap  bang  anak  subscriber  kalimat profesi   prestisius wkwk  thread si korban hotel  cepe om    tv  mas   perempuan  nyata   kontras        laki laki ngelanggar sepakat    perempuan mudah banget percaya  orang   banget  kenal  bj hj oral       salah mba iya langsung dengar lagu opik yah  udah  foreplay   tuju  foreplay      gamenjurus  arah  biar mudah  kerja biar awet muda biar  akrab   om duit    om   pacu adrenalin om  mm wts barang  pakai bb tange  beli minggu rb barset stem zipp flatbar xlr rb pedalset mks ckc allcity rb pedalset vp rb cog aventon  rb front rolf vigor jt  man fnfjb  wa om bales go green  cup   takut  bernii broadcast kaya   edar  group alumni desember yudha keling versi putih dikit waduuuhh maaf mas  sold os  om   om bentar  belah   jodoh hehe wts pedalset mks ckc strap allcity minus pedal belah kiri tutup   rb nett fnfjb kelas lewis hamilton  tes sim   gabakal dilulusin  jalur normal     ulang x nettnya   mas juta masuk  mas cari cog kaya gitu  mas pasang  rear  bro   om wts barset stem zipp service course mm flatbar xlr grip rb nett fnfjb wts rear wheelset velocity b hole mulus hub soma cog miche  ban cst rb nett fnfjb suruh temennya   buatin  gratis goblok   wts frameset tsunami snm include bb hs  minggu beli   box   nego tipis terimakasih fnfjb berni   berni    walikotanya  mas  ahli tata  gubernur  fyi  custom mas vigornya  jual  mas aminn  risih kecuali temen deket    deh frameset  mas   mas   mas   lihat   parah  makan roti bakar cowonya ngobel cewenya   laku    pindah   ngevideoin diem kaya  elah  depresi   main media sosial    depresi blog  mah caper blb track minat  mas  waterbase  rebus   mabuk    banget tau  mabuk asmara hehe   dipermasalahin  bagus  tanda kaya gitu   pejal kaki     sepeda   lihat tanda larang lintas yaudah ikutin    ribet     jalur  iye iye blb track sz kasi lihat  mata mas biar  tonton habis   bandingin nonton   mas  bandingin  mci hed jet minat  mas  cctv  bang edwinnmuhammad  win ori   bang front hed jet minat  oury  bang warna merah  mas wa square taper mas blb track minat punten  bahas   lenceng dura ace minat  mas mm  kaya film anaconda ngeri banget  fork bawa bro wts blb track sz inc hs seatpost bb jt cash  delivery  ps minggu sentul fnfjb poin huruf e  baca  mba  mas frame fork hs sc  bb tange seatpost mas blb track minat  mas sz dewa habis lihat   niat  ganti judul lagu elang  trade front hed jet   kali minat   mas  silinder hati serang coba   rusa  uang jamin  disave       gasuka dijakarta    kampung   oren  tinggal barang negara   min betrand peto  tua  betrand gepeto  video asli kaya      nyanyi ruben  pakai hijab esther jago gambar kakak    dalang   dulunya vj mtv   gratis nama tol ol wkwk titik kadarsih   lupa jam  karaoke  pabrik  donor sel telur    salah  mba   bela    maaf gitu   mas    tau  puber   bawa  bego ih tolol ih   anak pungut  flite kulit recaro  juragan suami goblok   minum   ellipsenya gamau jual mas hed    ambil bayarin    win  ntuhh prass  wa mas mutil crank pedalset    mutil crank om nettnya   bb   wa cari  jt  mas terimakasih  nawarin hehe  mas wtb crankset miche primato  sugino fnfjb include   mas frame fork hs   mas kali kasih bro  wa   crank omnium  juragan wtb fs pias sz  wa fnfjb   nego lacur mah  ngomong  st  lt high land   mas hs home schooling kenko jelek om bagus pentle     kaya    buka donasi     buka donasi  bayar orang  biar  pns    yahh    difolback mba  playing diam  tahan banjir om  dikit  musim hujan hahaha flatbarnya     om sjw suka job wawancara          stem     sisa tawar    fnfjb     wtb stem thomson x budget pedalset doublestrap budget crankset omnium hitam budget jt saddle selle flite budget fnfjb fsnya    om nyata sinetron azab indo  masuk akal   om frutang  pleset bang campur kue cubit enak  kakak greenteaaaa dota   om   framesetnya ajo kaya abang   duraace najis  kiri chainring sugino aeromighty  wa  hakim  belah kaya tahan ketawa wkwk komedi    engga mba wsnya  om vivalo minat  bacottt dublingdore kepala sekolah harry potter ok min terimakasih  mas  mas pakai vpn nis biar  buka pornhub  bacottttt sold mas  suka toeclipnya  mas  stemnya  mas wts crankset dura ace fc njs   arm mm arm sugino zen  nett arm sugino aeromighty  nett cash  delivery kalibata fnfjb wheelset hson archtype h fronthub campy record rearhub philwood cog  jt nett cash  delivery kalibata fnfjb nomernya    wa mas    hahaha tuker hexohm  ok tampung  ambil mas wts crankset duraace fc najis   arm mm arm sugino zen  jt arm sugino aeromighty   drat aman cash  delivery kalibata direct trf fnfjb nego nego aerohead x miche cog eightinch  nego cash  delivery kalibata kirim direct trf fnfjb  maaf om salah mas hson archtype rearhub phil fronthub campy record chainring   mas sold mas sisa saddle mm mas ws   mutil mas mas maaf mas   hehe hson archtype rearhub phil  fronthub campy record ban helios vera shimano  sz cleat dus dll lengkap  part   nego     nett sp thomson kashimax nitto pearl najis rb crankset da najis sugino zen barset qs  deda nera rb duraace najis aeromighty jt pedalset mks nuevo najis rb aerohead miche ban fnfjb cash  delivery kalibata kirim   mas deh bro besok cash  delivery minus   line  jakarta       wtb crank arm omnium budget wtb frameset parallax budget jt tawar fnfjb fs jt fs jt armnya   iya repaint jt mas   hehe kirain  turun  hehe wa dl  om maaf om toko  tutup  rumah  tanah  fb mas om pearl najis nitto shredbar sz bro nego om wa bro  kalibata bro nitto shredbar nitto pearl najis om kali minat mas arm dura ace chainring zen juta mas thomson  beli minggu kemarin  lengkap sarung dll nett sugino zen arm dura ace najis mks nuevo najis strap mks fit najis toeclip mks fullbike kiyo najis mutil set fnfjb wts sepatu cleat shimano  nominus mulus sz cm bonus cleat lace box dll lengkap rb nett cash  delivery kalibata  ditest   gamuat  dipaksain beli fnfjb kali minat fullbike om  bar tbg  prabowo  cocok gantiin dolphino  trans anak  kelak bar udah buang min    barang     minggu     kaya   bukti resi fisik  buang bukabantuan min tolong   transaksi dana    lapak   beli dm harga bro wtb seatpost thomson warna silver cari  second  tawarin    fnfjb bracket rem   bro kali  minat kiyo najis  rumah faris bar   bro ayo   fnfjb ambil fullbike   titik top tube  mas ok broo nego mas  bb sugino njs headset hatta kiyo najis kali minat  harga mas fnfjb   nego  silah ajar  film dil   iqbal   dil  film cinta      gombal ovj   koko  mukena  gemulai   bayarin  yos  ganti die   fnfjb wts fullbike kiyo najis barset nitto shredbar pearl najis saddle fivegold stpost najis crankset duraace sugino zen  ws hson archtype hub phil campy pedalset mks nuevo mks fit frameset kiyo bbsg hs hatta brakeset jt   wa  fnfjb fix fixed  bro  fnfjb   best price wts wtt cassete sram pg  speed cari barter    jual rb nego fnfjb fix fixed mas zaky lulus itb  ilmu  juang   eh    ngebandinginnya wajar   politik hehe huhh chainringnya trade   om samping kiri pedal bracket  rem    bro fnfjb    bro mutil shotlevernya    bro umat kamit kali bro maksud wts seatpost nitto najis rb fix fixed fnfjb sold broo seatpost specialized alias bawa fullbike specialized ukur rb fix fixed fnfjb wts wheelset fnr h son ws front hub miche pistard rims h son ff ban helios ws rear rims h son eero hub origin fixfix cog roselli  lockring allcity ban cst caldera  jt cash  delivery kalibata fix fixed fnfjb fnfjb alig  pamflet bahasa   omm  trf langsung hehe ajak lik  jajan ditebet om wtb rims h son archtype tb pasang cari  hole utama warna hitam wa fix fixed fnfjb fnfjb  sold om maaf sold terimakasih sold terimakasih ambil mas   mas wts chainring sugino zen  mirror jt nett cash  delivery kalibata fnfjb fix fixed fnfjb   mas wts crankset omnium chainring dura ace  bb gxp chain hkk blue najis cog dura ace  kondisi arm lecet drat aman bb aman langsung wa  jt cash  delivery kalibata fix fixed fnfjb fnfjb  wa bro  mas   mas    mas booked haha  mass maaf mas jual paket  wts crankset omnium chainring duraace  bb gxp minus lecet drat  aman jt nego fix fixed fnfjb fnfjb wts frameset cinelli mash bolt sz seatpost thomson seatclamp thomson bb tange saddle sanmarco ponza hs bawa jt nego cash  delivery kalibata jaksel fix fixed fnfjb fnfjb makasiii wts seatpost miche rb saddle charge bucket rb lokasi kalibata wa fix fixed fnfjb fnfjb pedalset  mas  warna ungu   mas wtt chainring sakra kanta ungu    warna hitam sugino  cubic fix fixed fnfjb fnfjb bro  beli   kali minat brakelevernya   mutil seatpost   mutil ban   bro hahah duraace  campy record   hehe cranknya jual  mutil crank  mas bolt  mas     eh sisa tange levin najis deng rb bro hatta swan  mas wa  bro h son eero kali minat crankset  crank campynya jual mas wtb quillstem nitto pearl mm jaguar budget rb seatpost nitto thomson warna silver budget rb crankset sugino budget wa fix fixed fnfjb fnfjb miche  mas sz   hubnya  bawa campy wa    dituker  diapain om  tubular om campy  om  pict lokasi dmn bro  wa  mash bolt sz wtb dropbar os budget rb fnfjb fix fixed fnfjb  warna hitam h son eero  mas frameset  sz  ambil ban   mas  barter sanmarco ponza minat  bro wts risebar cinelli pepper grip rb  trade  dropbar fnfjb fix fixed fnfjb dropbarnya   mas barset  wtt wheelset fnr h son eero full black hub  origin cog  hub  miche primato mulus cari tukeran fnr full grey silver picture via wa fnfjb fix fixed fnfjb barset    mas nett bro bb  bonus mm mas barang nos crankset bb rb bro bntr  cek wts trackbar najis rb crankset nexus bcd  bb miche rb fix fixed fnfjb   wtb chainring sakra budget rb sugino zen budget jt fnfjb fix fixed wtb crankset sram omnium black sugino budget usaha  mulus wa fnfjb fix fixed     mas barang sepeda  mahal mahal admin magang fullbike  mas frameset   halo twitter mantan sepeda jarang jajan  jual barang sepeda   tau harga pasar   kabar  mudah mudah   sehat  narkoba  sepeda   bro  fi  kabar dunia dah wtb framset pias size budget   angkut  rbjb fnfjb fpjb primafixed cyclistsupply pias nettnya  bro fathinoo sold fs nouvo sporty harga jt nego jakarta rizky   tanah  depok wiracalinputra  laku om  saddle om rizky     toko  rumah    tinggal sisa   toeclip merah toeclip chrome toeclip putih hub novatech sold  sisa toeclip putih dll hidayat alwi fs sadle merk charge new putih hrga rb nego dikit dahhh    bentar batuk ac fnfjb hidayat alwi rear h  h merk mecca praktis efisien hemat  delcont simple   smart buyer daenny seren iya blkng  daenny seren  rb  cog h fs toe clip merk ckc   single   double strap   saddle charge hrga rb rb frasya rb toeclip  strapny    rikobenito iya broo fs sisa   nd  hub novatec l key trckbr dll harga  rb rb ac wa fnfjb hub n thug ramein shayyy   abegeh   speda om huft rikobenito   om  laku hub n thug iya tante wkwk fahmi cuyy   jual aj om butuh duit junicotrian  bangka om jaksel  foto  om wts roadbike frame balap custom c ws alexrims gs speed hrg nego jarang pakai ac fnfjb jual   bantuin temen roadbike frame balap custom c gs shimano sp ws alexrims bawa  pin ac bcycler andangnugroho    jual crank sram omnium  thx wtb crank sram omnium chainring   bawa   kabarin  tengkyuuu fnfjb rbjb wts bianchi infinito sz carbon gs ws fulcrum racing hrg jt nego dikit fnfjb rbjb terimakasih   sale bianchi infinito sz full carbon gs ws fulcrum racing harga jt  tt barter  google bos hehe    siapaaja sms aj bro jarang ol bentar gw tanyain  temen wts roadbike bianchi gs shimano crank seatpost barset fsa ws fulcrum frame carbon full jt fnfjb vickyhanggara sold vickyhanggara os brooo   aditnaufal minat contc langsung aj    thx aditnaufal adaaa riko    banget      bentuk sepatu om wkwkw  sale k uk abenksepeda  sale  sale k k ainunstore harga  ommm hub n thug tutup sat pinguinterbang  masuk  warung jati timur       kanan samping tukang pisang adityaapk jl warung jati timur jak sel pinguinterbang  pinggir jalan samping warung  jual pisang   tutup adityaapk   dropbar  trackbar hub n thug hahaha    satt dewasa dot tk   pilih  k k  os  trackbar nitto pakai bartape minat mbaa zeda cakep zuraydasalim   lie  people  trust     trust people  lie   jalucahyo kosong mas wts trackbar united new std k trackbar nitto os bullhorn std k saddle charge k fnfjb  temen  ngerasa sepeda part sepeda    bengkel  harap  ambil  trimakasih jodyadit pias mirasih alhamdulillah pias sold  berkah hujan heroakkbar  selooowwwww tengkyu   bos afifcozz mantappp  ngasih tau jakarta  panas  bikin panas     duit   halal jual hewan qurban jtan minat    bengkel  mrbaharsah tuker duit  om hehe fixsale tuker duit  om hehe wts pias sz nego frm fork hs bb seatpost sadle turbo fnfjb kali aj ad   bayarin chain stay protector campagnolo biar chain staynya  baret k passs fnfjb anadrepartup yah trackbr kyknya om anadrepartup budget    os merk nitto warna chrome   bartapeny hitam nyeprisss hub n thug hub n thug  ngegasss ommm wkwkw dickynurjaya gw majang motor  tukang pisang samping bengkel sepeda gw      die jual pisang heroakkbar sorry   jual motor  forum sepeda salah usaha gw   bengkel sepeda jual motor  gw butuh dana salah  salah  maaf wakwawww heroakkbar salah dickynurjaya salah  jual nouvo lele pajak mati juni kmaren harga nego dikit spek call invite f ec b fnfjb sallicious  gannn seatpost cinelli vai rebu    minat   jual nouvo surat lengkap stnk warna kuning hrga nego dikiitt kali gitu   minat main nouvo trackbar nitto os warna chrome bartape hitam rebu pias  om size warna black gold frame fork headset seatpost sadle sms  omm fnfjb kevinsyahrulp  tau ukur frame taiwan  om  mah  nanang sms    minat  frameset pias size cahyaadita sold  rafif b  laku om   banget  gw jual murah seatpost cinelli vai rebu  boskuu fnfjb iseng aktifin eh isi timeline  pilpres     politikus jokowow drpd prabowow ciieee politikussss colekdagu wts seatpost cinelli vai rebuu nego dikitttt fnfjb sikluscycling  om hehe trimakasih  smuanya  mendo       smoga     kabul aamiin  robbal alamin skali  trimakasih selamat jalan umi smoga adzan trakhirku  umi   ku  umi  surga allah swt aamiin selamat jalan umi rizkyputraprat nfcrews bks courier aamiin iya om terimakasih  mohon  anya adityaapk aamiin terimakasih  om mhon  anya yayatabenk aamiin  allah terimakasih  om  carnelo nfcrews aamiin trimakasih   nfcrews aamiin  allah trimakasih  mhon    danke hidayat trimakasih  om aamiin  allah maaf om  buka twitter wts cog nd dura ace najis  k nego jual  nouvo lele nego aamiin terimakasih   anya kawan hati  jalan  kayuh kawan maaf bengkel tutup   tau   mohon  anya  sembuh   terimakasih kawan jr rizqinugraha   om gantung     ganti rumah drat bb  evandrmwn abenksepeda bang  benerin drat frame  bb  bayar dahhh wts trackbar nitto os  nego fnfjb binsyechbu f ec b binsyechbu scoopy   om injection  karbu    strafixiegear okee omm refincuks   coba  r bikeshop strafixiegear cek dm chelsea olivia bukhhan maeennn jakartaholic eden hazard abai cedera  chelsea  mending  undang  jakartaholic  bogor boediono  damping wakil menteri agama ho oh irwanneutron undang   asa  tonton   anak    gabut hahaha nananghanafi abenksepeda maksa  deh ahh  senin selasa sabu samis sum  sabtu singgu deket   alpen kali  reggyferian abenksepeda om warung jati deket   lihat lihat   jual nouvo lele pajak hidup jt nego boskuuu  spesifik om taradz abenksepeda    jual seatpost hub  crank merek  az mention yah  gresia rendy sold om derby madrid malam   besok yaaakkk hahaha muke gilee kriotea  situ  bang biar     abenksepeda maaf   klamaan tunggu  rtin maklum paket dwiazrul   aduuuhh reply mention langsung  orang bapaaakkk   semuaaaanyaaahhh maaf   klamaan tunggu  rtin maklum paket abang  abisss kode     bis   wifi  hahaha danke hidayat bocah bocah duit  nadah  orang tua aj gaya   tggi banget     kasih nafkah  orang tua  boskuuu afrianyudha bos  paint kaya    hahaha abenksepeda http    tau pasar harga crank campy record  kondisi mulus cocok  pasang alfandi muharam warung buncit jaksel cukuppp hehe fnfbjm halamadrid abenksepeda  besok  cfd  ban dlmnya bocor  beli bingung beli dmn   bu bu bu butuh untung  besok  cfd  ban dlmnya bocor  beli bingung beli dmn   malam   buka  smbl nonton madrid maksud tinggal angkat polisi masuk jalur bus way  masuk   mata  waspada   polisi  tinggal angkat beres tv ommm kriotea  lihat   acara tv   abenksepeda strikeeeeeeeee ngaceng maniaaa mantaappp    ario adipati     abenksepeda strikeeeeeeeee ngaceng maniaaa mantaappp typo om alifadhilah mancing om mancing hahahah abenksepeda strikeeeeeeeee ngaceng maniaaa mantaappp strikeeeeeeeee ngaceng maniaaa mantaappp  puter  plintir     pompa  turun awww pentilban kuisfnf orzx fixietas fixedandfurious  orang   bengkel   negor  nanya  doi buru  bengkel  jam gin  buka ujan  bowcowr mata  kunjung padam jam  melek  mane  update  situu yahoo com     ayo follow follow biar cepat laku fixedandfurious  suka jual beli part  lupa difollow fnfjb cek favorites   detail  musim penalti  kartu merah kyknya   parah  kmaren     fair madrid       e alhamdulillah sehaaat  sehat sehatin  mbie sehat    bngkl     selamat  yosacil  lepas   perjaka  lupa  rawat  pakai chain lube   ah joki abenk     yosacil betah banget  buka bengkel   bang wkwk abenksepeda kangen bengkel ter aamiin  tetes  arumpratama hahah   pnting cinta takterhingga bang   abenksepeda   rp sya pantesss frame     bengkel saiyah  e finally   pesan saiyah jagwire roadpro completecablekit red http kangen bengkel cinta  habitat    rp syahrialp walaupn    asa    arumpratama  jarak   waduhhh muhammadnovaldi udah ahmdganis balap cinta aiihhhh   obat obatkuat nasehat bijak      kuat  doa alf kapangueikutrace ahmdganis contoh piip udah darah   race  usaha   pakai  tos  mas aril syahrialp wes iya   toss   arumpratama malam  indah oh nabrak    contactnya si rio bentar  ketemu  sampein ilalbilal abenksepeda sob anak abenk  nabrak sepeda ujan kucing   ujan  kluar alias ngumpet  oraaaangggg bengkeljdsepi wts boskuuu stem ritchey pro mm os nego fnfjb terimakasih jual   boskuuu kliping alias roda samping  anak    jatuh sore   jual sepeda  ariaous abenksepeda wkwk mabok chain lube   ngelepasnya gerymv hehe keren om spatunya  om bang  grip oury  yahh oury    kau   bangku bagus  gerymv shoes specialized road new size lengkap k nego banget fixedandfurious fnfsolo fixiesolo surakatrack  ngelepas dahaga   ariaous abenksepeda bro  abenkspd  ngelepas chainring   fixietas iya sihhh  salat jum    bikin ganteng   dah  manfaats'"
      ]
     },
     "execution_count": 34,
     "metadata": {},
     "output_type": "execute_result"
    }
   ],
   "source": [
    "data['Tweet_Parsed7'].loc[1]"
   ]
  },
  {
   "cell_type": "code",
   "execution_count": 35,
   "metadata": {},
   "outputs": [
    {
     "data": {
      "text/plain": [
       "'throwback bro fork alpina jual insolenya mas posindonesia tolong layan telfon call center status paket kantor pos pusat lap banteng telfon kali angkat gilir kesana tau paket jalan cek resi status ubah ubah release customs nett om free ongkir jabodetabek hole mas rb mks sylvan ckc strap vp mas mas ws suka pevita ah bernie sender wts barang pakai wheelset mavic ellipse inc ban jt pedalset mks royal nuevo starfuckers strap sag rb crankset miche jt harga nett kecuali crank nego dikit cash delivery pasar minggu sentul cibinong makasihh fnfjb bcpasarbaru bravobeacukai min resi rv cn proses terimakasih - gilir b w diribetin kaya min cek dm hehe chainstay fork top tube sticker wadaawww banget harga bikin decal giro najis bro bb sugino najis mm minus dust cover rb fnfjb hahaha min cek dm crank ota sold fnfjb iya kadang pakai flazz knalpot mio mberrr ready pras uler uler gabakal ubah wts bb sg najis rb crank miche mm jt crank otayava bcd mm rb pedalset mks ckc strap vp rb minus pedal kiri tutup rolf vigor ban ganti jt cog bawa aventon rb cod direct trf free ongkir p jawa fnfjb clan aditya adhitia sofyan jamie aditya adityalogy teddy adhitya pas malem malam muhasabah mas thread bro -lebihin serius mba pas pindah rumah timpuk batu setan langsung mas titip kaya coba kasi tau kaya paham kadang jco nukerin duit breadtalk awww kuat army bts navy seal salah nafsu tau banget iya anggota dpr ajak ketemu ava foto idolnya bikin konten sodara bang bang adiarta seru lihat wibu macho sd besok ninja warrior adain mrt fear factor bang ninja warrior mantap bang situ gadapet hadiah pegang mic laku menit iklan muncul bogor mas cash delivery ps minggu harga pas mas hehe allcity tuker cog miche om chainring maksud orang habis putus beda agama bijak bagus deh wts pedalset mks ckc strap vp rb minus tutup pedal kiri lihat pict crank otayava bcd rb chainring viva arm mm crank miche bcd jt arm mm bb kotak dura ace najis bb sg najis rb rb pict susul cash delivery kirim oke dm fnfjb aww mlu banget banget bahaya laten pki salah alig brooo mas mending maksain ati bang army bts soeharto anti kritik mas yao ming bajaj atepnya mesti buka dipake orang bang mamah jemput kiki kiki makan nyamuk mba ngapain ribet opini panca lucu yaudah dipaksain mba bilang selera orang beda ws mas murah banget iniii ngurang barang om hehe ambil ws front mas wts crank ota yava bcd rb nett fnfjb hi sold juragan ambil ws front mas nanya om wsnya pakai hub bahaya haram beda mba stnk gapernah kena pungli bikin surat terang catat polisi aman pungli bikin sim gitu deh mantap bang anak subscriber kalimat profesi prestisius wkwk thread si korban hotel cepe om tv mas perempuan nyata kontras laki laki ngelanggar sepakat perempuan mudah banget percaya orang banget kenal bj hj oral salah mba iya langsung dengar lagu opik yah udah foreplay tuju foreplay gamenjurus arah biar mudah kerja biar awet muda biar akrab om duit om pacu adrenalin om mm wts barang pakai bb tange beli minggu rb barset stem zipp flatbar xlr rb pedalset mks ckc allcity rb pedalset vp rb cog aventon rb front rolf vigor jt man fnfjb wa om bales go green cup takut bernii broadcast kaya edar group alumni desember yudha keling versi putih dikit waduuuhh maaf mas sold os om om bentar belah jodoh hehe wts pedalset mks ckc strap allcity minus pedal belah kiri tutup rb nett fnfjb kelas lewis hamilton tes sim gabakal dilulusin jalur normal ulang x nettnya mas juta masuk mas cari cog kaya gitu mas pasang rear bro om wts barset stem zipp service course mm flatbar xlr grip rb nett fnfjb wts rear wheelset velocity b hole mulus hub soma cog miche ban cst rb nett fnfjb suruh temennya buatin gratis goblok wts frameset tsunami snm include bb hs minggu beli box nego tipis terimakasih fnfjb berni berni walikotanya mas ahli tata gubernur fyi custom mas vigornya jual mas aminn risih kecuali temen deket deh frameset mas mas mas lihat parah makan roti bakar cowonya ngobel cewenya laku pindah ngevideoin diem kaya elah depresi main media sosial depresi blog mah caper blb track minat mas waterbase rebus mabuk banget tau mabuk asmara hehe dipermasalahin bagus tanda kaya gitu pejal kaki sepeda lihat tanda larang lintas yaudah ikutin ribet jalur iye iye blb track sz kasi lihat mata mas biar tonton habis bandingin nonton mas bandingin mci hed jet minat mas cctv bang edwinnmuhammad win ori bang front hed jet minat oury bang warna merah mas wa square taper mas blb track minat punten bahas lenceng dura ace minat mas mm kaya film anaconda ngeri banget fork bawa bro wts blb track sz inc hs seatpost bb jt cash delivery ps minggu sentul fnfjb poin huruf e baca mba mas frame fork hs sc bb tange seatpost mas blb track minat mas sz dewa habis lihat niat ganti judul lagu elang trade front hed jet kali minat mas silinder hati serang coba rusa uang jamin disave gasuka dijakarta kampung oren tinggal barang negara min betrand peto tua betrand gepeto video asli kaya nyanyi ruben pakai hijab esther jago gambar kakak dalang dulunya vj mtv gratis nama tol ol wkwk titik kadarsih lupa jam karaoke pabrik donor sel telur salah mba bela maaf gitu mas tau puber bawa bego ih tolol ih anak pungut flite kulit recaro juragan suami goblok minum ellipsenya gamau jual mas hed ambil bayarin win ntuhh prass wa mas mutil crank pedalset mutil crank om nettnya bb wa cari jt mas terimakasih nawarin hehe mas wtb crankset miche primato sugino fnfjb include mas frame fork hs mas kali kasih bro wa crank omnium juragan wtb fs pias sz wa fnfjb nego lacur mah ngomong st lt high land mas hs home schooling kenko jelek om bagus pentle kaya buka donasi buka donasi bayar orang biar pns yahh difolback mba playing diam tahan banjir om dikit musim hujan hahaha flatbarnya om sjw suka job wawancara stem sisa tawar fnfjb wtb stem thomson x budget pedalset doublestrap budget crankset omnium hitam budget jt saddle selle flite budget fnfjb fsnya om nyata sinetron azab indo masuk akal om frutang pleset bang campur kue cubit enak kakak greenteaaaa dota om framesetnya ajo kaya abang duraace najis kiri chainring sugino aeromighty wa hakim belah kaya tahan ketawa wkwk komedi engga mba wsnya om vivalo minat bacottt dublingdore kepala sekolah harry potter ok min terimakasih mas mas pakai vpn nis biar buka pornhub bacottttt sold mas suka toeclipnya mas stemnya mas wts crankset dura ace fc njs arm mm arm sugino zen nett arm sugino aeromighty nett cash delivery kalibata fnfjb wheelset hson archtype h fronthub campy record rearhub philwood cog jt nett cash delivery kalibata fnfjb nomernya wa mas hahaha tuker hexohm ok tampung ambil mas wts crankset duraace fc najis arm mm arm sugino zen jt arm sugino aeromighty drat aman cash delivery kalibata direct trf fnfjb nego nego aerohead x miche cog eightinch nego cash delivery kalibata kirim direct trf fnfjb maaf om salah mas hson archtype rearhub phil fronthub campy record chainring mas sold mas sisa saddle mm mas ws mutil mas mas maaf mas hehe hson archtype rearhub phil fronthub campy record ban helios vera shimano sz cleat dus dll lengkap part nego nett sp thomson kashimax nitto pearl najis rb crankset da najis sugino zen barset qs deda nera rb duraace najis aeromighty jt pedalset mks nuevo najis rb aerohead miche ban fnfjb cash delivery kalibata kirim mas deh bro besok cash delivery minus line jakarta wtb crank arm omnium budget wtb frameset parallax budget jt tawar fnfjb fs jt fs jt armnya iya repaint jt mas hehe kirain turun hehe wa dl om maaf om toko tutup rumah tanah fb mas om pearl najis nitto shredbar sz bro nego om wa bro kalibata bro nitto shredbar nitto pearl najis om kali minat mas arm dura ace chainring zen juta mas thomson beli minggu kemarin lengkap sarung dll nett sugino zen arm dura ace najis mks nuevo najis strap mks fit najis toeclip mks fullbike kiyo najis mutil set fnfjb wts sepatu cleat shimano nominus mulus sz cm bonus cleat lace box dll lengkap rb nett cash delivery kalibata ditest gamuat dipaksain beli fnfjb kali minat fullbike om bar tbg prabowo cocok gantiin dolphino trans anak kelak bar udah buang min barang minggu kaya bukti resi fisik buang bukabantuan min tolong transaksi dana lapak beli dm harga bro wtb seatpost thomson warna silver cari second tawarin fnfjb bracket rem bro kali minat kiyo najis rumah faris bar bro ayo fnfjb ambil fullbike titik top tube mas ok broo nego mas bb sugino njs headset hatta kiyo najis kali minat harga mas fnfjb nego silah ajar film dil iqbal dil film cinta gombal ovj koko mukena gemulai bayarin yos ganti die fnfjb wts fullbike kiyo najis barset nitto shredbar pearl najis saddle fivegold stpost najis crankset duraace sugino zen ws hson archtype hub phil campy pedalset mks nuevo mks fit frameset kiyo bbsg hs hatta brakeset jt wa fnfjb fix fixed bro fnfjb best price wts wtt cassete sram pg speed cari barter jual rb nego fnfjb fix fixed mas zaky lulus itb ilmu juang eh ngebandinginnya wajar politik hehe huhh chainringnya trade om samping kiri pedal bracket rem bro fnfjb bro mutil shotlevernya bro umat kamit kali bro maksud wts seatpost nitto najis rb fix fixed fnfjb sold broo seatpost specialized alias bawa fullbike specialized ukur rb fix fixed fnfjb wts wheelset fnr h son ws front hub miche pistard rims h son ff ban helios ws rear rims h son eero hub origin fixfix cog roselli lockring allcity ban cst caldera jt cash delivery kalibata fix fixed fnfjb fnfjb alig pamflet bahasa omm trf langsung hehe ajak lik jajan ditebet om wtb rims h son archtype tb pasang cari hole utama warna hitam wa fix fixed fnfjb fnfjb sold om maaf sold terimakasih sold terimakasih ambil mas mas wts chainring sugino zen mirror jt nett cash delivery kalibata fnfjb fix fixed fnfjb mas wts crankset omnium chainring dura ace bb gxp chain hkk blue najis cog dura ace kondisi arm lecet drat aman bb aman langsung wa jt cash delivery kalibata fix fixed fnfjb fnfjb wa bro mas mas mas booked haha mass maaf mas jual paket wts crankset omnium chainring duraace bb gxp minus lecet drat aman jt nego fix fixed fnfjb fnfjb wts frameset cinelli mash bolt sz seatpost thomson seatclamp thomson bb tange saddle sanmarco ponza hs bawa jt nego cash delivery kalibata jaksel fix fixed fnfjb fnfjb makasiii wts seatpost miche rb saddle charge bucket rb lokasi kalibata wa fix fixed fnfjb fnfjb pedalset mas warna ungu mas wtt chainring sakra kanta ungu warna hitam sugino cubic fix fixed fnfjb fnfjb bro beli kali minat brakelevernya mutil seatpost mutil ban bro hahah duraace campy record hehe cranknya jual mutil crank mas bolt mas eh sisa tange levin najis deng rb bro hatta swan mas wa bro h son eero kali minat crankset crank campynya jual mas wtb quillstem nitto pearl mm jaguar budget rb seatpost nitto thomson warna silver budget rb crankset sugino budget wa fix fixed fnfjb fnfjb miche mas sz hubnya bawa campy wa dituker diapain om tubular om campy om pict lokasi dmn bro wa mash bolt sz wtb dropbar os budget rb fnfjb fix fixed fnfjb warna hitam h son eero mas frameset sz ambil ban mas barter sanmarco ponza minat bro wts risebar cinelli pepper grip rb trade dropbar fnfjb fix fixed fnfjb dropbarnya mas barset wtt wheelset fnr h son eero full black hub origin cog hub miche primato mulus cari tukeran fnr full grey silver picture via wa fnfjb fix fixed fnfjb barset mas nett bro bb bonus mm mas barang nos crankset bb rb bro bntr cek wts trackbar najis rb crankset nexus bcd bb miche rb fix fixed fnfjb wtb chainring sakra budget rb sugino zen budget jt fnfjb fix fixed wtb crankset sram omnium black sugino budget usaha mulus wa fnfjb fix fixed mas barang sepeda mahal mahal admin magang fullbike mas frameset halo twitter mantan sepeda jarang jajan jual barang sepeda tau harga pasar kabar mudah mudah sehat narkoba sepeda bro fi kabar dunia dah wtb framset pias size budget angkut rbjb fnfjb fpjb primafixed cyclistsupply pias nettnya bro fathinoo sold fs nouvo sporty harga jt nego jakarta rizky tanah depok wiracalinputra laku om saddle om rizky toko rumah tinggal sisa toeclip merah toeclip chrome toeclip putih hub novatech sold sisa toeclip putih dll hidayat alwi fs sadle merk charge new putih hrga rb nego dikit dahhh bentar batuk ac fnfjb hidayat alwi rear h h merk mecca praktis efisien hemat delcont simple smart buyer daenny seren iya blkng daenny seren rb cog h fs toe clip merk ckc single double strap saddle charge hrga rb rb frasya rb toeclip strapny rikobenito iya broo fs sisa nd hub novatec l key trckbr dll harga rb rb ac wa fnfjb hub n thug ramein shayyy abegeh speda om huft rikobenito om laku hub n thug iya tante wkwk fahmi cuyy jual aj om butuh duit junicotrian bangka om jaksel foto om wts roadbike frame balap custom c ws alexrims gs speed hrg nego jarang pakai ac fnfjb jual bantuin temen roadbike frame balap custom c gs shimano sp ws alexrims bawa pin ac bcycler andangnugroho jual crank sram omnium thx wtb crank sram omnium chainring bawa kabarin tengkyuuu fnfjb rbjb wts bianchi infinito sz carbon gs ws fulcrum racing hrg jt nego dikit fnfjb rbjb terimakasih sale bianchi infinito sz full carbon gs ws fulcrum racing harga jt tt barter google bos hehe siapaaja sms aj bro jarang ol bentar gw tanyain temen wts roadbike bianchi gs shimano crank seatpost barset fsa ws fulcrum frame carbon full jt fnfjb vickyhanggara sold vickyhanggara os brooo aditnaufal minat contc langsung aj thx aditnaufal adaaa riko banget bentuk sepatu om wkwkw sale k uk abenksepeda sale sale k k ainunstore harga ommm hub n thug tutup sat pinguinterbang masuk warung jati timur kanan samping tukang pisang adityaapk jl warung jati timur jak sel pinguinterbang pinggir jalan samping warung jual pisang tutup adityaapk dropbar trackbar hub n thug hahaha satt dewasa dot tk pilih k k os trackbar nitto pakai bartape minat mbaa zeda cakep zuraydasalim lie people trust trust people lie jalucahyo kosong mas wts trackbar united new std k trackbar nitto os bullhorn std k saddle charge k fnfjb temen ngerasa sepeda part sepeda bengkel harap ambil trimakasih jodyadit pias mirasih alhamdulillah pias sold berkah hujan heroakkbar selooowwwww tengkyu bos afifcozz mantappp ngasih tau jakarta panas bikin panas duit halal jual hewan qurban jtan minat bengkel mrbaharsah tuker duit om hehe fixsale tuker duit om hehe wts pias sz nego frm fork hs bb seatpost sadle turbo fnfjb kali aj ad bayarin chain stay protector campagnolo biar chain staynya baret k passs fnfjb anadrepartup yah trackbr kyknya om anadrepartup budget os merk nitto warna chrome bartapeny hitam nyeprisss hub n thug hub n thug ngegasss ommm wkwkw dickynurjaya gw majang motor tukang pisang samping bengkel sepeda gw die jual pisang heroakkbar sorry jual motor forum sepeda salah usaha gw bengkel sepeda jual motor gw butuh dana salah salah maaf wakwawww heroakkbar salah dickynurjaya salah jual nouvo lele pajak mati juni kmaren harga nego dikit spek call invite f ec b fnfjb sallicious gannn seatpost cinelli vai rebu minat jual nouvo surat lengkap stnk warna kuning hrga nego dikiitt kali gitu minat main nouvo trackbar nitto os warna chrome bartape hitam rebu pias om size warna black gold frame fork headset seatpost sadle sms omm fnfjb kevinsyahrulp tau ukur frame taiwan om mah nanang sms minat frameset pias size cahyaadita sold rafif b laku om banget gw jual murah seatpost cinelli vai rebu boskuu fnfjb iseng aktifin eh isi timeline pilpres politikus jokowow drpd prabowow ciieee politikussss colekdagu wts seatpost cinelli vai rebuu nego dikitttt fnfjb sikluscycling om hehe trimakasih smuanya mendo smoga kabul aamiin robbal alamin skali trimakasih selamat jalan umi smoga adzan trakhirku umi ku umi surga allah swt aamiin selamat jalan umi rizkyputraprat nfcrews bks courier aamiin iya om terimakasih mohon anya adityaapk aamiin terimakasih om mhon anya yayatabenk aamiin allah terimakasih om carnelo nfcrews aamiin trimakasih nfcrews aamiin allah trimakasih mhon danke hidayat trimakasih om aamiin allah maaf om buka twitter wts cog nd dura ace najis k nego jual nouvo lele nego aamiin terimakasih anya kawan hati jalan kayuh kawan maaf bengkel tutup tau mohon anya sembuh terimakasih kawan jr rizqinugraha om gantung ganti rumah drat bb evandrmwn abenksepeda bang benerin drat frame bb bayar dahhh wts trackbar nitto os nego fnfjb binsyechbu f ec b binsyechbu scoopy om injection karbu strafixiegear okee omm refincuks coba r bikeshop strafixiegear cek dm chelsea olivia bukhhan maeennn jakartaholic eden hazard abai cedera chelsea mending undang jakartaholic bogor boediono damping wakil menteri agama ho oh irwanneutron undang asa tonton anak gabut hahaha nananghanafi abenksepeda maksa deh ahh senin selasa sabu samis sum sabtu singgu deket alpen kali reggyferian abenksepeda om warung jati deket lihat lihat jual nouvo lele pajak hidup jt nego boskuuu spesifik om taradz abenksepeda jual seatpost hub crank merek az mention yah gresia rendy sold om derby madrid malam besok yaaakkk hahaha muke gilee kriotea situ bang biar abenksepeda maaf klamaan tunggu rtin maklum paket dwiazrul aduuuhh reply mention langsung orang bapaaakkk semuaaaanyaaahhh maaf klamaan tunggu rtin maklum paket abang abisss kode bis wifi hahaha danke hidayat bocah bocah duit nadah orang tua aj gaya tggi banget kasih nafkah orang tua boskuuu afrianyudha bos paint kaya hahaha abenksepeda http tau pasar harga crank campy record kondisi mulus cocok pasang alfandi muharam warung buncit jaksel cukuppp hehe fnfbjm halamadrid abenksepeda besok cfd ban dlmnya bocor beli bingung beli dmn bu bu bu butuh untung besok cfd ban dlmnya bocor beli bingung beli dmn malam buka smbl nonton madrid maksud tinggal angkat polisi masuk jalur bus way masuk mata waspada polisi tinggal angkat beres tv ommm kriotea lihat acara tv abenksepeda strikeeeeeeeee ngaceng maniaaa mantaappp ario adipati abenksepeda strikeeeeeeeee ngaceng maniaaa mantaappp typo om alifadhilah mancing om mancing hahahah abenksepeda strikeeeeeeeee ngaceng maniaaa mantaappp strikeeeeeeeee ngaceng maniaaa mantaappp puter plintir pompa turun awww pentilban kuisfnf orzx fixietas fixedandfurious orang bengkel negor nanya doi buru bengkel jam gin buka ujan bowcowr mata kunjung padam jam melek mane update situu yahoo com ayo follow follow biar cepat laku fixedandfurious suka jual beli part lupa difollow fnfjb cek favorites detail musim penalti kartu merah kyknya parah kmaren fair madrid e alhamdulillah sehaaat sehat sehatin mbie sehat bngkl selamat yosacil lepas perjaka lupa rawat pakai chain lube ah joki abenk yosacil betah banget buka bengkel bang wkwk abenksepeda kangen bengkel ter aamiin tetes arumpratama hahah pnting cinta takterhingga bang abenksepeda rp sya pantesss frame bengkel saiyah e finally pesan saiyah jagwire roadpro completecablekit red http kangen bengkel cinta habitat rp syahrialp walaupn asa arumpratama jarak waduhhh muhammadnovaldi udah ahmdganis balap cinta aiihhhh obat obatkuat nasehat bijak kuat doa alf kapangueikutrace ahmdganis contoh piip udah darah race usaha pakai tos mas aril syahrialp wes iya toss arumpratama malam indah oh nabrak contactnya si rio bentar ketemu sampein ilalbilal abenksepeda sob anak abenk nabrak sepeda ujan kucing ujan kluar alias ngumpet oraaaangggg bengkeljdsepi wts boskuuu stem ritchey pro mm os nego fnfjb terimakasih jual boskuuu kliping alias roda samping anak jatuh sore jual sepeda ariaous abenksepeda wkwk mabok chain lube ngelepasnya gerymv hehe keren om spatunya om bang grip oury yahh oury kau bangku bagus gerymv shoes specialized road new size lengkap k nego banget fixedandfurious fnfsolo fixiesolo surakatrack ngelepas dahaga ariaous abenksepeda bro abenkspd ngelepas chainring fixietas iya sihhh salat jum bikin ganteng dah manfaats'"
      ]
     },
     "execution_count": 35,
     "metadata": {},
     "output_type": "execute_result"
    }
   ],
   "source": [
    "data['Tweet_Parsed8'].loc[1]"
   ]
  },
  {
   "cell_type": "markdown",
   "metadata": {},
   "source": [
    "## Fixing Data "
   ]
  },
  {
   "cell_type": "code",
   "execution_count": 36,
   "metadata": {},
   "outputs": [],
   "source": [
    "def fixingdata(data):\n",
    "    datafix = data.drop(['Tweet_Parsed1', 'Tweet_Parsed2','Tweet_Parsed3','Tweet_Parsed4','Tweet_Parsed5', 'Tweet_Parsed6', 'Tweet_Parsed7'],axis=1)\n",
    "    datafix = datafix.rename(columns={'Tweet_Parsed8': 'Tweet_Parsed'})\n",
    "    return datafix"
   ]
  },
  {
   "cell_type": "code",
   "execution_count": 37,
   "metadata": {},
   "outputs": [],
   "source": [
    "data = fixingdata(data)"
   ]
  },
  {
   "cell_type": "code",
   "execution_count": 38,
   "metadata": {},
   "outputs": [
    {
     "data": {
      "text/html": [
       "<div>\n",
       "<style scoped>\n",
       "    .dataframe tbody tr th:only-of-type {\n",
       "        vertical-align: middle;\n",
       "    }\n",
       "\n",
       "    .dataframe tbody tr th {\n",
       "        vertical-align: top;\n",
       "    }\n",
       "\n",
       "    .dataframe thead th {\n",
       "        text-align: right;\n",
       "    }\n",
       "</style>\n",
       "<table border=\"1\" class=\"dataframe\">\n",
       "  <thead>\n",
       "    <tr style=\"text-align: right;\">\n",
       "      <th></th>\n",
       "      <th>Akun Twitter</th>\n",
       "      <th>Tweet</th>\n",
       "      <th>MBTI</th>\n",
       "      <th>Temp</th>\n",
       "      <th>Following</th>\n",
       "      <th>Followers</th>\n",
       "      <th>Jumlah tweet</th>\n",
       "      <th>introvert</th>\n",
       "      <th>extrovert</th>\n",
       "      <th>sensing</th>\n",
       "      <th>intuitive</th>\n",
       "      <th>feeling</th>\n",
       "      <th>thinking</th>\n",
       "      <th>judging</th>\n",
       "      <th>perceiving</th>\n",
       "      <th>Tweet_Parsed</th>\n",
       "    </tr>\n",
       "  </thead>\n",
       "  <tbody>\n",
       "    <tr>\n",
       "      <th>0</th>\n",
       "      <td>Abdurrachman181</td>\n",
       "      <td>Bisa aje bapak wkwkwkwk. Yuk pak kayaknya ini...</td>\n",
       "      <td>ESFP</td>\n",
       "      <td>Melankolis</td>\n",
       "      <td>396</td>\n",
       "      <td>356</td>\n",
       "      <td>15500</td>\n",
       "      <td>0</td>\n",
       "      <td>1</td>\n",
       "      <td>1</td>\n",
       "      <td>0</td>\n",
       "      <td>1</td>\n",
       "      <td>0</td>\n",
       "      <td>0</td>\n",
       "      <td>1</td>\n",
       "      <td>wkwk ayo kayak hijrah klub chelsea buka tangan...</td>\n",
       "    </tr>\n",
       "    <tr>\n",
       "      <th>1</th>\n",
       "      <td>abenksepeda</td>\n",
       "      <td>Throwback pic.twitter.com/IxDTb7zydF Bro fork...</td>\n",
       "      <td>ISTJ</td>\n",
       "      <td>Koleris</td>\n",
       "      <td>164</td>\n",
       "      <td>835</td>\n",
       "      <td>3277</td>\n",
       "      <td>1</td>\n",
       "      <td>0</td>\n",
       "      <td>1</td>\n",
       "      <td>0</td>\n",
       "      <td>0</td>\n",
       "      <td>1</td>\n",
       "      <td>1</td>\n",
       "      <td>0</td>\n",
       "      <td>throwback bro fork alpina jual insolenya mas p...</td>\n",
       "    </tr>\n",
       "    <tr>\n",
       "      <th>2</th>\n",
       "      <td>admiralabdullah</td>\n",
       "      <td>MonKaS https://www.cnnindonesia.com/ekonomi/2...</td>\n",
       "      <td>ESTP</td>\n",
       "      <td>Sanguinis</td>\n",
       "      <td>314</td>\n",
       "      <td>315</td>\n",
       "      <td>842</td>\n",
       "      <td>0</td>\n",
       "      <td>1</td>\n",
       "      <td>1</td>\n",
       "      <td>0</td>\n",
       "      <td>0</td>\n",
       "      <td>1</td>\n",
       "      <td>0</td>\n",
       "      <td>1</td>\n",
       "      <td>monkas outstanding move - pepeg grammar minum ...</td>\n",
       "    </tr>\n",
       "    <tr>\n",
       "      <th>3</th>\n",
       "      <td>alyasuwandi</td>\n",
       "      <td>Semoga Allah segera menyatukn langkahku &amp; lan...</td>\n",
       "      <td>ENFP</td>\n",
       "      <td>Sanguinis</td>\n",
       "      <td>809</td>\n",
       "      <td>221</td>\n",
       "      <td>95</td>\n",
       "      <td>0</td>\n",
       "      <td>1</td>\n",
       "      <td>0</td>\n",
       "      <td>1</td>\n",
       "      <td>1</td>\n",
       "      <td>0</td>\n",
       "      <td>0</td>\n",
       "      <td>1</td>\n",
       "      <td>moga allah langkah langkah iring aamiin robbi ...</td>\n",
       "    </tr>\n",
       "    <tr>\n",
       "      <th>4</th>\n",
       "      <td>amaliaaaptr</td>\n",
       "      <td>Aww syg bgt ðŸ–¤ Besok tgl 15 kak, kn hr ini ...</td>\n",
       "      <td>ISFP</td>\n",
       "      <td>Melankolis</td>\n",
       "      <td>158</td>\n",
       "      <td>61</td>\n",
       "      <td>371</td>\n",
       "      <td>1</td>\n",
       "      <td>0</td>\n",
       "      <td>1</td>\n",
       "      <td>0</td>\n",
       "      <td>1</td>\n",
       "      <td>0</td>\n",
       "      <td>0</td>\n",
       "      <td>1</td>\n",
       "      <td>aww syg banget besok tanggal kakak kn hr valen...</td>\n",
       "    </tr>\n",
       "  </tbody>\n",
       "</table>\n",
       "</div>"
      ],
      "text/plain": [
       "      Akun Twitter                                              Tweet  MBTI  \\\n",
       "0  Abdurrachman181   Bisa aje bapak wkwkwkwk. Yuk pak kayaknya ini...  ESFP   \n",
       "1      abenksepeda   Throwback pic.twitter.com/IxDTb7zydF Bro fork...  ISTJ   \n",
       "2  admiralabdullah   MonKaS https://www.cnnindonesia.com/ekonomi/2...  ESTP   \n",
       "3      alyasuwandi   Semoga Allah segera menyatukn langkahku & lan...  ENFP   \n",
       "4      amaliaaaptr   Aww syg bgt ðŸ–¤ Besok tgl 15 kak, kn hr ini ...  ISFP   \n",
       "\n",
       "         Temp  Following  Followers  Jumlah tweet  introvert  extrovert  \\\n",
       "0  Melankolis        396        356         15500          0          1   \n",
       "1     Koleris        164        835          3277          1          0   \n",
       "2   Sanguinis        314        315           842          0          1   \n",
       "3   Sanguinis        809        221            95          0          1   \n",
       "4  Melankolis        158         61           371          1          0   \n",
       "\n",
       "   sensing  intuitive  feeling  thinking  judging  perceiving  \\\n",
       "0        1          0        1         0        0           1   \n",
       "1        1          0        0         1        1           0   \n",
       "2        1          0        0         1        0           1   \n",
       "3        0          1        1         0        0           1   \n",
       "4        1          0        1         0        0           1   \n",
       "\n",
       "                                        Tweet_Parsed  \n",
       "0  wkwk ayo kayak hijrah klub chelsea buka tangan...  \n",
       "1  throwback bro fork alpina jual insolenya mas p...  \n",
       "2  monkas outstanding move - pepeg grammar minum ...  \n",
       "3  moga allah langkah langkah iring aamiin robbi ...  \n",
       "4  aww syg banget besok tanggal kakak kn hr valen...  "
      ]
     },
     "execution_count": 38,
     "metadata": {},
     "output_type": "execute_result"
    }
   ],
   "source": [
    "data.head()"
   ]
  },
  {
   "cell_type": "markdown",
   "metadata": {},
   "source": [
    "## Handle Empty String "
   ]
  },
  {
   "cell_type": "code",
   "execution_count": 39,
   "metadata": {},
   "outputs": [],
   "source": [
    "def emptystring(data):\n",
    "    data.loc[data['Tweet_Parsed'] == '', ['Tweet_Parsed']] = \" \"\n",
    "    return data"
   ]
  },
  {
   "cell_type": "code",
   "execution_count": 40,
   "metadata": {},
   "outputs": [],
   "source": [
    "data = emptystring(data)"
   ]
  },
  {
   "cell_type": "code",
   "execution_count": 41,
   "metadata": {},
   "outputs": [
    {
     "data": {
      "text/html": [
       "<div>\n",
       "<style scoped>\n",
       "    .dataframe tbody tr th:only-of-type {\n",
       "        vertical-align: middle;\n",
       "    }\n",
       "\n",
       "    .dataframe tbody tr th {\n",
       "        vertical-align: top;\n",
       "    }\n",
       "\n",
       "    .dataframe thead th {\n",
       "        text-align: right;\n",
       "    }\n",
       "</style>\n",
       "<table border=\"1\" class=\"dataframe\">\n",
       "  <thead>\n",
       "    <tr style=\"text-align: right;\">\n",
       "      <th></th>\n",
       "      <th>Akun Twitter</th>\n",
       "      <th>Tweet</th>\n",
       "      <th>MBTI</th>\n",
       "      <th>Temp</th>\n",
       "      <th>Following</th>\n",
       "      <th>Followers</th>\n",
       "      <th>Jumlah tweet</th>\n",
       "      <th>introvert</th>\n",
       "      <th>extrovert</th>\n",
       "      <th>sensing</th>\n",
       "      <th>intuitive</th>\n",
       "      <th>feeling</th>\n",
       "      <th>thinking</th>\n",
       "      <th>judging</th>\n",
       "      <th>perceiving</th>\n",
       "      <th>Tweet_Parsed</th>\n",
       "    </tr>\n",
       "  </thead>\n",
       "  <tbody>\n",
       "    <tr>\n",
       "      <th>0</th>\n",
       "      <td>Abdurrachman181</td>\n",
       "      <td>Bisa aje bapak wkwkwkwk. Yuk pak kayaknya ini...</td>\n",
       "      <td>ESFP</td>\n",
       "      <td>Melankolis</td>\n",
       "      <td>396</td>\n",
       "      <td>356</td>\n",
       "      <td>15500</td>\n",
       "      <td>0</td>\n",
       "      <td>1</td>\n",
       "      <td>1</td>\n",
       "      <td>0</td>\n",
       "      <td>1</td>\n",
       "      <td>0</td>\n",
       "      <td>0</td>\n",
       "      <td>1</td>\n",
       "      <td>wkwk ayo kayak hijrah klub chelsea buka tangan...</td>\n",
       "    </tr>\n",
       "    <tr>\n",
       "      <th>1</th>\n",
       "      <td>abenksepeda</td>\n",
       "      <td>Throwback pic.twitter.com/IxDTb7zydF Bro fork...</td>\n",
       "      <td>ISTJ</td>\n",
       "      <td>Koleris</td>\n",
       "      <td>164</td>\n",
       "      <td>835</td>\n",
       "      <td>3277</td>\n",
       "      <td>1</td>\n",
       "      <td>0</td>\n",
       "      <td>1</td>\n",
       "      <td>0</td>\n",
       "      <td>0</td>\n",
       "      <td>1</td>\n",
       "      <td>1</td>\n",
       "      <td>0</td>\n",
       "      <td>throwback bro fork alpina jual insolenya mas p...</td>\n",
       "    </tr>\n",
       "    <tr>\n",
       "      <th>2</th>\n",
       "      <td>admiralabdullah</td>\n",
       "      <td>MonKaS https://www.cnnindonesia.com/ekonomi/2...</td>\n",
       "      <td>ESTP</td>\n",
       "      <td>Sanguinis</td>\n",
       "      <td>314</td>\n",
       "      <td>315</td>\n",
       "      <td>842</td>\n",
       "      <td>0</td>\n",
       "      <td>1</td>\n",
       "      <td>1</td>\n",
       "      <td>0</td>\n",
       "      <td>0</td>\n",
       "      <td>1</td>\n",
       "      <td>0</td>\n",
       "      <td>1</td>\n",
       "      <td>monkas outstanding move - pepeg grammar minum ...</td>\n",
       "    </tr>\n",
       "    <tr>\n",
       "      <th>3</th>\n",
       "      <td>alyasuwandi</td>\n",
       "      <td>Semoga Allah segera menyatukn langkahku &amp; lan...</td>\n",
       "      <td>ENFP</td>\n",
       "      <td>Sanguinis</td>\n",
       "      <td>809</td>\n",
       "      <td>221</td>\n",
       "      <td>95</td>\n",
       "      <td>0</td>\n",
       "      <td>1</td>\n",
       "      <td>0</td>\n",
       "      <td>1</td>\n",
       "      <td>1</td>\n",
       "      <td>0</td>\n",
       "      <td>0</td>\n",
       "      <td>1</td>\n",
       "      <td>moga allah langkah langkah iring aamiin robbi ...</td>\n",
       "    </tr>\n",
       "    <tr>\n",
       "      <th>4</th>\n",
       "      <td>amaliaaaptr</td>\n",
       "      <td>Aww syg bgt ðŸ–¤ Besok tgl 15 kak, kn hr ini ...</td>\n",
       "      <td>ISFP</td>\n",
       "      <td>Melankolis</td>\n",
       "      <td>158</td>\n",
       "      <td>61</td>\n",
       "      <td>371</td>\n",
       "      <td>1</td>\n",
       "      <td>0</td>\n",
       "      <td>1</td>\n",
       "      <td>0</td>\n",
       "      <td>1</td>\n",
       "      <td>0</td>\n",
       "      <td>0</td>\n",
       "      <td>1</td>\n",
       "      <td>aww syg banget besok tanggal kakak kn hr valen...</td>\n",
       "    </tr>\n",
       "  </tbody>\n",
       "</table>\n",
       "</div>"
      ],
      "text/plain": [
       "      Akun Twitter                                              Tweet  MBTI  \\\n",
       "0  Abdurrachman181   Bisa aje bapak wkwkwkwk. Yuk pak kayaknya ini...  ESFP   \n",
       "1      abenksepeda   Throwback pic.twitter.com/IxDTb7zydF Bro fork...  ISTJ   \n",
       "2  admiralabdullah   MonKaS https://www.cnnindonesia.com/ekonomi/2...  ESTP   \n",
       "3      alyasuwandi   Semoga Allah segera menyatukn langkahku & lan...  ENFP   \n",
       "4      amaliaaaptr   Aww syg bgt ðŸ–¤ Besok tgl 15 kak, kn hr ini ...  ISFP   \n",
       "\n",
       "         Temp  Following  Followers  Jumlah tweet  introvert  extrovert  \\\n",
       "0  Melankolis        396        356         15500          0          1   \n",
       "1     Koleris        164        835          3277          1          0   \n",
       "2   Sanguinis        314        315           842          0          1   \n",
       "3   Sanguinis        809        221            95          0          1   \n",
       "4  Melankolis        158         61           371          1          0   \n",
       "\n",
       "   sensing  intuitive  feeling  thinking  judging  perceiving  \\\n",
       "0        1          0        1         0        0           1   \n",
       "1        1          0        0         1        1           0   \n",
       "2        1          0        0         1        0           1   \n",
       "3        0          1        1         0        0           1   \n",
       "4        1          0        1         0        0           1   \n",
       "\n",
       "                                        Tweet_Parsed  \n",
       "0  wkwk ayo kayak hijrah klub chelsea buka tangan...  \n",
       "1  throwback bro fork alpina jual insolenya mas p...  \n",
       "2  monkas outstanding move - pepeg grammar minum ...  \n",
       "3  moga allah langkah langkah iring aamiin robbi ...  \n",
       "4  aww syg banget besok tanggal kakak kn hr valen...  "
      ]
     },
     "execution_count": 41,
     "metadata": {},
     "output_type": "execute_result"
    }
   ],
   "source": [
    "data.head()"
   ]
  },
  {
   "cell_type": "markdown",
   "metadata": {},
   "source": [
    "## Split Data "
   ]
  },
  {
   "cell_type": "code",
   "execution_count": 52,
   "metadata": {},
   "outputs": [],
   "source": [
    "X = data[['Tweet_Parsed', 'Temp', 'Following', 'Followers', 'Jumlah tweet', 'introvert', 'extrovert', 'sensing', 'intuitive','feeling','thinking','judging','perceiving', 'Tweet_Parsed']].values\n",
    "y = data['MBTI']\n",
    "X_train, X_test, y_train, y_test = train_test_split(X, y, test_size=0.15, random_state=8)"
   ]
  },
  {
   "cell_type": "code",
   "execution_count": 53,
   "metadata": {},
   "outputs": [
    {
     "data": {
      "text/html": [
       "<div>\n",
       "<style scoped>\n",
       "    .dataframe tbody tr th:only-of-type {\n",
       "        vertical-align: middle;\n",
       "    }\n",
       "\n",
       "    .dataframe tbody tr th {\n",
       "        vertical-align: top;\n",
       "    }\n",
       "\n",
       "    .dataframe thead th {\n",
       "        text-align: right;\n",
       "    }\n",
       "</style>\n",
       "<table border=\"1\" class=\"dataframe\">\n",
       "  <thead>\n",
       "    <tr style=\"text-align: right;\">\n",
       "      <th></th>\n",
       "      <th>Tweet</th>\n",
       "      <th>Temp</th>\n",
       "      <th>Following</th>\n",
       "      <th>Followers</th>\n",
       "      <th>Jumlah tweet</th>\n",
       "      <th>introvert</th>\n",
       "      <th>extrovert</th>\n",
       "      <th>sensing</th>\n",
       "      <th>intuitive</th>\n",
       "      <th>feeling</th>\n",
       "      <th>thinking</th>\n",
       "      <th>judging</th>\n",
       "      <th>perceiving</th>\n",
       "      <th>Tweet_Parsed</th>\n",
       "      <th>MBTI</th>\n",
       "    </tr>\n",
       "  </thead>\n",
       "  <tbody>\n",
       "    <tr>\n",
       "      <th>0</th>\n",
       "      <td>habis pinjemin anj habis ngabisin uang butuh k...</td>\n",
       "      <td>Plegmatis</td>\n",
       "      <td>344</td>\n",
       "      <td>504</td>\n",
       "      <td>25300</td>\n",
       "      <td>1</td>\n",
       "      <td>0</td>\n",
       "      <td>1</td>\n",
       "      <td>0</td>\n",
       "      <td>1</td>\n",
       "      <td>0</td>\n",
       "      <td>0</td>\n",
       "      <td>1</td>\n",
       "      <td>habis pinjemin anj habis ngabisin uang butuh k...</td>\n",
       "      <td>ISFP</td>\n",
       "    </tr>\n",
       "    <tr>\n",
       "      <th>1</th>\n",
       "      <td>cerita ngerogoh kantong celana eh nyata isi da...</td>\n",
       "      <td>Melankolis</td>\n",
       "      <td>371</td>\n",
       "      <td>3941</td>\n",
       "      <td>11600</td>\n",
       "      <td>0</td>\n",
       "      <td>1</td>\n",
       "      <td>1</td>\n",
       "      <td>0</td>\n",
       "      <td>0</td>\n",
       "      <td>1</td>\n",
       "      <td>0</td>\n",
       "      <td>1</td>\n",
       "      <td>cerita ngerogoh kantong celana eh nyata isi da...</td>\n",
       "      <td>ESTP</td>\n",
       "    </tr>\n",
       "    <tr>\n",
       "      <th>2</th>\n",
       "      <td>lupa pasang sign tamat neng masuk rgilangn cha...</td>\n",
       "      <td>Melankolis</td>\n",
       "      <td>426</td>\n",
       "      <td>210</td>\n",
       "      <td>1170</td>\n",
       "      <td>1</td>\n",
       "      <td>0</td>\n",
       "      <td>1</td>\n",
       "      <td>0</td>\n",
       "      <td>1</td>\n",
       "      <td>0</td>\n",
       "      <td>1</td>\n",
       "      <td>0</td>\n",
       "      <td>lupa pasang sign tamat neng masuk rgilangn cha...</td>\n",
       "      <td>ISFJ</td>\n",
       "    </tr>\n",
       "    <tr>\n",
       "      <th>3</th>\n",
       "      <td>laki aniaya perempuan suka trending twitter wa...</td>\n",
       "      <td>Melankolis</td>\n",
       "      <td>212</td>\n",
       "      <td>218</td>\n",
       "      <td>2068</td>\n",
       "      <td>1</td>\n",
       "      <td>0</td>\n",
       "      <td>0</td>\n",
       "      <td>1</td>\n",
       "      <td>1</td>\n",
       "      <td>0</td>\n",
       "      <td>1</td>\n",
       "      <td>0</td>\n",
       "      <td>laki aniaya perempuan suka trending twitter wa...</td>\n",
       "      <td>INFJ</td>\n",
       "    </tr>\n",
       "    <tr>\n",
       "      <th>4</th>\n",
       "      <td>moga tidur nyenyak paham ngomong apaa rv okee ...</td>\n",
       "      <td>Plegmatis</td>\n",
       "      <td>373</td>\n",
       "      <td>424</td>\n",
       "      <td>21600</td>\n",
       "      <td>0</td>\n",
       "      <td>1</td>\n",
       "      <td>0</td>\n",
       "      <td>1</td>\n",
       "      <td>1</td>\n",
       "      <td>0</td>\n",
       "      <td>0</td>\n",
       "      <td>1</td>\n",
       "      <td>moga tidur nyenyak paham ngomong apaa rv okee ...</td>\n",
       "      <td>ENFP</td>\n",
       "    </tr>\n",
       "  </tbody>\n",
       "</table>\n",
       "</div>"
      ],
      "text/plain": [
       "                                               Tweet        Temp Following  \\\n",
       "0  habis pinjemin anj habis ngabisin uang butuh k...   Plegmatis       344   \n",
       "1  cerita ngerogoh kantong celana eh nyata isi da...  Melankolis       371   \n",
       "2  lupa pasang sign tamat neng masuk rgilangn cha...  Melankolis       426   \n",
       "3  laki aniaya perempuan suka trending twitter wa...  Melankolis       212   \n",
       "4  moga tidur nyenyak paham ngomong apaa rv okee ...   Plegmatis       373   \n",
       "\n",
       "  Followers Jumlah tweet introvert extrovert sensing intuitive feeling  \\\n",
       "0       504        25300         1         0       1         0       1   \n",
       "1      3941        11600         0         1       1         0       0   \n",
       "2       210         1170         1         0       1         0       1   \n",
       "3       218         2068         1         0       0         1       1   \n",
       "4       424        21600         0         1       0         1       1   \n",
       "\n",
       "  thinking judging perceiving  \\\n",
       "0        0       0          1   \n",
       "1        1       0          1   \n",
       "2        0       1          0   \n",
       "3        0       1          0   \n",
       "4        0       0          1   \n",
       "\n",
       "                                        Tweet_Parsed  MBTI  \n",
       "0  habis pinjemin anj habis ngabisin uang butuh k...  ISFP  \n",
       "1  cerita ngerogoh kantong celana eh nyata isi da...  ESTP  \n",
       "2  lupa pasang sign tamat neng masuk rgilangn cha...  ISFJ  \n",
       "3  laki aniaya perempuan suka trending twitter wa...  INFJ  \n",
       "4  moga tidur nyenyak paham ngomong apaa rv okee ...  ENFP  "
      ]
     },
     "execution_count": 53,
     "metadata": {},
     "output_type": "execute_result"
    }
   ],
   "source": [
    "data_train = pd.DataFrame({'Tweet': X_train[:, 0], 'Temp': X_train[:, 1], 'Following': X_train[:, 2], 'Followers': X_train[:, 3], 'Jumlah tweet': X_train[:, 4], 'introvert': X_train[:, 5] , 'extrovert': X_train[:, 6], 'sensing': X_train[:, 7], 'intuitive': X_train[:, 8],'feeling': X_train[:, 9],'thinking': X_train[:, 10],'judging': X_train[:, 11],'perceiving': X_train[:, 12] ,'Tweet_Parsed': X_train[:, 13], 'MBTI': y_train.tolist()})\n",
    "data_train.head()"
   ]
  },
  {
   "cell_type": "code",
   "execution_count": 54,
   "metadata": {},
   "outputs": [
    {
     "data": {
      "text/html": [
       "<div>\n",
       "<style scoped>\n",
       "    .dataframe tbody tr th:only-of-type {\n",
       "        vertical-align: middle;\n",
       "    }\n",
       "\n",
       "    .dataframe tbody tr th {\n",
       "        vertical-align: top;\n",
       "    }\n",
       "\n",
       "    .dataframe thead th {\n",
       "        text-align: right;\n",
       "    }\n",
       "</style>\n",
       "<table border=\"1\" class=\"dataframe\">\n",
       "  <thead>\n",
       "    <tr style=\"text-align: right;\">\n",
       "      <th></th>\n",
       "      <th>Tweet</th>\n",
       "      <th>Temp</th>\n",
       "      <th>Following</th>\n",
       "      <th>Followers</th>\n",
       "      <th>Jumlah tweet</th>\n",
       "      <th>introvert</th>\n",
       "      <th>extrovert</th>\n",
       "      <th>sensing</th>\n",
       "      <th>intuitive</th>\n",
       "      <th>feeling</th>\n",
       "      <th>thinking</th>\n",
       "      <th>judging</th>\n",
       "      <th>perceiving</th>\n",
       "      <th>Tweet_Parsed</th>\n",
       "      <th>MBTI</th>\n",
       "    </tr>\n",
       "  </thead>\n",
       "  <tbody>\n",
       "    <tr>\n",
       "      <th>0</th>\n",
       "      <td>buah tanda umur muda bada renta wkwk wkwkkw sa...</td>\n",
       "      <td>Plegmatis</td>\n",
       "      <td>462</td>\n",
       "      <td>605</td>\n",
       "      <td>36200</td>\n",
       "      <td>1</td>\n",
       "      <td>0</td>\n",
       "      <td>0</td>\n",
       "      <td>1</td>\n",
       "      <td>1</td>\n",
       "      <td>0</td>\n",
       "      <td>1</td>\n",
       "      <td>0</td>\n",
       "      <td>buah tanda umur muda bada renta wkwk wkwkkw sa...</td>\n",
       "      <td>INFJ</td>\n",
       "    </tr>\n",
       "    <tr>\n",
       "      <th>1</th>\n",
       "      <td>topik topik hidayat wkwk bgtkapan yah bdg sela...</td>\n",
       "      <td>Plegmatis</td>\n",
       "      <td>33</td>\n",
       "      <td>13</td>\n",
       "      <td>62</td>\n",
       "      <td>1</td>\n",
       "      <td>0</td>\n",
       "      <td>0</td>\n",
       "      <td>1</td>\n",
       "      <td>1</td>\n",
       "      <td>0</td>\n",
       "      <td>1</td>\n",
       "      <td>0</td>\n",
       "      <td>topik topik hidayat wkwk bgtkapan yah bdg sela...</td>\n",
       "      <td>INFJ</td>\n",
       "    </tr>\n",
       "    <tr>\n",
       "      <th>2</th>\n",
       "      <td>mr nadiem damn brilliant beli arcanaku ngomong...</td>\n",
       "      <td>Melankolis</td>\n",
       "      <td>424</td>\n",
       "      <td>1302</td>\n",
       "      <td>25200</td>\n",
       "      <td>1</td>\n",
       "      <td>0</td>\n",
       "      <td>0</td>\n",
       "      <td>1</td>\n",
       "      <td>1</td>\n",
       "      <td>0</td>\n",
       "      <td>0</td>\n",
       "      <td>1</td>\n",
       "      <td>mr nadiem damn brilliant beli arcanaku ngomong...</td>\n",
       "      <td>INFP</td>\n",
       "    </tr>\n",
       "    <tr>\n",
       "      <th>3</th>\n",
       "      <td>sepatu kucing orang sudut pandang luas lihat k...</td>\n",
       "      <td>Koleris</td>\n",
       "      <td>187</td>\n",
       "      <td>293</td>\n",
       "      <td>5127</td>\n",
       "      <td>1</td>\n",
       "      <td>0</td>\n",
       "      <td>1</td>\n",
       "      <td>0</td>\n",
       "      <td>0</td>\n",
       "      <td>1</td>\n",
       "      <td>1</td>\n",
       "      <td>0</td>\n",
       "      <td>sepatu kucing orang sudut pandang luas lihat k...</td>\n",
       "      <td>ISTJ</td>\n",
       "    </tr>\n",
       "    <tr>\n",
       "      <th>4</th>\n",
       "      <td>google scholar ieeexplore hai angkat tangan wa...</td>\n",
       "      <td>Plegmatis</td>\n",
       "      <td>179</td>\n",
       "      <td>14</td>\n",
       "      <td>116</td>\n",
       "      <td>1</td>\n",
       "      <td>0</td>\n",
       "      <td>1</td>\n",
       "      <td>0</td>\n",
       "      <td>0</td>\n",
       "      <td>1</td>\n",
       "      <td>0</td>\n",
       "      <td>1</td>\n",
       "      <td>google scholar ieeexplore hai angkat tangan wa...</td>\n",
       "      <td>ISTP</td>\n",
       "    </tr>\n",
       "  </tbody>\n",
       "</table>\n",
       "</div>"
      ],
      "text/plain": [
       "                                               Tweet        Temp Following  \\\n",
       "0  buah tanda umur muda bada renta wkwk wkwkkw sa...   Plegmatis       462   \n",
       "1  topik topik hidayat wkwk bgtkapan yah bdg sela...   Plegmatis        33   \n",
       "2  mr nadiem damn brilliant beli arcanaku ngomong...  Melankolis       424   \n",
       "3  sepatu kucing orang sudut pandang luas lihat k...     Koleris       187   \n",
       "4  google scholar ieeexplore hai angkat tangan wa...   Plegmatis       179   \n",
       "\n",
       "  Followers Jumlah tweet introvert extrovert sensing intuitive feeling  \\\n",
       "0       605        36200         1         0       0         1       1   \n",
       "1        13           62         1         0       0         1       1   \n",
       "2      1302        25200         1         0       0         1       1   \n",
       "3       293         5127         1         0       1         0       0   \n",
       "4        14          116         1         0       1         0       0   \n",
       "\n",
       "  thinking judging perceiving  \\\n",
       "0        0       1          0   \n",
       "1        0       1          0   \n",
       "2        0       0          1   \n",
       "3        1       1          0   \n",
       "4        1       0          1   \n",
       "\n",
       "                                        Tweet_Parsed  MBTI  \n",
       "0  buah tanda umur muda bada renta wkwk wkwkkw sa...  INFJ  \n",
       "1  topik topik hidayat wkwk bgtkapan yah bdg sela...  INFJ  \n",
       "2  mr nadiem damn brilliant beli arcanaku ngomong...  INFP  \n",
       "3  sepatu kucing orang sudut pandang luas lihat k...  ISTJ  \n",
       "4  google scholar ieeexplore hai angkat tangan wa...  ISTP  "
      ]
     },
     "execution_count": 54,
     "metadata": {},
     "output_type": "execute_result"
    }
   ],
   "source": [
    "data_test = pd.DataFrame({'Tweet': X_test[:, 0], 'Temp': X_test[:, 1], 'Following': X_test[:, 2], 'Followers': X_test[:, 3], 'Jumlah tweet': X_test[:, 4], 'introvert': X_test[:, 5] , 'extrovert': X_test[:, 6], 'sensing': X_test[:, 7], 'intuitive': X_test[:, 8],'feeling': X_test[:, 9],'thinking': X_test[:, 10],'judging': X_test[:, 11],'perceiving': X_test[:, 12] ,'Tweet_Parsed': X_test[:, 13], 'MBTI': y_test.tolist()})\n",
    "data_test.head()"
   ]
  },
  {
   "cell_type": "code",
   "execution_count": 56,
   "metadata": {},
   "outputs": [],
   "source": [
    "data_test.to_excel(\"data_test.xlsx\")\n",
    "data_train.to_excel(\"data_train.xlsx\")"
   ]
  },
  {
   "cell_type": "code",
   "execution_count": null,
   "metadata": {},
   "outputs": [],
   "source": []
  }
 ],
 "metadata": {
  "kernelspec": {
   "display_name": "Python 3",
   "language": "python",
   "name": "python3"
  },
  "language_info": {
   "codemirror_mode": {
    "name": "ipython",
    "version": 3
   },
   "file_extension": ".py",
   "mimetype": "text/x-python",
   "name": "python",
   "nbconvert_exporter": "python",
   "pygments_lexer": "ipython3",
   "version": "3.7.2"
  }
 },
 "nbformat": 4,
 "nbformat_minor": 2
}
